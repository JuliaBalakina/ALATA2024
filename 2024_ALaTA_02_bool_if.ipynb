{
  "cells": [
    {
      "cell_type": "markdown",
      "metadata": {
        "id": "view-in-github",
        "colab_type": "text"
      },
      "source": [
        "<a href=\"https://colab.research.google.com/github/JuliaBalakina/ALATA2024/blob/main/2024_ALaTA_02_bool_if.ipynb\" target=\"_parent\"><img src=\"https://colab.research.google.com/assets/colab-badge.svg\" alt=\"Open In Colab\"/></a>"
      ]
    },
    {
      "cell_type": "markdown",
      "metadata": {
        "id": "v0Q3vRnT0maG"
      },
      "source": [
        "### Variables\n",
        "\n",
        "A **variable** is a name that refers to a value.\n",
        "\n",
        "An **assignment statement** creates new variables and gives them values:\n",
        "\n",
        "x = 2\n",
        "\n",
        "message = 'And now for something completely different'\n",
        "\n",
        "This example makes two assignments. The first assigns the integer 2 to x; the second assigns a string to a new variable\n",
        "named \"message\".\n",
        "\n",
        "To display the value of a variable, you can use a print statement:\n",
        ">print(x)\n",
        "\n",
        ">2\n",
        "\n",
        ">print(message)\n",
        "\n",
        ">'And now for something completely different'\n",
        "\n",
        "The type of a variable is the type of the value it refers to.\n",
        "\n",
        ">type(message)\n",
        "\n",
        "><class 'str'>\n",
        "\n",
        ">type(x)\n",
        "\n",
        "><class 'int'>\n",
        "\n",
        "Variable names can be arbitrarily long. They can contain both letters and numbers,\n",
        "but **they cannot start with a number**. It is legal to use uppercase letters, but it is\n",
        "a good idea to begin variable names with a lowercase letter.\n",
        "The underscore character ( _ ) can appear in a name. It is often used in names with\n",
        "multiple words, such as my_name or airspeed_of_unladen_swallow.\n",
        "\n",
        "*If you give a variable an illegal name, you get a syntax error:*\n",
        "\n",
        ">76trombones = 'big parade'\n",
        "\n",
        ">SyntaxError: invalid syntax\n",
        "\n",
        "Python reserves **35 keywords which cannot be used as variable\n",
        "names:**\n",
        "\n",
        "> and  del  from  None  True\n",
        "\n",
        ">as elif global nonlocal try\n",
        "\n",
        ">assert else if not while\n",
        "\n",
        ">break except import or with\n",
        "\n",
        ">class False in pass yield\n",
        "\n",
        ">continue finally is raise async\n",
        "\n",
        ">def for lambda return await\n",
        "\n"
      ]
    },
    {
      "cell_type": "code",
      "source": [
        "def=1"
      ],
      "metadata": {
        "colab": {
          "base_uri": "https://localhost:8080/",
          "height": 109
        },
        "id": "mUxSPNrF1-_v",
        "outputId": "f1e6d562-1779-43bf-dd4d-076fdf17e9dc"
      },
      "execution_count": 1,
      "outputs": [
        {
          "output_type": "error",
          "ename": "SyntaxError",
          "evalue": "invalid syntax (<ipython-input-1-b50f2b75f56e>, line 1)",
          "traceback": [
            "\u001b[0;36m  File \u001b[0;32m\"<ipython-input-1-b50f2b75f56e>\"\u001b[0;36m, line \u001b[0;32m1\u001b[0m\n\u001b[0;31m    def=1\u001b[0m\n\u001b[0m       ^\u001b[0m\n\u001b[0;31mSyntaxError\u001b[0m\u001b[0;31m:\u001b[0m invalid syntax\n"
          ]
        }
      ]
    },
    {
      "cell_type": "markdown",
      "metadata": {
        "id": "T4yJQsft0maL"
      },
      "source": [
        "### Changing value\n",
        "\n",
        ">gamma = 1\n",
        "\n",
        ">gamma = 2\n",
        "\n",
        "Suppose we have these two lines of Python.\n",
        "\n",
        "Python let you set a name for a value and then change it.\n",
        "\n",
        "\n"
      ]
    },
    {
      "cell_type": "code",
      "execution_count": 2,
      "metadata": {
        "id": "3v2ramx20maL",
        "outputId": "bd11f264-3dfc-46df-80ca-6c71400a1b89",
        "colab": {
          "base_uri": "https://localhost:8080/"
        }
      },
      "outputs": [
        {
          "output_type": "stream",
          "name": "stdout",
          "text": [
            "3 2\n"
          ]
        }
      ],
      "source": [
        "a = 2\n",
        "b = 3\n",
        "temp = b ## 3\n",
        "b = a ##2\n",
        "a = temp ## 3\n",
        "print(a,b)\n"
      ]
    },
    {
      "cell_type": "code",
      "execution_count": null,
      "metadata": {
        "id": "IUv5Liyz0maJ",
        "outputId": "b0eaa25b-b886-4da4-b5e7-6a176a90ff4a"
      },
      "outputs": [
        {
          "name": "stdout",
          "output_type": "stream",
          "text": [
            "3 3\n"
          ]
        }
      ],
      "source": [
        "a = 2\n",
        "b = 3\n",
        "a = b ## a=3\n",
        "b = a ## b=3\n",
        "print(a,b)"
      ]
    },
    {
      "cell_type": "code",
      "execution_count": null,
      "metadata": {
        "id": "udwZp4EW0maK",
        "outputId": "4ac82b65-b516-45ba-bad6-a4745f9686e1"
      },
      "outputs": [
        {
          "name": "stdout",
          "output_type": "stream",
          "text": [
            "2\n",
            "2\n"
          ]
        }
      ],
      "source": [
        "a=2\n",
        "b=3\n",
        "b=a\n",
        "print(b)\n",
        "print(a)"
      ]
    },
    {
      "cell_type": "code",
      "source": [
        "a,b,c =1,2,3\n",
        "a,b,c=c,a,b\n",
        "print(a,b,c) # a=3, b=1, c=2"
      ],
      "metadata": {
        "id": "PwdGK0EvYOFE",
        "colab": {
          "base_uri": "https://localhost:8080/"
        },
        "outputId": "2a767989-dd16-400b-befa-26ba58ed096d"
      },
      "execution_count": 3,
      "outputs": [
        {
          "output_type": "stream",
          "name": "stdout",
          "text": [
            "3 1 2\n"
          ]
        }
      ]
    },
    {
      "cell_type": "code",
      "execution_count": null,
      "metadata": {
        "id": "AiMfi24O0maM",
        "outputId": "705d1b82-ea8d-43e3-c735-1a71c36cfe99"
      },
      "outputs": [
        {
          "name": "stdout",
          "output_type": "stream",
          "text": [
            "Dasha Masha\n"
          ]
        }
      ],
      "source": [
        "student1 = 'Masha'\n",
        "student2 = 'Dasha'\n",
        "temp = \"Masha\"\n",
        "student1 = student2\n",
        "student2 =temp\n",
        "print(student1,student2)"
      ]
    },
    {
      "cell_type": "code",
      "execution_count": null,
      "metadata": {
        "id": "YvXwkin80maM",
        "outputId": "fdee5764-dd4d-44a5-a8a7-a98313ddd359"
      },
      "outputs": [
        {
          "name": "stdout",
          "output_type": "stream",
          "text": [
            "John Black\n"
          ]
        }
      ],
      "source": [
        "name = 'John'\n",
        "surname = 'Black'\n",
        "print (name, surname)"
      ]
    },
    {
      "cell_type": "code",
      "execution_count": null,
      "metadata": {
        "id": "eeosZHMd0maM",
        "outputId": "2b679416-e243-4ca2-818a-b9b2342f292d"
      },
      "outputs": [
        {
          "name": "stdout",
          "output_type": "stream",
          "text": [
            "Black John\n"
          ]
        }
      ],
      "source": [
        "name = 'John'\n",
        "surname = 'Black'\n",
        "tempor = name #John\n",
        "name = surname # Black\n",
        "surname = tempor\n",
        "print (name, surname)\n"
      ]
    },
    {
      "cell_type": "code",
      "source": [
        "name = 'John'\n",
        "surname = 'Black'\n",
        "name,surname = surname,name\n",
        "print (name, surname)"
      ],
      "metadata": {
        "colab": {
          "base_uri": "https://localhost:8080/"
        },
        "id": "-nJcgvlMf6rZ",
        "outputId": "03cbaf35-16ae-427b-c25b-53902e9b9497"
      },
      "execution_count": null,
      "outputs": [
        {
          "output_type": "stream",
          "name": "stdout",
          "text": [
            "Black John\n"
          ]
        }
      ]
    },
    {
      "cell_type": "markdown",
      "source": [
        "**Task 1**\n",
        "\n",
        "Enter two integers A,B, each on a new line.\n",
        "\n",
        "Exchange values using an auxiliary variable.\n",
        "\n",
        "Print the values of the variables in one line."
      ],
      "metadata": {
        "id": "HXqwYXP1Yba9"
      }
    },
    {
      "cell_type": "code",
      "source": [
        "a = int(input())\n",
        "b = int(input())\n",
        "temp = b # temp=2\n",
        "b = a # b=1\n",
        "a=temp\n",
        "print(a, b)"
      ],
      "metadata": {
        "id": "c_9ZRqZHY9S8",
        "colab": {
          "base_uri": "https://localhost:8080/"
        },
        "outputId": "58419ea4-4c2e-47e9-85a5-9500a0da03ac"
      },
      "execution_count": 5,
      "outputs": [
        {
          "output_type": "stream",
          "name": "stdout",
          "text": [
            "1\n",
            "2\n",
            "2 1\n"
          ]
        }
      ]
    },
    {
      "cell_type": "markdown",
      "source": [
        "**Task 2 home assignment**\n",
        "\n",
        "Enter two natural numbers A,B, each in its own row.\n",
        "\n",
        "Exchange values without an auxiliary variable.\n",
        "\n",
        "Print the values of the variables in one line.\n"
      ],
      "metadata": {
        "id": "LH4sDV8AZtWS"
      }
    },
    {
      "cell_type": "code",
      "source": [],
      "metadata": {
        "id": "e4OVux8zZ8Kb"
      },
      "execution_count": null,
      "outputs": []
    },
    {
      "cell_type": "code",
      "source": [],
      "metadata": {
        "id": "dZ0YCsHoa5we"
      },
      "execution_count": null,
      "outputs": []
    },
    {
      "cell_type": "markdown",
      "source": [
        "**Task 3 home assignment**\n",
        "\n",
        "Enter three integers A,B,C each in its own row.\n",
        "\n",
        "Exchange values without an auxiliary variable.\n",
        "\n",
        "Print the values of the variables in one line."
      ],
      "metadata": {
        "id": "b9XgZ1z8bSho"
      }
    },
    {
      "cell_type": "code",
      "source": [],
      "metadata": {
        "id": "jOiNcRdGbRxj"
      },
      "execution_count": null,
      "outputs": []
    },
    {
      "cell_type": "markdown",
      "source": [
        "**Task 4 home assignment**\n",
        "\n",
        "Enter three integers A,B,C each in its own row.\n",
        "\n",
        "Assign each variable the value of the sum of the other two.\n",
        "\n",
        "A=B+C etc.\n",
        "Print the variables"
      ],
      "metadata": {
        "id": "8EuCkke1cGzK"
      }
    },
    {
      "cell_type": "code",
      "source": [],
      "metadata": {
        "id": "O13C8P5icnuL"
      },
      "execution_count": null,
      "outputs": []
    },
    {
      "cell_type": "markdown",
      "metadata": {
        "id": "V1MHxE5O0maM"
      },
      "source": [
        "# Task 5 home assignment\n",
        "3 people participated in a song contest: Jack,Bill and Max. The Jury made a mistake when assigning the places:\n",
        "\n",
        "place_1 = 'Jack'\n",
        "place_2 = 'Bill'\n",
        "place_3 = 'Max'\n",
        "\n",
        " It should go like this:\n",
        "place_1 = 'Bill'\n",
        "place_2 = 'Max'\n",
        "place_3 = 'Jack'\n",
        "\n",
        "Write a code which will change the order.\n",
        "Your output:\n",
        "\n",
        "print(place_1,place_2,place_3)\n",
        "\n",
        "Bill,Max,Jack"
      ]
    },
    {
      "cell_type": "code",
      "execution_count": null,
      "metadata": {
        "id": "4h7M2kdD0maN"
      },
      "outputs": [],
      "source": [
        "place_1 = 'Jack'\n",
        "place_2 = 'Bill'\n",
        "place_3 = 'Max'\n",
        "\n"
      ]
    },
    {
      "cell_type": "code",
      "execution_count": null,
      "metadata": {
        "id": "p69RMpKw0maN"
      },
      "outputs": [],
      "source": []
    },
    {
      "cell_type": "markdown",
      "metadata": {
        "id": "CDXW8VY00maN"
      },
      "source": [
        "### Syntactic sugar\n",
        "\n",
        ">x += 10  (x = x + 10)\n",
        "\n",
        ">x -= 10                     (x = x - 10)\n",
        "\n",
        ">x *= 10                     (x = x * 10)\n",
        "\n",
        ">x /= 10      (x = x / 10)\n",
        "\n",
        ">x * *= 10                   (x = x * * 10)\n",
        "\n",
        ">x %= 10                    (x = x % 10)\n",
        "\n"
      ]
    },
    {
      "cell_type": "code",
      "execution_count": null,
      "metadata": {
        "id": "YomCD2tV0maN",
        "outputId": "8e6150db-428c-46b1-ea53-51689ed3a633"
      },
      "outputs": [
        {
          "data": {
            "text/plain": [
              "15"
            ]
          },
          "execution_count": 1,
          "metadata": {},
          "output_type": "execute_result"
        }
      ],
      "source": [
        "x = 3\n",
        "x*=5 ## x = x*5\n",
        "print(x)"
      ]
    },
    {
      "cell_type": "code",
      "execution_count": null,
      "metadata": {
        "id": "PTRyosEh0maN",
        "outputId": "5ff9ee76-509d-478b-ff67-6cc3b6ceb73f"
      },
      "outputs": [
        {
          "name": "stdout",
          "output_type": "stream",
          "text": [
            "4\n"
          ]
        }
      ],
      "source": [
        "x=2\n",
        "x**=2\n",
        "print(x)"
      ]
    },
    {
      "cell_type": "markdown",
      "metadata": {
        "id": "6tGfUUKR0maN"
      },
      "source": [
        "### Deleting a name\n",
        "\n",
        "To delete the attachment we use the Python command “del”.\n",
        "\n",
        "x = 3\n",
        "\n",
        "del x\n"
      ]
    },
    {
      "cell_type": "code",
      "execution_count": null,
      "metadata": {
        "id": "vPBsf1hI0maO",
        "outputId": "193fd689-20a4-4179-a884-ed25a2e146ec"
      },
      "outputs": [
        {
          "ename": "NameError",
          "evalue": "name 'x' is not defined",
          "output_type": "error",
          "traceback": [
            "\u001b[1;31m---------------------------------------------------------------------------\u001b[0m",
            "\u001b[1;31mNameError\u001b[0m                                 Traceback (most recent call last)",
            "\u001b[1;32m<ipython-input-3-72c84b21ae87>\u001b[0m in \u001b[0;36m<module>\u001b[1;34m\u001b[0m\n\u001b[0;32m      1\u001b[0m \u001b[0mx\u001b[0m \u001b[1;33m=\u001b[0m \u001b[1;36m3\u001b[0m\u001b[1;33m\u001b[0m\u001b[1;33m\u001b[0m\u001b[0m\n\u001b[0;32m      2\u001b[0m \u001b[1;32mdel\u001b[0m \u001b[0mx\u001b[0m\u001b[1;33m\u001b[0m\u001b[1;33m\u001b[0m\u001b[0m\n\u001b[1;32m----> 3\u001b[1;33m \u001b[0mprint\u001b[0m \u001b[1;33m(\u001b[0m\u001b[0mx\u001b[0m\u001b[1;33m)\u001b[0m\u001b[1;33m\u001b[0m\u001b[1;33m\u001b[0m\u001b[0m\n\u001b[0m",
            "\u001b[1;31mNameError\u001b[0m: name 'x' is not defined"
          ]
        }
      ],
      "source": [
        "x = 3\n",
        "del x\n",
        "print (x)"
      ]
    },
    {
      "cell_type": "markdown",
      "metadata": {
        "id": "ufirAawB0maO"
      },
      "source": [
        "### Boolean Expressions\n",
        "\n",
        "\n",
        "**True** and **False** are (the only) two values of a special Python type called a “Boolean” used for\n",
        "recording whether something is true or not.\n",
        "\n",
        "You can turn something into a boolean variable using the **bool ()** function.\n",
        "\n",
        "If you convert numbers then - 0 will turn into False, everything else - True."
      ]
    },
    {
      "cell_type": "code",
      "execution_count": null,
      "metadata": {
        "id": "1sSLe9zY0maO",
        "outputId": "31a3d20b-30b3-4047-ba6d-4751c8c4984a"
      },
      "outputs": [
        {
          "name": "stdout",
          "output_type": "stream",
          "text": [
            "<class 'bool'> <class 'bool'>\n"
          ]
        }
      ],
      "source": [
        "print(type(True), type(False))"
      ]
    },
    {
      "cell_type": "code",
      "execution_count": null,
      "metadata": {
        "id": "71wC5lq-0maO",
        "outputId": "4f3a8c8c-5388-4cc2-92b8-028213fb51f8"
      },
      "outputs": [
        {
          "name": "stdout",
          "output_type": "stream",
          "text": [
            "False\n",
            "True\n",
            "True\n"
          ]
        }
      ],
      "source": [
        "print(bool(0))\n",
        "print(bool(23))\n",
        "print(bool(-10))"
      ]
    },
    {
      "cell_type": "markdown",
      "metadata": {
        "id": "gll9IQjs0maO"
      },
      "source": [
        "An empty string is converted to False, all other strings to True.\n",
        "\n",
        "The boolean variable can be converted to **int**  - zero and one."
      ]
    },
    {
      "cell_type": "code",
      "execution_count": null,
      "metadata": {
        "id": "8-AACuMX0maP",
        "outputId": "100f8fdd-ac5e-41f3-97a3-41e867e714bd"
      },
      "outputs": [
        {
          "name": "stdout",
          "output_type": "stream",
          "text": [
            "False\n",
            "True\n"
          ]
        }
      ],
      "source": [
        "print(bool())\n",
        "print(bool('k'))"
      ]
    },
    {
      "cell_type": "code",
      "execution_count": null,
      "metadata": {
        "id": "2cKU34a90maP",
        "outputId": "c3432bba-4036-4115-bd3e-63695145e7c5"
      },
      "outputs": [
        {
          "name": "stdout",
          "output_type": "stream",
          "text": [
            "1\n",
            "0\n"
          ]
        }
      ],
      "source": [
        "print(int(True))\n",
        "print(int(False))"
      ]
    },
    {
      "cell_type": "markdown",
      "metadata": {
        "id": "epsakIAj0maP"
      },
      "source": [
        "### Comparison Operators\n",
        "\n",
        "Boolean expressions ask a question and produce a **Yes** or **No** result which we use to control program flow\n",
        "\n",
        "Boolean expressions using comparison operators evaluate to True / False or Yes / No\n",
        "\n",
        "Comparison operators look at variables but do not change the variables\n",
        "\n",
        "\n",
        "    == (Equal to)\n",
        "    != (Not equal)\n",
        "    > (Greater than)\n",
        "    < (Less than)\n",
        "    >= (Greater than or equal to)\n",
        "    <= (Less than or equal to)\n",
        "\n"
      ]
    },
    {
      "cell_type": "code",
      "execution_count": null,
      "metadata": {
        "id": "vlweLDiQ0maQ",
        "outputId": "98a998c2-5c6b-4bdb-ab7a-f46cbb2d0505",
        "colab": {
          "base_uri": "https://localhost:8080/"
        }
      },
      "outputs": [
        {
          "output_type": "stream",
          "name": "stdout",
          "text": [
            "True\n",
            "True\n",
            "False\n",
            "False\n",
            "<class 'bool'>\n",
            "True\n"
          ]
        }
      ],
      "source": [
        "print(1 == 1)\n",
        "print(1 != '1')\n",
        "print (1 != int('1'))\n",
        "c = 1 > 3\n",
        "print(c)\n",
        "print(type(c))\n",
        "x = 5\n",
        "print(1 < x <= 5) # 1<x and x<=5"
      ]
    },
    {
      "cell_type": "markdown",
      "metadata": {
        "id": "H3gbdY5P0maQ"
      },
      "source": [
        "### Logical operators\n",
        "\n",
        "      AND - expression is true only when both sides are true, otherwise it is false\n",
        "      OR (or) - expression is false only when both parts are false, otherwise it is true\n",
        "      negation (not) - This takes only one input and “flips” it. True becomes False and vice versa.\n",
        "\n"
      ]
    },
    {
      "cell_type": "code",
      "execution_count": null,
      "metadata": {
        "id": "S57cKDtC0maQ",
        "outputId": "d34ac889-6c83-4079-9515-400e8a65cfc9"
      },
      "outputs": [
        {
          "name": "stdout",
          "output_type": "stream",
          "text": [
            "False\n",
            "True\n",
            "False\n",
            "True\n"
          ]
        }
      ],
      "source": [
        "print((1 == 1) and ('1' == 1))\n",
        "print(('1' == 1) or (1 == 1))\n",
        "print(not(1 == 1))\n",
        "print(((1 == 1) or ('1' == 1)) and (2 == 2))"
      ]
    },
    {
      "cell_type": "markdown",
      "metadata": {
        "id": "BpizkuCk0maR"
      },
      "source": [
        "# Task 6\n",
        "\n",
        "Prompt the user for an integer.\n",
        "\n",
        "Create an expression checking whether the user's input is larger than 0 and smaller than 100.\n",
        "\n",
        "Output should return \"True\" or \"False\""
      ]
    },
    {
      "cell_type": "code",
      "execution_count": null,
      "metadata": {
        "id": "1ZAdQboL0maR"
      },
      "outputs": [],
      "source": []
    },
    {
      "cell_type": "code",
      "execution_count": null,
      "metadata": {
        "id": "y9enHfVE0maR"
      },
      "outputs": [],
      "source": [
        "\n"
      ]
    },
    {
      "cell_type": "code",
      "execution_count": null,
      "metadata": {
        "id": "N31c0CQ00maS"
      },
      "outputs": [],
      "source": [
        "\n"
      ]
    },
    {
      "cell_type": "markdown",
      "metadata": {
        "id": "jN_6FX1i0maS"
      },
      "source": [
        "# Task 7\n",
        "\n",
        "Prompt the user for three integers.\n",
        "\n",
        "Create an expression comparing them.\n",
        "\n",
        "If two of them are equal - \"True\"\n",
        "\n",
        "If they are all equal - \"True\"\n"
      ]
    },
    {
      "cell_type": "code",
      "execution_count": null,
      "metadata": {
        "id": "bnq_wvxw0maS",
        "colab": {
          "base_uri": "https://localhost:8080/"
        },
        "outputId": "b6c57351-d1bd-42a4-c626-c364846a907d"
      },
      "outputs": [
        {
          "output_type": "stream",
          "name": "stdout",
          "text": [
            "True\n"
          ]
        }
      ],
      "source": []
    },
    {
      "cell_type": "code",
      "execution_count": null,
      "metadata": {
        "id": "PQoz-9dw0maT"
      },
      "outputs": [],
      "source": []
    },
    {
      "cell_type": "code",
      "execution_count": null,
      "metadata": {
        "id": "PhwnQMED0maT"
      },
      "outputs": [],
      "source": []
    },
    {
      "cell_type": "code",
      "execution_count": null,
      "metadata": {
        "id": "phP8nwuc0maT"
      },
      "outputs": [],
      "source": []
    },
    {
      "cell_type": "markdown",
      "metadata": {
        "id": "vxZE8m470maT"
      },
      "source": [
        "### Task 8\n",
        "\n",
        "Vasya went to Italy to study. The only store in the city is open **from 6 am to 8 am and from 4 pm to 5 pm**. Vasya has not been able to get to the store for several days and is suffering from hunger. He can come to the store at X o'clock. If the store is open at X hours, then output should be ***True***, and if it is closed, output -  ***False***.\n",
        "\n",
        "Input contains an integer X ( from 0 to 23 )\n",
        "\n",
        "Output format: True or False\n",
        "\n",
        "Example:\n",
        "\n",
        "Input data: 16\n",
        "\n",
        "Output of the program: True"
      ]
    },
    {
      "cell_type": "code",
      "execution_count": null,
      "metadata": {
        "id": "Yp2wqnr30maT"
      },
      "outputs": [],
      "source": []
    },
    {
      "cell_type": "code",
      "execution_count": null,
      "metadata": {
        "id": "ldDXGsVV0mac"
      },
      "outputs": [],
      "source": []
    },
    {
      "cell_type": "code",
      "source": [],
      "metadata": {
        "id": "fxwL3hYPsGes"
      },
      "execution_count": null,
      "outputs": []
    },
    {
      "cell_type": "markdown",
      "metadata": {
        "id": "yTQk6vjq0mac"
      },
      "source": [
        "### Conditional execution\n",
        "\n",
        "In order to write useful programs, we almost always need the ability to check conditions\n",
        "and change the behavior of the program accordingly. Conditional statements\n",
        "give us this ability. The simplest form is the if statement:\n",
        "\n",
        ">if x > 0 :\n",
        "\n",
        ">>print('x is positive')\n",
        "\n",
        "The boolean expression after the if statement is called ***the condition***. We end the\n",
        "if statement with a colon character (:) and the line(s) after the if statement are\n",
        "indented.  \n",
        "If the logical condition is true, then the indented statement gets executed. If the\n",
        "logical condition is false, the indented statement is skipped."
      ]
    },
    {
      "cell_type": "code",
      "execution_count": null,
      "metadata": {
        "id": "VrLpgRzB0mad",
        "outputId": "3fdc5d04-e46e-4014-c494-fd4917dc384f",
        "colab": {
          "base_uri": "https://localhost:8080/"
        }
      },
      "outputs": [
        {
          "output_type": "stream",
          "name": "stdout",
          "text": [
            "1\n",
            "1\n"
          ]
        }
      ],
      "source": [
        "x=int(input())\n",
        "if x>0:\n",
        "    print(x)"
      ]
    },
    {
      "cell_type": "code",
      "execution_count": null,
      "metadata": {
        "id": "pzN44Mzg0mad",
        "outputId": "a187bb2c-961d-421d-b85e-b5e6c2558658"
      },
      "outputs": [
        {
          "name": "stdout",
          "output_type": "stream",
          "text": [
            "Greater than 4\n",
            "Greater than or Equals 5\n",
            "Not equal 6\n"
          ]
        }
      ],
      "source": [
        "x = 50\n",
        "if x == 5 :\n",
        "    print('Equals 5')\n",
        "if x > 4 :\n",
        "    print('Greater than 4')\n",
        "if  x >= 5 :\n",
        "    print('Greater than or Equals 5')\n",
        "if x < 6 :\n",
        "    print('Less than 6')\n",
        "if x <= 5 :\n",
        "    print('Less than or Equals 5')\n",
        "if x != 6 :\n",
        "    print('Not equal 6')"
      ]
    },
    {
      "cell_type": "markdown",
      "source": [
        "**Task 9**\n",
        "\n",
        "Create a program that outputs the entered number only if it is greater than 10."
      ],
      "metadata": {
        "id": "08j_QM8ajt1X"
      }
    },
    {
      "cell_type": "code",
      "source": [],
      "metadata": {
        "id": "bsJQtSaIk9zM"
      },
      "execution_count": null,
      "outputs": []
    },
    {
      "cell_type": "markdown",
      "source": [
        "**Task 10**\n",
        "\n",
        "Create a program that outputs the larger of the two numbers entered."
      ],
      "metadata": {
        "id": "ttxAkht-k-Tw"
      }
    },
    {
      "cell_type": "code",
      "source": [],
      "metadata": {
        "id": "zEZqoYVKlJir"
      },
      "execution_count": null,
      "outputs": []
    },
    {
      "cell_type": "markdown",
      "source": [
        "**Task 11**\n",
        "\n",
        "Create a program that determines for an integer whether it is divisible by 3."
      ],
      "metadata": {
        "id": "hbXZadiPljGk"
      }
    },
    {
      "cell_type": "code",
      "source": [],
      "metadata": {
        "id": "XZ2kcu-QlnPT"
      },
      "execution_count": null,
      "outputs": []
    },
    {
      "cell_type": "markdown",
      "source": [
        "**Task 12**\n",
        "\n",
        "Create a program that determines for two integers whether their residues differ from dividing by 5.\n",
        "\n",
        "Example: for 6 and 11 the residues are equal (1)\n"
      ],
      "metadata": {
        "id": "B7PfyQCVANOn"
      }
    },
    {
      "cell_type": "code",
      "source": [],
      "metadata": {
        "id": "jRTOnn87AnZz"
      },
      "execution_count": null,
      "outputs": []
    },
    {
      "cell_type": "code",
      "source": [],
      "metadata": {
        "id": "EAtJkO6hAovQ"
      },
      "execution_count": null,
      "outputs": []
    },
    {
      "cell_type": "markdown",
      "source": [
        "**Task 13**\n",
        "\n",
        "Create a program that outputs \"Yes\" for two entered integers if one of them is exactly twice as large as the other, and \"No\" in all other cases.\n"
      ],
      "metadata": {
        "id": "dbHfOetFAn_E"
      }
    },
    {
      "cell_type": "code",
      "source": [],
      "metadata": {
        "id": "BNbQzTvLBH1x"
      },
      "execution_count": null,
      "outputs": []
    },
    {
      "cell_type": "markdown",
      "source": [
        "**Task 14**\n",
        "\n",
        "Create a program that outputs \"Yes\" if the entered integer is greater than 200 or divisible by 2 and \"No\" in all other cases."
      ],
      "metadata": {
        "id": "5mCsXuAvBIQi"
      }
    },
    {
      "cell_type": "code",
      "source": [],
      "metadata": {
        "id": "gGbgZ6rQBkKs"
      },
      "execution_count": null,
      "outputs": []
    },
    {
      "cell_type": "markdown",
      "source": [
        "**Task 15**\n",
        "\n",
        "Create a program that outputs \"Yes\" if the remainder of the division by 3 of the entered number matches the remainder of the division by 3 of the number 2023 and \"No\" otherwise."
      ],
      "metadata": {
        "id": "9Mwz7FvfBkjn"
      }
    },
    {
      "cell_type": "code",
      "source": [],
      "metadata": {
        "id": "wnuQq4PYCDvX"
      },
      "execution_count": null,
      "outputs": []
    },
    {
      "cell_type": "markdown",
      "source": [
        "**Task 16**\n",
        "Write a programme which tells you what to wear or take depending on the weather.\n",
        "\n",
        "Input: the weather (2 options)\n",
        "\n",
        "Output: a thing\n",
        "\n",
        "Raining and cold? –> Raincoat\n",
        "\n",
        "Cold and not raining? –> Sweatshirt\n",
        "\n",
        "Raining or sunny? –> Umbrella"
      ],
      "metadata": {
        "id": "IDaSty95r2bN"
      }
    },
    {
      "cell_type": "markdown",
      "metadata": {
        "id": "gaQqe00P0mad"
      },
      "source": [
        "### Alternative execution  \n",
        "A second form of the if statement is alternative execution, in which there are two  \n",
        "possibilities and the condition determines which one gets executed. The syntax\n",
        "looks like this:  \n",
        ">if x%2 == 0 :\n",
        ">>print('x is even')\n",
        "\n",
        "\n",
        ">else :                  \n",
        ">>print('x is odd')"
      ]
    },
    {
      "cell_type": "code",
      "execution_count": null,
      "metadata": {
        "id": "JZSKy1-p0mad",
        "outputId": "530a4649-2545-443e-c8b0-a9bf1c0f0282"
      },
      "outputs": [
        {
          "name": "stdout",
          "output_type": "stream",
          "text": [
            "3\n",
            "x is odd\n"
          ]
        }
      ],
      "source": [
        "x = int(input())\n",
        "if x%2 == 0 :\n",
        "    print('x is even')\n",
        "else :\n",
        "    print('x is odd')"
      ]
    },
    {
      "cell_type": "markdown",
      "metadata": {
        "id": "UyjHoYoN0mad"
      },
      "source": [
        "### Chained conditionals  \n",
        "\n",
        "Sometimes there are more than two possibilities and we need more than two\n",
        "branches. One way to express a computation like that is a chained conditional:\n",
        "\n",
        "\n",
        ">if x < y:\n",
        ">>print('x is less than y')\n",
        "\n",
        ">elif x > y:\n",
        ">>print('x is greater than y')\n",
        "\n",
        ">else:\n",
        ">>print('x and y are equal')\n",
        "\n",
        "elif is an abbreviation of “else if.” Again, exactly one branch will be executed.\n",
        "There is no limit on the number of elif statements. If there is an else clause, it\n",
        "has to be at the end, but there doesn’t have to be one.  \n",
        "Each condition is checked in order. If the first is false, the next is checked, and so\n",
        "on. If one of them is true, the corresponding branch executes, and the statement\n",
        "ends. Even if more than one condition is true, only the first true branch executes."
      ]
    },
    {
      "cell_type": "code",
      "execution_count": null,
      "metadata": {
        "id": "DC6uo1i90mad",
        "outputId": "09ced847-5032-493a-c620-19669947f8ea",
        "colab": {
          "base_uri": "https://localhost:8080/"
        }
      },
      "outputs": [
        {
          "output_type": "stream",
          "name": "stdout",
          "text": [
            "3\n",
            "3\n",
            "x and y are equal\n"
          ]
        }
      ],
      "source": [
        "x = int(input())\n",
        "y = int (input())\n",
        "if x < y:\n",
        "    print('x is less than y')\n",
        "elif x > y:\n",
        "    print('x is greater than y')\n",
        "else:\n",
        "    print('x and y are equal')\n",
        "\n"
      ]
    },
    {
      "cell_type": "markdown",
      "metadata": {
        "id": "vdyNzj0j0mae"
      },
      "source": [
        "### Task 17\n",
        "\n",
        "Masha and Petya write a number down on a piece of paper, which they give to Kolya. Kolya announces the name of the winner ( the person with the largest number wins) or announces a draw if the numbers are equal.\n",
        "\n",
        "INPUT FORMAT:\n",
        "\n",
        "     A - an integer from 0 to 1000 (the number that Masha has in mind)\n",
        "     B - an integer from 0 to 1000 (the number that Petya meant)\n",
        "     Each is entered on a new line.\n",
        "\n",
        "OUTPUT FORMAT:\n",
        "\n",
        "     String \"Masha\", \"Petya\" or \"Draw\", the answer to the problem"
      ]
    },
    {
      "cell_type": "code",
      "execution_count": null,
      "metadata": {
        "id": "ZwQSj_nX0mae"
      },
      "outputs": [],
      "source": []
    },
    {
      "cell_type": "markdown",
      "source": [
        "**Task 18**\n",
        "\n",
        "Create a program that prints the name of the time of the year by the number of the month (from 1 to 12).\n",
        "\n",
        "Input: 3\n",
        "\n",
        "Output: Spring"
      ],
      "metadata": {
        "id": "76Iy08pACZOT"
      }
    },
    {
      "cell_type": "code",
      "source": [],
      "metadata": {
        "id": "JaPmjTLcCua0"
      },
      "execution_count": null,
      "outputs": []
    },
    {
      "cell_type": "markdown",
      "source": [
        "**Task 19**\n",
        "\n",
        "Create a program that prints the number of days in this month for a non-leap year based on the month number (from 1 to 12).\n",
        "\n",
        "Input: 3\n",
        "\n",
        "Output: 31"
      ],
      "metadata": {
        "id": "eIa6lNyECvAp"
      }
    },
    {
      "cell_type": "code",
      "source": [],
      "metadata": {
        "id": "O2nRzIU1DEAH"
      },
      "execution_count": null,
      "outputs": []
    },
    {
      "cell_type": "markdown",
      "source": [
        "**Task 20**\n",
        "\n",
        "Given is the unit of mass (1-kg, 2-grams, 3-tons) and body weight M, define the body weight in kg.\n",
        "\n",
        "Input: 3, 0.09\n",
        "\n",
        "Output: 90 kg"
      ],
      "metadata": {
        "id": "LYHJNrpPDEnr"
      }
    },
    {
      "cell_type": "code",
      "source": [],
      "metadata": {
        "id": "41U5v1g1EWmi"
      },
      "execution_count": null,
      "outputs": []
    },
    {
      "cell_type": "markdown",
      "metadata": {
        "id": "d0JoYN7f0mae"
      },
      "source": [
        "### Nested conditionals  \n",
        "One conditional statement can also be nested within another. We could have written the\n",
        "three-branch example like this:\n",
        "\n",
        "if x == y:    \n",
        ">print('x and y are equal')\n",
        "\n",
        "else:  \n",
        "\n",
        ">if x < y:\n",
        "\n",
        ">>print('x is less than y')\n",
        "\n",
        ">else:\n",
        "\n",
        ">>print('x is greater than y')"
      ]
    },
    {
      "cell_type": "code",
      "execution_count": null,
      "metadata": {
        "id": "TQPT-fkl0mae",
        "outputId": "50893dd0-b6a4-40e9-c5bd-0ae61fbe1b9a",
        "colab": {
          "base_uri": "https://localhost:8080/"
        }
      },
      "outputs": [
        {
          "output_type": "stream",
          "name": "stdout",
          "text": [
            "4\n",
            "5\n",
            "x is less than y\n"
          ]
        }
      ],
      "source": [
        "x = int(input()) ##The outer conditional contains two branches. The first branch contains a simple statement. The second branch contains another if statement, which has two branches of its own.\n",
        "y = int (input())\n",
        "if x == y:\n",
        "    print('x and y are equal')\n",
        "else:\n",
        "    if x < y:\n",
        "        print('x is less than y')\n",
        "    else:\n",
        "        print('x is greater than y')\n",
        "\n"
      ]
    },
    {
      "cell_type": "code",
      "source": [
        "x = int(input())\n",
        "if x<=0:\n",
        "  print('wrong number')\n",
        "elif x>=10:\n",
        "  print('wrong number')\n",
        "else:\n",
        "    if x>0:\n",
        "        if x<10:\n",
        "          print('x is a positive single-digit number')"
      ],
      "metadata": {
        "colab": {
          "base_uri": "https://localhost:8080/"
        },
        "id": "Cfh2qhVfFQCf",
        "outputId": "78d9c3cc-4136-48c9-9ba9-885359ee8fb3"
      },
      "execution_count": null,
      "outputs": [
        {
          "output_type": "stream",
          "name": "stdout",
          "text": [
            "100\n",
            "wrong number\n"
          ]
        }
      ]
    },
    {
      "cell_type": "markdown",
      "metadata": {
        "id": "8SaOs5Bt0mae"
      },
      "source": [
        "Logical operators often provide a way to simplify nested conditional statements.\n",
        "For example, we can rewrite the code above using a single conditional:  \n",
        "\n",
        " if 0 < x and x < 10:\n",
        "    \n",
        "    print('x is a positive single-digit number.')\n"
      ]
    },
    {
      "cell_type": "code",
      "execution_count": null,
      "metadata": {
        "id": "ybic-OrY0mae",
        "outputId": "f8dbd85a-d047-4a8f-a24c-01f2ad17a7a7"
      },
      "outputs": [
        {
          "name": "stdout",
          "output_type": "stream",
          "text": [
            "0\n"
          ]
        }
      ],
      "source": [
        "x = int(input())\n",
        "if 0 < x < 10:\n",
        "    print('x is a positive single-digit number.')\n",
        "else:\n",
        "    print('wrong number')"
      ]
    },
    {
      "cell_type": "markdown",
      "metadata": {
        "id": "HgOvT3b30mae"
      },
      "source": [
        "### Task 21\n",
        "\n",
        "You are given a number and have to make it negative. But maybe the number is already negative?\n",
        "\n",
        "Example:\n",
        "\n",
        "input(1);  # output (-1)\n",
        "\n",
        "\n",
        "input(-5); # output (-5)\n",
        "\n",
        "\n",
        "input(0);  # output (0)\n",
        "\n"
      ]
    },
    {
      "cell_type": "code",
      "execution_count": null,
      "metadata": {
        "id": "qWWgoDIv0maf"
      },
      "outputs": [],
      "source": [
        "\n"
      ]
    },
    {
      "cell_type": "markdown",
      "metadata": {
        "id": "trNexqS00maf"
      },
      "source": [
        "### Task 22\n",
        "Write a program to prompt for a score between 0.0 and\n",
        "1.0. If the score is out of range, print ' Bad score'. If the score is\n",
        "between 0.0 and 1.0, print a grade using the following table:\n",
        "\n",
        "0.9<=x<=1.0 - A\n",
        "\n",
        "0.8<=x<0.9 - B\n",
        "\n",
        "0.7<=x<0.8 - C\n",
        "\n",
        "0.6<=x<0.7 - D\n",
        "\n",
        "x< 0.6 - F\n",
        "\n",
        "Example:\n",
        "\n",
        "Enter score: 0.95  \n",
        "\n",
        "A  \n",
        "\n"
      ]
    },
    {
      "cell_type": "code",
      "execution_count": null,
      "metadata": {
        "id": "zEuJt4Ks0maf"
      },
      "outputs": [],
      "source": [
        "\n"
      ]
    },
    {
      "cell_type": "code",
      "execution_count": null,
      "metadata": {
        "id": "sAx8ZNCN0maf"
      },
      "outputs": [],
      "source": [
        "\n"
      ]
    },
    {
      "cell_type": "markdown",
      "metadata": {
        "id": "3usN8iP90mag"
      },
      "source": [
        "### Task 23\n",
        "\n",
        "There is a special offer in the store:\n",
        "\n",
        "     For all products cheaper than 1000 rubles 15% discount\n",
        "     For all products more expensive than 1000, but cheaper than 5000 rubles, a 20% discount\n",
        "     For all products more expensive than 5000 rubles a 25% discount\n",
        "\n",
        "Input  \n",
        "\n",
        "Non-negative integer - product price in rubles\n",
        "\n",
        "Output  \n",
        "\n",
        "Non-negative integer - discount for goods in rubles"
      ]
    },
    {
      "cell_type": "code",
      "execution_count": null,
      "metadata": {
        "id": "X0XRDev90mag"
      },
      "outputs": [],
      "source": [
        "\n"
      ]
    },
    {
      "cell_type": "code",
      "execution_count": null,
      "metadata": {
        "id": "V6VGxNHv0mag"
      },
      "outputs": [],
      "source": [
        "\n"
      ]
    },
    {
      "cell_type": "code",
      "execution_count": null,
      "metadata": {
        "id": "QEH2kbDL0mah"
      },
      "outputs": [],
      "source": [
        "\n",
        "\n"
      ]
    },
    {
      "cell_type": "markdown",
      "metadata": {
        "id": "_GIUvcg00mah"
      },
      "source": [
        "### Task 24\n",
        "\n",
        "Create a programm that gives a personalized greeting.\n",
        "\n",
        "Input: name and the name of the owner ( 2 names)\n",
        "\n",
        "Use conditionals to print the proper message:\n",
        "    \n",
        "\n",
        "name equals the name of the owner  ---\t'Hello boss'\n",
        "\n",
        "otherwise ---\t'Hello guest'"
      ]
    },
    {
      "cell_type": "code",
      "execution_count": null,
      "metadata": {
        "id": "1SDRgf5-0mai"
      },
      "outputs": [],
      "source": [
        "\n"
      ]
    },
    {
      "cell_type": "markdown",
      "metadata": {
        "id": "hNRYnkmp0mai"
      },
      "source": [
        "# Task 25\n",
        "\n",
        "Write a programme that prompts the user for  two arguments (salary, bonus). Salary will be an integer, and bonus \"Yes\" or \"No\".\n",
        "\n",
        "If bonus is Yes, the salary should be multiplied by 10.\n",
        "\n",
        "If bonus is No, the fatcat did not make enough money and must receive only his stated salary."
      ]
    },
    {
      "cell_type": "code",
      "execution_count": null,
      "metadata": {
        "id": "NdaItcIh0mai"
      },
      "outputs": [],
      "source": [
        "\n"
      ]
    },
    {
      "cell_type": "code",
      "execution_count": null,
      "metadata": {
        "id": "1xANNaZc0mai"
      },
      "outputs": [],
      "source": [
        "\n"
      ]
    },
    {
      "cell_type": "markdown",
      "metadata": {
        "id": "PxwDKa4_0mai"
      },
      "source": [
        "# Task 26\n",
        "\n",
        "Create a program that checks if a number n is divisible by two numbers x AND y.\n",
        "\n",
        "All inputs are strictly positive numbers.\n",
        "\n",
        "Examples:\n",
        "\n",
        "1) n =   3, x = 1, y = 3 =>  true because   3 is divisible by 1 and 3\n",
        "\n",
        "2) n =  12, x = 2, y = 6 =>  true because  12 is divisible by 2 and 6\n",
        "\n",
        "3) n = 100, x = 5, y = 3 => false because 100 is not divisible by 3\n",
        "\n",
        "4) n =  12, x = 7, y = 5 => false because  12 is neither divisible by 7 nor 5"
      ]
    },
    {
      "cell_type": "code",
      "execution_count": null,
      "metadata": {
        "id": "kB7GrtOC0mai"
      },
      "outputs": [],
      "source": [
        "\n"
      ]
    },
    {
      "cell_type": "code",
      "execution_count": null,
      "metadata": {
        "id": "xwfyxUFC0mai"
      },
      "outputs": [],
      "source": [
        "\n"
      ]
    },
    {
      "cell_type": "code",
      "execution_count": null,
      "metadata": {
        "id": "gGkNhU1Q0maj"
      },
      "outputs": [],
      "source": [
        "\n"
      ]
    },
    {
      "cell_type": "markdown",
      "source": [
        "**Task 27**\n",
        "\n",
        "Given 2 elevators (named \"left\" and \"right\") in a building with 3 floors (numbered 0 to 2), write a programme for the elevator accepting 3 arguments (in order):\n",
        "\n",
        "**left** - The current floor of the left elevator\n",
        "\n",
        "**right** - The current floor of the right elevator\n",
        "\n",
        "**call** - The floor that called an elevator\n",
        "\n",
        "It should return the name of the elevator closest to the called floor (\"left\"/\"right\").\n",
        "\n",
        "In the case where both elevators are equally distant from the called floor, choose the elevator to the right.\n",
        "\n",
        "You can assume that the inputs will always be valid integers between 0-2.\n",
        "\n",
        "Use the ** abs() function**, which returns the absolute value of the specified number"
      ],
      "metadata": {
        "id": "ELfVNMwv0ntA"
      }
    },
    {
      "cell_type": "code",
      "execution_count": null,
      "metadata": {
        "id": "2cnkT09a0maj"
      },
      "outputs": [],
      "source": []
    },
    {
      "cell_type": "markdown",
      "metadata": {
        "id": "VXB58Yjd0maj"
      },
      "source": [
        "# Extra exercises with solutions\n",
        "\n",
        "https://www.practicepython.org/exercises/\n",
        "\n",
        "https://holypython.com/beginner-python-exercises/\n",
        "\n",
        "https://pythonbasics.org/exercises/\n",
        "\n",
        "https://pynative.com/python-basic-exercise-for-beginners/\n",
        "\n",
        "https://www.w3resource.com/python-exercises/python-basic-exercises.php\n",
        "\n"
      ]
    }
  ],
  "metadata": {
    "kernelspec": {
      "display_name": "Python 3 (ipykernel)",
      "language": "python",
      "name": "python3"
    },
    "language_info": {
      "codemirror_mode": {
        "name": "ipython",
        "version": 3
      },
      "file_extension": ".py",
      "mimetype": "text/x-python",
      "name": "python",
      "nbconvert_exporter": "python",
      "pygments_lexer": "ipython3",
      "version": "3.11.4"
    },
    "colab": {
      "provenance": [],
      "include_colab_link": true
    }
  },
  "nbformat": 4,
  "nbformat_minor": 0
}