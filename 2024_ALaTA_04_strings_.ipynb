{
  "cells": [
    {
      "cell_type": "markdown",
      "metadata": {
        "id": "view-in-github",
        "colab_type": "text"
      },
      "source": [
        "<a href=\"https://colab.research.google.com/github/JuliaBalakina/ALATA2024/blob/main/2024_ALaTA_04_strings_.ipynb\" target=\"_parent\"><img src=\"https://colab.research.google.com/assets/colab-badge.svg\" alt=\"Open In Colab\"/></a>"
      ]
    },
    {
      "cell_type": "markdown",
      "metadata": {
        "id": "hua-UMIxzHXA"
      },
      "source": [
        "# **Strings**\n",
        "\n",
        "A string is an immutable sequence of characters in Unicode.\n",
        "\n",
        "str() - a function that converts data into a string.\n"
      ]
    },
    {
      "cell_type": "code",
      "source": [
        "x = 21\n",
        "x =str(x)\n",
        "type(x)\n"
      ],
      "metadata": {
        "colab": {
          "base_uri": "https://localhost:8080/"
        },
        "id": "9pZGrc_mvIKi",
        "outputId": "6d5d03fb-7c48-464b-c446-4206f8032e5b"
      },
      "execution_count": null,
      "outputs": [
        {
          "output_type": "execute_result",
          "data": {
            "text/plain": [
              "str"
            ]
          },
          "metadata": {},
          "execution_count": 3
        }
      ]
    },
    {
      "cell_type": "markdown",
      "metadata": {
        "id": "ocvX7MCKzHXA"
      },
      "source": [
        "A string is a sequence of characters. You can access the characters one at a time with the bracket operator: [i]\n",
        "\n",
        "The expression in brackets is called an **index**.\n",
        "\n",
        "The index indicates which character in the sequence you want.  \n",
        "In Python, the index is an offset from the beginning of the string, and the offset of the first letter\n",
        "is **zero**.  \n",
        "The value of the index has to be an integer.\n",
        "\n",
        "s[i] - indexing of string elements.\n",
        "\n",
        "Indexing of string elements goes from left to right;\n",
        "\n",
        "from 0 to n-1, where n is the number of characters in the string (the length of the string).\n",
        "\n",
        "index of the starting element = 0\n",
        "\n",
        "index of the ending character of the string = n-1\n",
        "\n",
        "negative indices from -1 to -n are possible, where n is the length of the string.\n",
        "\n",
        "negative index of the last element of the string is -1.\n",
        "\n",
        "negative index of the penultimate element of the string is -2\n",
        "\n",
        "negative index of the starting element of the string is -n."
      ]
    },
    {
      "cell_type": "code",
      "execution_count": null,
      "metadata": {
        "id": "6xfSLQWtzHXA",
        "outputId": "8a91cd03-8f1e-4c20-d4e6-73dd4c4a6e67",
        "colab": {
          "base_uri": "https://localhost:8080/"
        }
      },
      "outputs": [
        {
          "output_type": "stream",
          "name": "stdout",
          "text": [
            "n\n"
          ]
        }
      ],
      "source": [
        "fruit = 'orange'\n",
        "print( fruit[-3])"
      ]
    },
    {
      "cell_type": "code",
      "source": [
        "fruit = 'orange'\n",
        "print( fruit[-1])"
      ],
      "metadata": {
        "colab": {
          "base_uri": "https://localhost:8080/"
        },
        "id": "1ED1eyGHx4Uq",
        "outputId": "ba0fad36-3b06-4822-9fcc-346a8f588540"
      },
      "execution_count": null,
      "outputs": [
        {
          "output_type": "stream",
          "name": "stdout",
          "text": [
            "e\n"
          ]
        }
      ]
    },
    {
      "cell_type": "markdown",
      "source": [
        "An empty string:\n",
        "\n",
        "s=' '\n",
        "\n",
        "s=str()"
      ],
      "metadata": {
        "id": "DviOi5KtyQgk"
      }
    },
    {
      "cell_type": "markdown",
      "source": [
        "**Functions and methods:**\n",
        "\n",
        "x **in** s - checks that the character x is in the string\n",
        "\n",
        "x **not in** s - checks that the character x is not in the string\n",
        "\n",
        "s+t - concatenation\n",
        "\n",
        "s*n - repeats characters of a string n times\n",
        "\n",
        "len(s) - the length of the string\n",
        "\n",
        "s[i] - i th element in a string\n",
        "\n"
      ],
      "metadata": {
        "id": "LqTlCnXiyj7a"
      }
    },
    {
      "cell_type": "markdown",
      "source": [
        "The **in** operator\n",
        "\n",
        "The word **in** is a boolean operator that takes two strings and returns **True** if the first appears as a substring in the second:\n",
        "\n",
        "'a' in 'banana'\n",
        "\n",
        "True\n",
        "\n",
        "'seed' in 'banana'\n",
        "\n",
        "False"
      ],
      "metadata": {
        "id": "Guj0o2uTzs_c"
      }
    },
    {
      "cell_type": "code",
      "execution_count": null,
      "metadata": {
        "id": "y14aMjgzzHXO",
        "outputId": "df7f31c3-29ac-46bf-9d32-590ceb9fd512",
        "colab": {
          "base_uri": "https://localhost:8080/"
        }
      },
      "outputs": [
        {
          "output_type": "stream",
          "name": "stdout",
          "text": [
            "True\n"
          ]
        }
      ],
      "source": [
        "fruit = 'orange'\n",
        "if 'o' in fruit:\n",
        "    print('True')\n",
        "else:\n",
        "    print('False')"
      ]
    },
    {
      "cell_type": "code",
      "source": [
        "fruit = 'orange'\n",
        "print(\"o\" not in fruit)"
      ],
      "metadata": {
        "colab": {
          "base_uri": "https://localhost:8080/"
        },
        "id": "xs4WBal-0qAx",
        "outputId": "4e03158e-18a0-49bc-a405-623955b7b407"
      },
      "execution_count": null,
      "outputs": [
        {
          "output_type": "stream",
          "name": "stdout",
          "text": [
            "False\n"
          ]
        }
      ]
    },
    {
      "cell_type": "code",
      "source": [
        "len(fruit)"
      ],
      "metadata": {
        "colab": {
          "base_uri": "https://localhost:8080/"
        },
        "id": "FfgYZo8601mi",
        "outputId": "a29e4ede-cdf8-416a-ef26-c68c75d02546"
      },
      "execution_count": null,
      "outputs": [
        {
          "output_type": "execute_result",
          "data": {
            "text/plain": [
              "6"
            ]
          },
          "metadata": {},
          "execution_count": 8
        }
      ]
    },
    {
      "cell_type": "code",
      "source": [
        "fruit[0]"
      ],
      "metadata": {
        "colab": {
          "base_uri": "https://localhost:8080/",
          "height": 36
        },
        "id": "omzwRoMV06Ws",
        "outputId": "b1b738e8-8b1a-496e-97cc-562c24f2ad33"
      },
      "execution_count": null,
      "outputs": [
        {
          "output_type": "execute_result",
          "data": {
            "text/plain": [
              "'o'"
            ],
            "application/vnd.google.colaboratory.intrinsic+json": {
              "type": "string"
            }
          },
          "metadata": {},
          "execution_count": 9
        }
      ]
    },
    {
      "cell_type": "code",
      "execution_count": null,
      "metadata": {
        "colab": {
          "base_uri": "https://localhost:8080/"
        },
        "id": "dWimJTmAzHXK",
        "outputId": "028b94fb-9fe0-48c7-9e27-75b4765fdd2f"
      },
      "outputs": [
        {
          "output_type": "stream",
          "name": "stdout",
          "text": [
            "o\n",
            "r\n",
            "a\n",
            "n\n",
            "g\n",
            "e\n"
          ]
        }
      ],
      "source": [
        "fruit = 'orange'\n",
        "x=0\n",
        "while x<=5:\n",
        "    print(fruit[x])\n",
        "    x+=1"
      ]
    },
    {
      "cell_type": "code",
      "source": [
        "fruit = 'orange'\n",
        "x=0\n",
        "while x<=len(fruit)-1:\n",
        "    print(fruit[x])\n",
        "    x+=1"
      ],
      "metadata": {
        "colab": {
          "base_uri": "https://localhost:8080/"
        },
        "id": "OunUgYFZ4Xuf",
        "outputId": "82456b5f-c580-4bd6-96b6-3c07a0ab9f13"
      },
      "execution_count": null,
      "outputs": [
        {
          "output_type": "stream",
          "name": "stdout",
          "text": [
            "o\n",
            "r\n",
            "a\n",
            "n\n",
            "g\n",
            "e\n"
          ]
        }
      ]
    },
    {
      "cell_type": "code",
      "source": [
        "x = \"fgh,vbn  dgh\"\n",
        "print(x[-4])"
      ],
      "metadata": {
        "colab": {
          "base_uri": "https://localhost:8080/"
        },
        "id": "m9a4JV9zCOgl",
        "outputId": "fcb459de-4481-4040-c1bf-cda9492c0174"
      },
      "execution_count": null,
      "outputs": [
        {
          "output_type": "stream",
          "name": "stdout",
          "text": [
            " \n"
          ]
        }
      ]
    },
    {
      "cell_type": "code",
      "source": [
        "x = \"fgh,vbn dgh\"\n",
        "print(x[20])"
      ],
      "metadata": {
        "colab": {
          "base_uri": "https://localhost:8080/",
          "height": 162
        },
        "id": "w4EPL80R8e6L",
        "outputId": "41ef3e11-fe09-4cd3-9d10-176ddbfa6530"
      },
      "execution_count": null,
      "outputs": [
        {
          "output_type": "error",
          "ename": "IndexError",
          "evalue": "string index out of range",
          "traceback": [
            "\u001b[0;31m---------------------------------------------------------------------------\u001b[0m",
            "\u001b[0;31mIndexError\u001b[0m                                Traceback (most recent call last)",
            "\u001b[0;32m<ipython-input-19-cd8ba3f48169>\u001b[0m in \u001b[0;36m<cell line: 2>\u001b[0;34m()\u001b[0m\n\u001b[1;32m      1\u001b[0m \u001b[0mx\u001b[0m \u001b[0;34m=\u001b[0m \u001b[0;34m\"fgh,vbn dgh\"\u001b[0m\u001b[0;34m\u001b[0m\u001b[0;34m\u001b[0m\u001b[0m\n\u001b[0;32m----> 2\u001b[0;31m \u001b[0mprint\u001b[0m\u001b[0;34m(\u001b[0m\u001b[0mx\u001b[0m\u001b[0;34m[\u001b[0m\u001b[0;36m20\u001b[0m\u001b[0;34m]\u001b[0m\u001b[0;34m)\u001b[0m\u001b[0;34m\u001b[0m\u001b[0;34m\u001b[0m\u001b[0m\n\u001b[0m",
            "\u001b[0;31mIndexError\u001b[0m: string index out of range"
          ]
        }
      ]
    },
    {
      "cell_type": "markdown",
      "metadata": {
        "id": "BoV1N8fFzHXK"
      },
      "source": [
        "### *len* function  \n",
        "**len** is a built-in function that returns the number of characters in a string:  \n",
        ">fruit = 'orange'\n",
        "\n",
        ">print(len(fruit))\n",
        "\n",
        ">6\n",
        "\n",
        "Since we started counting at zero, the six letters are numbered 0 to 5. To get the last character, you have to subtract 1 from length:\n",
        "\n",
        "fruit [-1]\n",
        "\n",
        "The expression fruit[-1] yields the last letter, fruit[-2] yields the second to last, and so on."
      ]
    },
    {
      "cell_type": "markdown",
      "metadata": {
        "id": "KKDWQk28zHXK"
      },
      "source": [
        "**Task 1**\n",
        "\n",
        "Prompt the user for a word\n",
        "\n",
        "Print each letter on a new line\n"
      ]
    },
    {
      "cell_type": "code",
      "execution_count": null,
      "metadata": {
        "id": "LcCRsW-wzHXK",
        "colab": {
          "base_uri": "https://localhost:8080/"
        },
        "outputId": "74c8fb8f-92aa-44fe-e1dc-c60db617783b"
      },
      "outputs": [
        {
          "output_type": "stream",
          "name": "stdout",
          "text": [
            "fhdjskh\n",
            "f\n",
            "h\n",
            "d\n",
            "j\n",
            "s\n",
            "k\n",
            "h\n"
          ]
        }
      ],
      "source": [
        "word = input()\n",
        "x = 0\n",
        "while x <= len(word) - 1:\n",
        "  print(word[x])\n",
        "  x += 1\n",
        "\n"
      ]
    },
    {
      "cell_type": "code",
      "source": [
        "word = input('enter a word ')\n",
        "a = 0\n",
        "while a < len(word):\n",
        "  print(word[a])\n",
        "  a += 1"
      ],
      "metadata": {
        "colab": {
          "base_uri": "https://localhost:8080/"
        },
        "id": "-QaVNGQS6doH",
        "outputId": "cda3672a-dec4-4758-cbcd-6c0282ba27db"
      },
      "execution_count": null,
      "outputs": [
        {
          "output_type": "stream",
          "name": "stdout",
          "text": [
            "enter a word fghdj\n",
            "f\n",
            "g\n",
            "h\n",
            "d\n",
            "j\n"
          ]
        }
      ]
    },
    {
      "cell_type": "code",
      "execution_count": null,
      "metadata": {
        "id": "kAdW5WzdzHXK",
        "outputId": "e2af51e3-3467-40c4-9c9b-ae8ddec809d8"
      },
      "outputs": [
        {
          "name": "stdout",
          "output_type": "stream",
          "text": [
            "e\n",
            "g\n",
            "n\n",
            "a\n",
            "r\n",
            "o\n"
          ]
        }
      ],
      "source": [
        "fruit = 'orange'\n",
        "i = -1\n",
        "while i>= -len(fruit): # -1 >= -6\n",
        "    print( fruit[i])\n",
        "    i-=1"
      ]
    },
    {
      "cell_type": "code",
      "source": [
        "fruit = 'orange'\n",
        "i = len(fruit)-1\n",
        "while i>=0: # 5 >= 0\n",
        "    print( fruit[i])\n",
        "    i-=1"
      ],
      "metadata": {
        "colab": {
          "base_uri": "https://localhost:8080/"
        },
        "id": "R4NNeJfX7NFr",
        "outputId": "01fb2160-9a80-41ce-97af-cca9b9740102"
      },
      "execution_count": null,
      "outputs": [
        {
          "output_type": "stream",
          "name": "stdout",
          "text": [
            "e\n",
            "g\n",
            "n\n",
            "a\n",
            "r\n",
            "o\n"
          ]
        }
      ]
    },
    {
      "cell_type": "markdown",
      "metadata": {
        "id": "a1NWMv1ozHXL"
      },
      "source": [
        "**Task 2**\n",
        "\n",
        "Prompt the user for a word. Write a while loop that starts at the last character in the string and works its way backwards to the first character in the string, printing each letter on a separate line.\n",
        "\n",
        "Use a different approach, not the one demonstrated above."
      ]
    },
    {
      "cell_type": "code",
      "execution_count": null,
      "metadata": {
        "id": "OYqdpfE1zHXL"
      },
      "outputs": [],
      "source": [
        "fruit = 'orange'\n",
        "i = -1\n",
        "while i>= -len(fruit): # -1 >= -6\n",
        "    print( fruit[i])\n",
        "    i-=1"
      ]
    },
    {
      "cell_type": "markdown",
      "metadata": {
        "id": "ykzOxLwczHXL"
      },
      "source": [
        "**Task 3**\n",
        "\n",
        "Prompt the user for a word\n",
        "\n",
        "Print two letters on a new line\n",
        "\n",
        "Example:\n",
        "\n",
        "word = \"orange\"\n",
        "\n",
        "output:\n",
        "\n",
        "or\n",
        "\n",
        "ra\n",
        "\n",
        "an\n",
        "\n",
        "ng\n",
        "\n",
        "ge"
      ]
    },
    {
      "cell_type": "code",
      "execution_count": null,
      "metadata": {
        "id": "KruZ7GY6zHXL",
        "colab": {
          "base_uri": "https://localhost:8080/"
        },
        "outputId": "117de113-c7bd-47c3-d220-9bf2dbab359d"
      },
      "outputs": [
        {
          "output_type": "stream",
          "name": "stdout",
          "text": [
            "enter a word orange\n",
            "or\n",
            "ra\n",
            "an\n",
            "ng\n",
            "ge\n"
          ]
        }
      ],
      "source": [
        "word = input('enter a word ')\n",
        "i = 0\n",
        "while i < len(word) - 1:\n",
        "  print(word[i] + word[i+1])\n",
        "  i += 1\n",
        "\n"
      ]
    },
    {
      "cell_type": "code",
      "source": [
        "word = input('enter a word ')\n",
        "i = 1\n",
        "while i <= len(word) - 1:\n",
        "  print(word[i-1] + word[i])\n",
        "  i += 1"
      ],
      "metadata": {
        "colab": {
          "base_uri": "https://localhost:8080/"
        },
        "id": "KSiL87hXBqj0",
        "outputId": "4b7dddcc-16f3-4602-f2fb-df262d26faf1"
      },
      "execution_count": null,
      "outputs": [
        {
          "output_type": "stream",
          "name": "stdout",
          "text": [
            "enter a word orange\n",
            "or\n",
            "ra\n",
            "an\n",
            "ng\n",
            "ge\n"
          ]
        }
      ]
    },
    {
      "cell_type": "markdown",
      "metadata": {
        "id": "m9Xbh9FAzHXL"
      },
      "source": [
        "### String slices\n",
        "\n",
        "A segment of a string is called a slice. Selecting a slice is similar to selecting a\n",
        "character:\n",
        "\n",
        ">s = 'Monty Python'\n",
        "\n",
        ">print(s[0:5])\n",
        "\n",
        "Monty\n",
        "\n",
        ">print(s[6:12])\n",
        "\n",
        "Python\n",
        "\n",
        "The operator returns the part of the string from the “n-th” character to the “m-th”\n",
        "character, including the first but excluding the last.\n",
        "\n",
        "If you omit the first index (before the colon), the slice starts at the beginning of\n",
        "the string. If you omit the second index, the slice goes to the end of the string:\n",
        "\n",
        ">fruit = 'banana'\n",
        "\n",
        ">fruit[:3]\n",
        "\n",
        "'ban'\n",
        "\n",
        ">fruit[3:]\n",
        "\n",
        "'ana\n",
        "\n",
        "print (s [: 4]) # first four characters up to  number 4\n",
        "\n",
        "print (s [:]) # copy of the line\n",
        "\n",
        "print (s [: - 1]) # whole line except the last character\n",
        "\n",
        "print (s [:: 2]) # you can also select characters from a string with some step\n",
        "\n",
        "print (s [:: - 1]) # for example, using step -1 you can get the string in reverse\n",
        "\n"
      ]
    },
    {
      "cell_type": "code",
      "execution_count": null,
      "metadata": {
        "id": "rf4Kp-Z-zHXL",
        "outputId": "ad10b4dc-97ef-4d2e-d8d3-34dda8f23bf3"
      },
      "outputs": [
        {
          "name": "stdout",
          "output_type": "stream",
          "text": [
            "bnn\n",
            "aaa\n"
          ]
        }
      ],
      "source": [
        "s='banana'\n",
        "print (s [:: 2]) ### even indices\n",
        "print(s[1::2]) ### odd indices"
      ]
    },
    {
      "cell_type": "code",
      "execution_count": null,
      "metadata": {
        "id": "ZUzyiyFhzHXM",
        "outputId": "44b7ae32-7186-43dd-e1e3-3fc901194a78"
      },
      "outputs": [
        {
          "name": "stdout",
          "output_type": "stream",
          "text": [
            "oran\n",
            "orange\n",
            "orang\n",
            "oag\n",
            "egnaro\n"
          ]
        }
      ],
      "source": [
        "print(fruit[:4])\n",
        "print(fruit[:])\n",
        "print(fruit[:-1])\n",
        "print(fruit[::2])\n",
        "print(fruit[::-1])"
      ]
    },
    {
      "cell_type": "markdown",
      "source": [
        "fruit [i:j:k]:\n",
        "\n",
        "i - starting index\n",
        "\n",
        "j - the end ( not including this one)\n",
        "\n",
        "k - step"
      ],
      "metadata": {
        "id": "TEw8rdDa7V90"
      }
    },
    {
      "cell_type": "code",
      "source": [
        "fruit='orange'\n",
        "fruit [0:5:2]"
      ],
      "metadata": {
        "colab": {
          "base_uri": "https://localhost:8080/",
          "height": 36
        },
        "id": "YABJheZ276sY",
        "outputId": "0f73788d-416e-43b0-af25-10b8e2d46690"
      },
      "execution_count": null,
      "outputs": [
        {
          "output_type": "execute_result",
          "data": {
            "text/plain": [
              "'oag'"
            ],
            "application/vnd.google.colaboratory.intrinsic+json": {
              "type": "string"
            }
          },
          "metadata": {},
          "execution_count": 15
        }
      ]
    },
    {
      "cell_type": "code",
      "source": [
        "fruit='orange'\n",
        "fruit [-1:-5:-2]"
      ],
      "metadata": {
        "colab": {
          "base_uri": "https://localhost:8080/",
          "height": 36
        },
        "id": "CzA8CaTO8G6M",
        "outputId": "a2aa3a25-e2a2-48c5-fe06-f29a9043c8ca"
      },
      "execution_count": null,
      "outputs": [
        {
          "output_type": "execute_result",
          "data": {
            "text/plain": [
              "'en'"
            ],
            "application/vnd.google.colaboratory.intrinsic+json": {
              "type": "string"
            }
          },
          "metadata": {},
          "execution_count": 17
        }
      ]
    },
    {
      "cell_type": "markdown",
      "metadata": {
        "id": "4sgU--muzHXM"
      },
      "source": [
        "**Task 4 H/A**\n",
        "\n",
        "Given a string.\n",
        "\n",
        "    First, print the third character of this line (assuming that the numbering of characters starts from 1).\n",
        "    On the second line print the penultimate character of this line.\n",
        "    On the third line, print the first five characters of this line.\n",
        "    On the fourth line, print the entire line except for the last two characters.\n",
        "    On the fifth line print all characters with even indices (assuming that the indexing starts from 0).\n",
        "    On the sixth line print all characters with odd indices (assuming that the indexing starts from 0).\n",
        "    On the seventh line print all characters in reverse order.\n",
        "    On the eighth line, print all the characters of the string, one after another, in reverse order, starting with the last one.\n",
        "    On the ninth line print the length of the given string.\n",
        "\n",
        "Input:\n",
        "Abrakadabra\n",
        "\n",
        "Output:\n",
        "\n",
        "- r\n",
        "- r\n",
        "- Abrak\n",
        "- Abrakadab\n",
        "- Arkdba\n",
        "- baaar\n",
        "- arbadakarbA\n",
        "- abdkrA\n",
        "- 11"
      ]
    },
    {
      "cell_type": "code",
      "execution_count": null,
      "metadata": {
        "id": "hWUE_oeYzHXM",
        "outputId": "91130c3f-32dd-45e2-d5ea-acf2f007337e",
        "colab": {
          "base_uri": "https://localhost:8080/"
        }
      },
      "outputs": [
        {
          "output_type": "stream",
          "name": "stdout",
          "text": [
            "r\n",
            "r\n",
            "Abrak\n",
            "Abrakadab\n",
            "Abrakadab\n",
            "Arkdba\n",
            "baaar\n",
            "arbadakarbA\n",
            "abdkrA\n",
            "11\n"
          ]
        }
      ],
      "source": [
        "word = 'Abrakadabra'\n",
        "print(word[2]) #r\n",
        "print(word[-2]) #r\n",
        "print(word[0:5]) #Abrak\n",
        "print(word[:-2]) #Abrakadab\n",
        "print(word[0:9]) #Abrakadab\n",
        "print(word[::2]) # Arkdba\n",
        "print(word[1::2]) # baaar\n",
        "print(word[::-1]) #arbadakarbA\n",
        "print(word[::-2]) # abdkrA\n",
        "print(len(word)) #11\n",
        "\n",
        "\n",
        "\n"
      ]
    },
    {
      "cell_type": "markdown",
      "source": [
        "***Task 5 H/A ***\n",
        "\n",
        "Input a string, output the 1st,  the last and the forelast element each on a new line.\n",
        "Use \"while\""
      ],
      "metadata": {
        "id": "zB7Cc6YI8r_o"
      }
    },
    {
      "cell_type": "code",
      "source": [
        "fruit='orange'\n",
        "i=0\n",
        "p=1\n",
        "while p<=3:\n",
        "  print(fruit[i])\n",
        "  i-=1\n",
        "  p+=1\n",
        "\n"
      ],
      "metadata": {
        "id": "xRc4WhSq9FDq",
        "colab": {
          "base_uri": "https://localhost:8080/"
        },
        "outputId": "e814bc31-41bd-405e-8c94-88ccaccf1a9b"
      },
      "execution_count": null,
      "outputs": [
        {
          "output_type": "stream",
          "name": "stdout",
          "text": [
            "o\n",
            "e\n",
            "g\n"
          ]
        }
      ]
    },
    {
      "cell_type": "code",
      "source": [
        "fruit=input(\"What is your favourite fruit? \")\n",
        "i = 0\n",
        "while i < len(fruit):\n",
        "    if i == 0:\n",
        "        first = fruit[i]\n",
        "    elif i == len(fruit) - 1:\n",
        "        last = fruit[i]\n",
        "    elif i == len(fruit) - 2:\n",
        "        forelast = fruit[i]\n",
        "    i += 1\n",
        "print(first)\n",
        "print(last)\n",
        "print(forelast)"
      ],
      "metadata": {
        "colab": {
          "base_uri": "https://localhost:8080/"
        },
        "id": "7OGuzKq02uQw",
        "outputId": "e9bf5648-d9fb-4bb8-a3a9-a45e905053a6"
      },
      "execution_count": null,
      "outputs": [
        {
          "output_type": "stream",
          "name": "stdout",
          "text": [
            "What is your favourite fruit? orange\n",
            "o\n",
            "e\n",
            "g\n"
          ]
        }
      ]
    },
    {
      "cell_type": "markdown",
      "source": [
        "**Task 6**\n",
        "\n",
        "Input a string, output  the first five elements."
      ],
      "metadata": {
        "id": "-a0GmxiJ9wp3"
      }
    },
    {
      "cell_type": "code",
      "source": [
        "fruit='orange'\n",
        "print(fruit[:5])"
      ],
      "metadata": {
        "colab": {
          "base_uri": "https://localhost:8080/"
        },
        "id": "xy-8Ychq9vz7",
        "outputId": "8eb681e1-a044-4410-f59d-d38b9f35560f"
      },
      "execution_count": null,
      "outputs": [
        {
          "output_type": "stream",
          "name": "stdout",
          "text": [
            "orang\n"
          ]
        }
      ]
    },
    {
      "cell_type": "markdown",
      "source": [
        "**Task 7**\n",
        "\n",
        "Output a string that consists of every third element of the given string."
      ],
      "metadata": {
        "id": "lZWGslXD-fvN"
      }
    },
    {
      "cell_type": "code",
      "source": [
        "fruit='orangeorange'\n",
        "print(fruit[2::3])"
      ],
      "metadata": {
        "colab": {
          "base_uri": "https://localhost:8080/"
        },
        "id": "q6sBWBx--e2i",
        "outputId": "905e8577-0224-47d8-e0b6-dcac5931cbb2"
      },
      "execution_count": null,
      "outputs": [
        {
          "output_type": "stream",
          "name": "stdout",
          "text": [
            "aeae\n"
          ]
        }
      ]
    },
    {
      "cell_type": "markdown",
      "metadata": {
        "id": "wtrvX5RFzHXM"
      },
      "source": [
        "Strings are **immutable**, which means you can’t\n",
        "change an existing string.\n",
        "\n",
        "The best you can do is create a new string that is a\n",
        "variation on the original:\n",
        "\n",
        ">greeting = 'Hello, world!'\n",
        "\n",
        ">new_greeting = 'J' + greeting[1:]\n",
        "\n",
        ">print(new_greeting)\n",
        "\n",
        "Jello, world!\n",
        "\n",
        "This example concatenates a new first letter onto a slice of greeting. It has no\n",
        "effect on the original string."
      ]
    },
    {
      "cell_type": "code",
      "execution_count": null,
      "metadata": {
        "id": "-YHTXD8gzHXM",
        "outputId": "fc23f094-7d9f-4fab-9fe6-ea919c9d3780"
      },
      "outputs": [
        {
          "name": "stdout",
          "output_type": "stream",
          "text": [
            "Hello,David!\n",
            "Hello, world!\n"
          ]
        }
      ],
      "source": [
        "greeting = 'Hello, world!'\n",
        "new_greeting = greeting[:6]+\"David\"+greeting[-1]\n",
        "print(new_greeting)\n",
        "print(greeting)\n"
      ]
    },
    {
      "cell_type": "code",
      "source": [
        "greeting = '1'\n",
        "float(greeting)\n",
        "print(greeting)\n",
        "type(greeting)\n",
        "print(greeting+2)"
      ],
      "metadata": {
        "colab": {
          "base_uri": "https://localhost:8080/",
          "height": 193
        },
        "id": "QpWh4r08_go5",
        "outputId": "c1044228-791d-4f81-b733-7d71c4fa1a0c"
      },
      "execution_count": null,
      "outputs": [
        {
          "output_type": "stream",
          "name": "stdout",
          "text": [
            "1\n"
          ]
        },
        {
          "output_type": "error",
          "ename": "TypeError",
          "evalue": "can only concatenate str (not \"int\") to str",
          "traceback": [
            "\u001b[0;31m---------------------------------------------------------------------------\u001b[0m",
            "\u001b[0;31mTypeError\u001b[0m                                 Traceback (most recent call last)",
            "\u001b[0;32m<ipython-input-11-9b8a5e5dfc85>\u001b[0m in \u001b[0;36m<cell line: 5>\u001b[0;34m()\u001b[0m\n\u001b[1;32m      3\u001b[0m \u001b[0mprint\u001b[0m\u001b[0;34m(\u001b[0m\u001b[0mgreeting\u001b[0m\u001b[0;34m)\u001b[0m\u001b[0;34m\u001b[0m\u001b[0;34m\u001b[0m\u001b[0m\n\u001b[1;32m      4\u001b[0m \u001b[0mtype\u001b[0m\u001b[0;34m(\u001b[0m\u001b[0mgreeting\u001b[0m\u001b[0;34m)\u001b[0m\u001b[0;34m\u001b[0m\u001b[0;34m\u001b[0m\u001b[0m\n\u001b[0;32m----> 5\u001b[0;31m \u001b[0mprint\u001b[0m\u001b[0;34m(\u001b[0m\u001b[0mgreeting\u001b[0m\u001b[0;34m+\u001b[0m\u001b[0;36m2\u001b[0m\u001b[0;34m)\u001b[0m\u001b[0;34m\u001b[0m\u001b[0;34m\u001b[0m\u001b[0m\n\u001b[0m",
            "\u001b[0;31mTypeError\u001b[0m: can only concatenate str (not \"int\") to str"
          ]
        }
      ]
    },
    {
      "cell_type": "code",
      "source": [
        "greeting = '1'\n",
        "float(greeting)\n",
        "type(greeting)"
      ],
      "metadata": {
        "colab": {
          "base_uri": "https://localhost:8080/"
        },
        "id": "Ndya-cEffi1B",
        "outputId": "603715e8-6566-41f9-f785-edb3f49ca706"
      },
      "execution_count": null,
      "outputs": [
        {
          "output_type": "execute_result",
          "data": {
            "text/plain": [
              "str"
            ]
          },
          "metadata": {},
          "execution_count": 15
        }
      ]
    },
    {
      "cell_type": "code",
      "source": [
        "greeting = '1'\n",
        "greeting_2 =float(greeting)\n",
        "print(greeting_2)\n",
        "type(greeting_2)"
      ],
      "metadata": {
        "colab": {
          "base_uri": "https://localhost:8080/"
        },
        "id": "PwmoFHyUAfDN",
        "outputId": "46537116-5c80-4af0-ea4e-5b10c9a611db"
      },
      "execution_count": null,
      "outputs": [
        {
          "output_type": "stream",
          "name": "stdout",
          "text": [
            "1.0\n"
          ]
        },
        {
          "output_type": "execute_result",
          "data": {
            "text/plain": [
              "float"
            ]
          },
          "metadata": {},
          "execution_count": 35
        }
      ]
    },
    {
      "cell_type": "markdown",
      "metadata": {
        "id": "tB9pMowpzHXM"
      },
      "source": [
        "**Task 8**\n",
        "\n",
        "You are going to be given a word. Your job is to return the middle character of the word. If the word's length is odd, return the middle character. If the word's length is even, return the middle 2 characters.\n",
        "\n",
        "#Examples:\n",
        "\n",
        ">(\"test\") should return \"es\"\n",
        "\n",
        ">(\"testing\") should return \"t\""
      ]
    },
    {
      "cell_type": "code",
      "execution_count": null,
      "metadata": {
        "id": "rxX0kv2xzHXN",
        "colab": {
          "base_uri": "https://localhost:8080/"
        },
        "outputId": "2d093bf8-00c0-4ba5-960d-e98af55a067c"
      },
      "outputs": [
        {
          "output_type": "stream",
          "name": "stdout",
          "text": [
            "test\n",
            "es\n"
          ]
        }
      ],
      "source": [
        "word = input()\n",
        "x = len(word) # x=4\n",
        "m = x // 2 #m=2\n",
        "if x % 2 == 0:\n",
        "    m = word[(m - 1):(m + 1)] # word[(2-1):(2+1)] # word[1:3]\n",
        "else:\n",
        "    m = word[m]\n",
        "print(m)\n",
        "\n",
        "\n"
      ]
    },
    {
      "cell_type": "code",
      "source": [
        "word = input(\"Your word is... \")\n",
        "n=(len(word))//2\n",
        "if (len(word))%2==0:\n",
        "  print(word[n-1]+word[n])\n",
        "elif len(word)%2==1:\n",
        "  print(word[n])"
      ],
      "metadata": {
        "colab": {
          "base_uri": "https://localhost:8080/"
        },
        "id": "rhzJUbuD__iV",
        "outputId": "12dea39b-4d4f-4360-e68c-b39a1dd2cf57"
      },
      "execution_count": null,
      "outputs": [
        {
          "output_type": "stream",
          "name": "stdout",
          "text": [
            "Your word is... test\n",
            "es\n"
          ]
        }
      ]
    },
    {
      "cell_type": "code",
      "source": [
        "word = input(\"Your word is... \")\n",
        "n=(len(word))//2\n",
        "if len(word)%2!=0:\n",
        "  print(word[len(word)//2])\n",
        "else:\n",
        "  print(word[len(word)//2-1]+(word[len(word)//2]))\n"
      ],
      "metadata": {
        "colab": {
          "base_uri": "https://localhost:8080/"
        },
        "id": "_-3Dw8zbAM7r",
        "outputId": "c2980743-fbb8-423f-e3e2-44035e2b061f"
      },
      "execution_count": null,
      "outputs": [
        {
          "output_type": "stream",
          "name": "stdout",
          "text": [
            "Your word is... testing\n",
            "t\n"
          ]
        }
      ]
    },
    {
      "cell_type": "markdown",
      "metadata": {
        "id": "AbDd5ZtMzHXN"
      },
      "source": [
        "**Task 9**\n",
        "\n",
        "given is a string. If the length of the string is less than 4 print \"too short!\"\n",
        "\n",
        "if it is greater  or equals  4 check if it is even or odd.\n",
        "\n",
        "in case it is even return the last character of the word\n",
        "\n",
        "in case it is odd - print the first one."
      ]
    },
    {
      "cell_type": "code",
      "execution_count": null,
      "metadata": {
        "id": "dRSuiURazHXN",
        "colab": {
          "base_uri": "https://localhost:8080/"
        },
        "outputId": "3c5002ae-baf9-4e95-e17c-e8302d209339"
      },
      "outputs": [
        {
          "output_type": "stream",
          "name": "stdout",
          "text": [
            "bag\n",
            "Too short!\n"
          ]
        }
      ],
      "source": [
        "s = input()\n",
        "if len(s) < 4:\n",
        "  print('Too short!')\n",
        "else:\n",
        "  if len(s) % 2 == 0:\n",
        "    print(s[-1])\n",
        "  else:\n",
        "    print(s[0])\n",
        "\n",
        "\n"
      ]
    },
    {
      "cell_type": "markdown",
      "metadata": {
        "id": "qOTd9dUxzHXO"
      },
      "source": [
        "# Task 10\n",
        "You are going to be given a word. Your job is to attach the '!' to the middle character of the word. If the word's length is odd, return the middle character + '!'. If the word's length is even, return the middle 2 characters preceded and followed by \"!'.\n",
        "\n",
        "Examples:\n",
        "(\"test\") should return \"!es!\"\n",
        "\n",
        "(\"testing\") should return \"t!\"\n"
      ]
    },
    {
      "cell_type": "code",
      "execution_count": null,
      "metadata": {
        "id": "np5lzKV5zHXO",
        "colab": {
          "base_uri": "https://localhost:8080/"
        },
        "outputId": "098b8326-95d0-473e-a13f-4f3d4eb7da4f"
      },
      "outputs": [
        {
          "output_type": "stream",
          "name": "stdout",
          "text": [
            "testing\n",
            "t!\n"
          ]
        }
      ],
      "source": [
        "word = input()\n",
        "m =(len(word))//2\n",
        "if (len(word))%2==0:\n",
        "  print('!' + word[m-1] + word[m] + '!')\n",
        "else:\n",
        "  print(word[m] + '!')\n",
        "\n"
      ]
    },
    {
      "cell_type": "code",
      "execution_count": null,
      "metadata": {
        "id": "0RU8q8U-zHXO"
      },
      "outputs": [],
      "source": [
        "\n"
      ]
    },
    {
      "cell_type": "markdown",
      "metadata": {
        "id": "lKU2ISQxzHXO"
      },
      "source": [
        "### Looping and counting  \n",
        "The following program counts the number of times the letter “a” appears in a string:\n",
        "word = 'banana'\n",
        "\n",
        "count = 0\n",
        ">for letter in word:\n",
        ">>if letter == 'a':\n",
        ">>>count = count + 1\n",
        "\n",
        "print(count)\n",
        "\n",
        "This program demonstrates another pattern of computation called ***a counter***. The\n",
        "variable count is initialized to 0 and then incremented each time an “a” is found.\n",
        "When the loop exits, count contains the result: the total number of a’s."
      ]
    },
    {
      "cell_type": "code",
      "execution_count": null,
      "metadata": {
        "id": "gvZU8vc7zHXO",
        "outputId": "73ba9610-cc2f-482a-b61e-d8b8e7579478",
        "colab": {
          "base_uri": "https://localhost:8080/"
        }
      },
      "outputs": [
        {
          "output_type": "stream",
          "name": "stdout",
          "text": [
            "3\n"
          ]
        }
      ],
      "source": [
        "word = 'banana'\n",
        "count = 0\n",
        "for x in word: ## for each character in 'banana'\n",
        "    if x == 'a':\n",
        "        count = count + 1 ### count+=1\n",
        "print(count)\n"
      ]
    },
    {
      "cell_type": "code",
      "execution_count": null,
      "metadata": {
        "id": "l5Wq-a2JzHXP",
        "outputId": "7825667b-0c0a-4192-93f1-1a9d97b36f74",
        "colab": {
          "base_uri": "https://localhost:8080/"
        }
      },
      "outputs": [
        {
          "output_type": "stream",
          "name": "stdout",
          "text": [
            "b\n",
            "a\n",
            "n\n",
            "a\n",
            "n\n",
            "a\n",
            ",\n",
            " \n",
            "s\n",
            "p\n",
            "l\n",
            "i\n",
            "t\n"
          ]
        }
      ],
      "source": [
        "word = 'banana, split'\n",
        "for letter in word:\n",
        "    print(letter)\n",
        "    if letter == 'split':\n",
        "        print('yes')\n",
        "\n"
      ]
    },
    {
      "cell_type": "code",
      "execution_count": null,
      "metadata": {
        "id": "RGZsT7VdzHXP",
        "outputId": "045cb43b-d10e-4172-e86c-8c3c58846647"
      },
      "outputs": [
        {
          "name": "stdout",
          "output_type": "stream",
          "text": [
            "e\n",
            "e\n",
            "i\n",
            "3\n"
          ]
        }
      ],
      "source": [
        "word = 'the best thing'\n",
        "vowels = 'aeiuo'\n",
        "count = 0\n",
        "for i in word:\n",
        "    if i in vowels:\n",
        "        print(i)\n",
        "        count+=1\n",
        "print(count)"
      ]
    },
    {
      "cell_type": "code",
      "source": [
        "word = 'the best thing'\n",
        "consonants = 'th'\n",
        "count = 0\n",
        "for i in word:\n",
        "    if i in consonants:\n",
        "        print(i)\n",
        "        count+=1\n",
        "print(count)"
      ],
      "metadata": {
        "colab": {
          "base_uri": "https://localhost:8080/"
        },
        "id": "Jb8xjRpYVBUq",
        "outputId": "f34608fd-128f-4ad4-c803-c5ba0f535fba"
      },
      "execution_count": null,
      "outputs": [
        {
          "output_type": "stream",
          "name": "stdout",
          "text": [
            "t\n",
            "h\n",
            "t\n",
            "t\n",
            "h\n",
            "5\n"
          ]
        }
      ]
    },
    {
      "cell_type": "markdown",
      "metadata": {
        "id": "DDijHrR7zHXP"
      },
      "source": [
        "### Task 13\n",
        "\n",
        " You need to check the provided array (x) for vowels.\n",
        " If the number of consonants is greater than the number of vowels:\n",
        "\n",
        "\n",
        " If there are one or two vowels, print 'Publish!',\n",
        "\n",
        " if there are more than 2 vowels 'I smell a series!'.\n",
        "\n",
        " If the number of consonants is less than the number of vowels: print 'Fail!'.\n",
        "\n",
        " Input:\n",
        "\n",
        " 'good', 'bad', 'bad', 'bad', 'bad'\n",
        "\n",
        " Output:\n",
        "\n",
        " 'Publish!'"
      ]
    },
    {
      "cell_type": "code",
      "execution_count": null,
      "metadata": {
        "id": "uWsOB7NvzHXP",
        "colab": {
          "base_uri": "https://localhost:8080/"
        },
        "outputId": "13999012-c6bb-4c4d-cc3f-04da0f81e74f"
      },
      "outputs": [
        {
          "output_type": "stream",
          "name": "stdout",
          "text": [
            "Your word is... aaad\n",
            "fail\n"
          ]
        }
      ],
      "source": [
        "x=input(\"Your word is... \")\n",
        "vow ='aeiuo'\n",
        "count=0\n",
        "count2=0\n",
        "for i in x:\n",
        "  if i in vow:\n",
        "    count+=1\n",
        "  else:\n",
        "    count2+=1\n",
        "if count2 > count:\n",
        "  if count <= 2:\n",
        "    print('publish!')\n",
        "  elif count > 2:\n",
        "    print('I smell a series')\n",
        "elif count == count2:\n",
        "    print('a book')\n",
        "else:\n",
        "  print('fail')\n",
        "\n"
      ]
    },
    {
      "cell_type": "code",
      "source": [
        "x=input(\"Your word is... \")\n",
        "vow ='aeiuo'\n",
        "count=0\n",
        "for i in x:\n",
        "  if i in vow:\n",
        "    count+=1\n",
        "count2=len(x)-count\n",
        "print(count,count2)"
      ],
      "metadata": {
        "colab": {
          "base_uri": "https://localhost:8080/"
        },
        "id": "dVWoz5BYOy6Z",
        "outputId": "1fdb0879-b764-4048-f2c9-1d272424a622"
      },
      "execution_count": null,
      "outputs": [
        {
          "output_type": "stream",
          "name": "stdout",
          "text": [
            "Your word is... stay\n",
            "1 3\n"
          ]
        }
      ]
    },
    {
      "cell_type": "code",
      "source": [
        "x=input()\n",
        "c='fghd'\n",
        "for i in x:\n",
        "  if i in c:\n",
        "    print(i)\n",
        "  else:\n",
        "    print('fail')"
      ],
      "metadata": {
        "colab": {
          "base_uri": "https://localhost:8080/"
        },
        "id": "VOusEaeaRtbe",
        "outputId": "c2f6e571-f7be-47e7-f078-91539611a831"
      },
      "execution_count": null,
      "outputs": [
        {
          "output_type": "stream",
          "name": "stdout",
          "text": [
            "aghkd\n",
            "fail\n",
            "g\n",
            "h\n",
            "fail\n",
            "d\n"
          ]
        }
      ]
    },
    {
      "cell_type": "markdown",
      "metadata": {
        "id": "On7PgNyMzHXP"
      },
      "source": [
        "### String methods\n",
        "\n",
        "Python has a function called dir which lists the methods available for an object."
      ]
    },
    {
      "cell_type": "code",
      "execution_count": null,
      "metadata": {
        "id": "bzirho18zHXQ",
        "outputId": "0404f719-93cf-48e3-dd01-664923b1696b"
      },
      "outputs": [
        {
          "data": {
            "text/plain": [
              "['__add__',\n",
              " '__class__',\n",
              " '__contains__',\n",
              " '__delattr__',\n",
              " '__dir__',\n",
              " '__doc__',\n",
              " '__eq__',\n",
              " '__format__',\n",
              " '__ge__',\n",
              " '__getattribute__',\n",
              " '__getitem__',\n",
              " '__getnewargs__',\n",
              " '__gt__',\n",
              " '__hash__',\n",
              " '__init__',\n",
              " '__init_subclass__',\n",
              " '__iter__',\n",
              " '__le__',\n",
              " '__len__',\n",
              " '__lt__',\n",
              " '__mod__',\n",
              " '__mul__',\n",
              " '__ne__',\n",
              " '__new__',\n",
              " '__reduce__',\n",
              " '__reduce_ex__',\n",
              " '__repr__',\n",
              " '__rmod__',\n",
              " '__rmul__',\n",
              " '__setattr__',\n",
              " '__sizeof__',\n",
              " '__str__',\n",
              " '__subclasshook__',\n",
              " 'capitalize',\n",
              " 'casefold',\n",
              " 'center',\n",
              " 'count',\n",
              " 'encode',\n",
              " 'endswith',\n",
              " 'expandtabs',\n",
              " 'find',\n",
              " 'format',\n",
              " 'format_map',\n",
              " 'index',\n",
              " 'isalnum',\n",
              " 'isalpha',\n",
              " 'isascii',\n",
              " 'isdecimal',\n",
              " 'isdigit',\n",
              " 'isidentifier',\n",
              " 'islower',\n",
              " 'isnumeric',\n",
              " 'isprintable',\n",
              " 'isspace',\n",
              " 'istitle',\n",
              " 'isupper',\n",
              " 'join',\n",
              " 'ljust',\n",
              " 'lower',\n",
              " 'lstrip',\n",
              " 'maketrans',\n",
              " 'partition',\n",
              " 'replace',\n",
              " 'rfind',\n",
              " 'rindex',\n",
              " 'rjust',\n",
              " 'rpartition',\n",
              " 'rsplit',\n",
              " 'rstrip',\n",
              " 'split',\n",
              " 'splitlines',\n",
              " 'startswith',\n",
              " 'strip',\n",
              " 'swapcase',\n",
              " 'title',\n",
              " 'translate',\n",
              " 'upper',\n",
              " 'zfill']"
            ]
          },
          "execution_count": 53,
          "metadata": {},
          "output_type": "execute_result"
        }
      ],
      "source": [
        "line = 'banana'\n",
        "dir (line)"
      ]
    },
    {
      "cell_type": "markdown",
      "metadata": {
        "id": "ZWACLv7OzHXQ"
      },
      "source": [
        "Calling a method is similar to calling a function (it takes arguments and returns\n",
        "a value) but the syntax is different.\n",
        "\n",
        "We call a method by appending the method\n",
        "name to the variable name using the period as a delimiter.\n",
        "\n",
        "\n",
        "For example, the method ***upper*** takes a string and returns a new string with all\n",
        "uppercase letters:\n"
      ]
    },
    {
      "cell_type": "markdown",
      "metadata": {
        "id": "0Je8t1IFzHXQ"
      },
      "source": [
        ">line = 'banana'\n",
        "\n",
        ">new_line = line.upper()\n",
        "\n",
        "> print(new_line)\n",
        "\n",
        ">BANANA\n",
        "\n",
        "This form of dot notation specifies the name of the method, ***upper***, and the name\n",
        "of the string to apply the method to, ***line***.\n",
        "\n",
        "The empty parentheses indicate that\n",
        "this method takes no argument."
      ]
    },
    {
      "cell_type": "markdown",
      "metadata": {
        "id": "IaQgQPt1zHXQ"
      },
      "source": [
        "A string method named **find** that searches for the position\n",
        "of one string within another:  \n",
        ">word = 'banana'\n",
        "\n",
        ">index = word.find('a')\n",
        "\n",
        ">print(index)\n",
        "\n",
        "> 1\n",
        "\n",
        "In this example, we invoke **find** on word and pass the letter we are looking for as\n",
        "a parameter.\n",
        "\n",
        "Documentation on methods:\n",
        "\n",
        "https://docs.python.org/3/library/stdtypes.html#string-methods"
      ]
    },
    {
      "cell_type": "markdown",
      "metadata": {
        "id": "iXvWdMVGzHXQ"
      },
      "source": [
        "### Task 14\n",
        "\n",
        "Given a string, return a copy of the string with the vowels' case swapped.\n",
        "\n",
        "For this task, assume that vowels are in the set \"aeouiAEOUI\".\n",
        "\n",
        "Example: Given a string \"C is alive!\", your program should return \"C Is AlIvE!\"\n",
        "\n"
      ]
    },
    {
      "cell_type": "code",
      "execution_count": null,
      "metadata": {
        "id": "UNyNvc8-zHXQ",
        "outputId": "adcbb57f-2cea-4311-edc5-5893e48f257c",
        "colab": {
          "base_uri": "https://localhost:8080/"
        }
      },
      "outputs": [
        {
          "output_type": "stream",
          "name": "stdout",
          "text": [
            "C Is AlIvE!\n"
          ]
        }
      ],
      "source": [
        "string = \"C is alive!\"\n",
        "new=''\n",
        "vowels=\"aeouiAEOUI\"\n",
        "for i in string:\n",
        "  if i in vowels:\n",
        "    new+=i.swapcase()\n",
        "  else:\n",
        "    new+=i\n",
        "print(new)\n",
        "\n",
        "\n"
      ]
    },
    {
      "cell_type": "markdown",
      "metadata": {
        "id": "7lFmze_XzHXR"
      },
      "source": [
        "### Task 15\n",
        "\n",
        "Check to see if a string has the same amount of 'x's and 'o's. The method must return a boolean and be case insensitive. The string can contain any character.\n",
        "\n",
        "Examples input/output:\n",
        "\n",
        ">XO(\"ooxx\") => true\n",
        "\n",
        ">XO(\"xooxx\") => false\n",
        "\n",
        ">XO(\"ooxXm\") => true\n",
        "\n",
        ">XO(\"zpzpzpp\") => true // when no 'x' and 'o' is present should return true\n",
        "\n",
        ">XO(\"zzoo\") => false\n",
        "\n",
        "Use the methods: .lower() and .count()"
      ]
    },
    {
      "cell_type": "code",
      "execution_count": null,
      "metadata": {
        "id": "DU_OE3BKzHXR",
        "colab": {
          "base_uri": "https://localhost:8080/"
        },
        "outputId": "0955a3ef-fdec-40ec-e003-8ba13b3a1d9c"
      },
      "outputs": [
        {
          "output_type": "stream",
          "name": "stdout",
          "text": [
            "XojOx\n",
            "True\n"
          ]
        }
      ],
      "source": [
        "st = input() # XoXo\n",
        "new = st.lower() #xoxo\n",
        "if st.count('o') == st.count('x'):\n",
        "  print('True')\n",
        "else:\n",
        "  print('False')"
      ]
    },
    {
      "cell_type": "code",
      "execution_count": null,
      "metadata": {
        "id": "leKlSLahzHXR",
        "colab": {
          "base_uri": "https://localhost:8080/"
        },
        "outputId": "e94eb982-b545-4023-a010-9b06f6ba83fd"
      },
      "outputs": [
        {
          "output_type": "stream",
          "name": "stdout",
          "text": [
            "Xxxo\n",
            "False\n"
          ]
        }
      ],
      "source": [
        "s = input()\n",
        "s = s.lower()\n",
        "print(s.count('x') == s.count('o'))\n",
        "\n",
        "\n"
      ]
    },
    {
      "cell_type": "code",
      "execution_count": null,
      "metadata": {
        "id": "jjIVmUc9zHXR",
        "colab": {
          "base_uri": "https://localhost:8080/"
        },
        "outputId": "175933ea-b4f3-4dbc-f0ed-3bd045b78f2d"
      },
      "outputs": [
        {
          "output_type": "stream",
          "name": "stdout",
          "text": [
            "Xopo\n",
            "False\n"
          ]
        }
      ],
      "source": [
        "line = input()\n",
        "new_line = line.lower()\n",
        "a = new_line.count('x')\n",
        "b = new_line.count('o')\n",
        "print(a==b)\n"
      ]
    },
    {
      "cell_type": "markdown",
      "metadata": {
        "id": "B1yVqpv2zHXS"
      },
      "source": [
        "### Task 16 H/A\n",
        "\n",
        "Your task is to write a programme that takes the value of a word and returns it with an \"i\" at the beginning of the word. For example we get the word \"Phone\", so we must return \"iPhone\". But we have a few rules:\n",
        "\n",
        "    The word should not begin with the letter \"I\", for example Inspire.\n",
        "    The number of vowels should not be greater than or equal to the number of consonants, for example East or Peace. (\"y\" is considered a consonant)\n",
        "    The first letter should not be lowercase, for example road.\n",
        "\n",
        "If the word does not meet the rules, we return \"Invalid word\".\n"
      ]
    },
    {
      "cell_type": "code",
      "execution_count": 4,
      "metadata": {
        "id": "QrtLesrdzHXS",
        "colab": {
          "base_uri": "https://localhost:8080/"
        },
        "outputId": "ed96cdfc-e005-455d-f48a-a237791330b1"
      },
      "outputs": [
        {
          "output_type": "stream",
          "name": "stdout",
          "text": [
            "Let's create a new Apple product... Apple\n",
            "IApple\n"
          ]
        }
      ],
      "source": [
        "word=input(\"Let's create a new Apple product... \")\n",
        "count=0\n",
        "count2=0\n",
        "vows=\"aeiouAEIOU\"\n",
        "for i in word:\n",
        "  if i in vows:\n",
        "    count+=1\n",
        "  else:\n",
        "    count2+=1\n",
        "if count>=count2 or word.startswith('I') or word[0].islower():\n",
        "  print(\"Invalid word :(\")\n",
        "else:\n",
        "  print(\"I\"+word)"
      ]
    },
    {
      "cell_type": "code",
      "source": [
        "word=input(\"Let's create a new Apple product... \")\n",
        "count=0\n",
        "vows=\"aeiouAEIOU\"\n",
        "for i in word:\n",
        "  if i in vows:\n",
        "    count+=1\n",
        "count2=len(word)-count\n",
        "if count>=count2 or word[0]=='I'or word[0].islower():\n",
        "  print(\"Invalid word :(\")\n",
        "else:\n",
        "  print(\"I\"+word)\n"
      ],
      "metadata": {
        "id": "3v7gzAgQFIb9",
        "colab": {
          "base_uri": "https://localhost:8080/"
        },
        "outputId": "8a95fc19-6904-40fd-a120-3447c810f96b"
      },
      "execution_count": 5,
      "outputs": [
        {
          "output_type": "stream",
          "name": "stdout",
          "text": [
            "Let's create a new Apple product... Phone\n",
            "IPhone\n"
          ]
        }
      ]
    },
    {
      "cell_type": "markdown",
      "metadata": {
        "id": "ppqA6pyQzHXS"
      },
      "source": [
        "### Task 17 h/A\n",
        "Write a program to determine if a string contains only unique characters. Return true if it does and false otherwise.\n",
        "\n",
        "Example:\n",
        "\n",
        "dog1 = True\n",
        "\n",
        "GGji7 = False"
      ]
    },
    {
      "cell_type": "code",
      "execution_count": 7,
      "metadata": {
        "id": "n8al0SpkzHXS",
        "colab": {
          "base_uri": "https://localhost:8080/"
        },
        "outputId": "adcf80a4-e6be-44d2-815b-72fc7815bc39"
      },
      "outputs": [
        {
          "output_type": "stream",
          "name": "stdout",
          "text": [
            "enter a word dog\n",
            "true\n"
          ]
        }
      ],
      "source": [
        "s = input('enter a word ')\n",
        "for c in s:\n",
        "  if s.count(c) > 1:\n",
        "    print('false')\n",
        "    break\n",
        "else:\n",
        "    print('true')"
      ]
    },
    {
      "cell_type": "code",
      "source": [
        "s = input('enter a word ')\n",
        "unique=''\n",
        "for i in s:\n",
        "  if i not in unique:\n",
        "    unique+=i\n",
        "print(len(s)==len(unique))"
      ],
      "metadata": {
        "colab": {
          "base_uri": "https://localhost:8080/"
        },
        "id": "FvdnRh9utign",
        "outputId": "b885d7d7-4df7-4263-8d5c-548225cbe9cc"
      },
      "execution_count": 10,
      "outputs": [
        {
          "output_type": "stream",
          "name": "stdout",
          "text": [
            "enter a word dog\n",
            "True\n"
          ]
        }
      ]
    },
    {
      "cell_type": "code",
      "execution_count": 12,
      "metadata": {
        "id": "O-N2hMRuzHXS",
        "colab": {
          "base_uri": "https://localhost:8080/"
        },
        "outputId": "64707fba-dc45-4f47-bec1-7e6bfc30ae28"
      },
      "outputs": [
        {
          "output_type": "stream",
          "name": "stdout",
          "text": [
            "enter a word enter\n",
            "False\n"
          ]
        }
      ],
      "source": [
        "s = input('enter a word ')\n",
        "if len (set(s))== len(s):\n",
        "  print('True')\n",
        "else:\n",
        "  print('False')\n"
      ]
    },
    {
      "cell_type": "code",
      "source": [
        "s = input('enter a word ')\n",
        "print(len (set(s))== len(s))\n",
        "\n"
      ],
      "metadata": {
        "colab": {
          "base_uri": "https://localhost:8080/"
        },
        "id": "rit3MfTlvTyl",
        "outputId": "67e941e2-e93a-4f00-dd1f-8d3f56cfdfd6"
      },
      "execution_count": 13,
      "outputs": [
        {
          "output_type": "stream",
          "name": "stdout",
          "text": [
            "enter a word apple\n",
            "False\n"
          ]
        }
      ]
    },
    {
      "cell_type": "code",
      "execution_count": null,
      "metadata": {
        "id": "ATZ1POeNzHXS",
        "colab": {
          "base_uri": "https://localhost:8080/"
        },
        "outputId": "4007e847-f448-4ab9-c5d7-8bb5ee8c1da0"
      },
      "outputs": [
        {
          "output_type": "stream",
          "name": "stdout",
          "text": [
            "6\n",
            "3\n"
          ]
        }
      ],
      "source": []
    },
    {
      "cell_type": "code",
      "execution_count": null,
      "metadata": {
        "id": "DFjnr0L2zHXS"
      },
      "outputs": [],
      "source": []
    },
    {
      "cell_type": "code",
      "execution_count": null,
      "metadata": {
        "id": "ZTlUAjFAzHXT"
      },
      "outputs": [],
      "source": []
    },
    {
      "cell_type": "markdown",
      "metadata": {
        "id": "gexdkem8zHXT"
      },
      "source": [
        "### “Formatted string literals,” f-strings.\n",
        "\n",
        " f-strings are string literals that have an ***f*** at the beginning and curly braces containing expressions that will be replaced with their values.\n",
        "\n",
        "> name = \"Eric\"\n",
        "\n",
        ">age = 74\n",
        "\n",
        ">print(f\"Hello, {name}. You are {age}.\")\n",
        "\n",
        "\n",
        "'Hello, Eric. You are 74.'\n",
        "\n",
        "\n",
        "Also, when formatting strings, you can use the results of calculations and the results of the methods:\n"
      ]
    },
    {
      "cell_type": "code",
      "execution_count": 15,
      "metadata": {
        "colab": {
          "base_uri": "https://localhost:8080/"
        },
        "id": "FEvAQ2AxzHXT",
        "outputId": "a5e68193-f200-477f-baf5-c73b98ed6e57"
      },
      "outputs": [
        {
          "output_type": "stream",
          "name": "stdout",
          "text": [
            "John\n",
            "1999\n",
            "360\n",
            "Your name: John+ Age: 25+ Height: 11.8\n"
          ]
        }
      ],
      "source": [
        "name = input()\n",
        "birth_year = int(input())\n",
        "height = int(input())\n",
        "print(f\"Your name: {name.capitalize()}+ Age: {2024-birth_year}+ Height: {height * 0.0328083992:.1f}\")"
      ]
    },
    {
      "cell_type": "code",
      "execution_count": null,
      "metadata": {
        "id": "PoLR5UpvzHXT"
      },
      "outputs": [],
      "source": []
    },
    {
      "cell_type": "code",
      "execution_count": 18,
      "metadata": {
        "id": "K_splvUqzHXT",
        "outputId": "8e995049-5448-49e4-9dad-148a81bff015",
        "colab": {
          "base_uri": "https://localhost:8080/",
          "height": 211
        }
      },
      "outputs": [
        {
          "name": "stdout",
          "output_type": "stream",
          "text": [
            "Eric\n",
            "177\n"
          ]
        },
        {
          "output_type": "error",
          "ename": "IndexError",
          "evalue": "Replacement index 1 out of range for positional args tuple",
          "traceback": [
            "\u001b[0;31m---------------------------------------------------------------------------\u001b[0m",
            "\u001b[0;31mIndexError\u001b[0m                                Traceback (most recent call last)",
            "\u001b[0;32m<ipython-input-18-3795b1c1b7e5>\u001b[0m in \u001b[0;36m<cell line: 3>\u001b[0;34m()\u001b[0m\n\u001b[1;32m      1\u001b[0m \u001b[0mname\u001b[0m \u001b[0;34m=\u001b[0m \u001b[0minput\u001b[0m\u001b[0;34m(\u001b[0m\u001b[0;34m)\u001b[0m\u001b[0;34m\u001b[0m\u001b[0;34m\u001b[0m\u001b[0m\n\u001b[1;32m      2\u001b[0m \u001b[0mheight\u001b[0m \u001b[0;34m=\u001b[0m \u001b[0mint\u001b[0m\u001b[0;34m(\u001b[0m\u001b[0minput\u001b[0m\u001b[0;34m(\u001b[0m\u001b[0;34m)\u001b[0m\u001b[0;34m)\u001b[0m\u001b[0;34m\u001b[0m\u001b[0;34m\u001b[0m\u001b[0m\n\u001b[0;32m----> 3\u001b[0;31m \u001b[0mprint\u001b[0m\u001b[0;34m(\u001b[0m\u001b[0;34m\"Your name:{}. Height:{}\"\u001b[0m\u001b[0;34m.\u001b[0m\u001b[0mformat\u001b[0m \u001b[0;34m(\u001b[0m\u001b[0mname\u001b[0m\u001b[0;34m)\u001b[0m\u001b[0;34m)\u001b[0m\u001b[0;34m\u001b[0m\u001b[0;34m\u001b[0m\u001b[0m\n\u001b[0m",
            "\u001b[0;31mIndexError\u001b[0m: Replacement index 1 out of range for positional args tuple"
          ]
        }
      ],
      "source": [
        "name = input()\n",
        "height = int(input())\n",
        "print(\"Your name:{}. Height:{}\".format (name,height))"
      ]
    },
    {
      "cell_type": "code",
      "execution_count": null,
      "metadata": {
        "id": "MbH9F_bnzHXT",
        "outputId": "065ab233-fb62-403a-9d83-41aa83d57a78"
      },
      "outputs": [
        {
          "name": "stdout",
          "output_type": "stream",
          "text": [
            "eric\n",
            "44\n",
            "188\n",
            "Your name:Eric. Your age:44. Height:6.17\n"
          ]
        }
      ],
      "source": [
        "name = input().capitalize()\n",
        "age = input()\n",
        "height = int(input())* 0.0328083992\n",
        "print(\"Your name:{}. Your age:{}. Height:{:.2f}\".format (name,age,height))"
      ]
    }
  ],
  "metadata": {
    "kernelspec": {
      "display_name": "Python 3",
      "language": "python",
      "name": "python3"
    },
    "language_info": {
      "codemirror_mode": {
        "name": "ipython",
        "version": 3
      },
      "file_extension": ".py",
      "mimetype": "text/x-python",
      "name": "python",
      "nbconvert_exporter": "python",
      "pygments_lexer": "ipython3",
      "version": "3.8.3"
    },
    "colab": {
      "provenance": [],
      "include_colab_link": true
    }
  },
  "nbformat": 4,
  "nbformat_minor": 0
}