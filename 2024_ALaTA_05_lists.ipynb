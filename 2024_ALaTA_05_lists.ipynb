{
  "cells": [
    {
      "cell_type": "markdown",
      "metadata": {
        "id": "view-in-github",
        "colab_type": "text"
      },
      "source": [
        "<a href=\"https://colab.research.google.com/github/JuliaBalakina/ALATA2024/blob/main/2024_ALaTA_05_lists.ipynb\" target=\"_parent\"><img src=\"https://colab.research.google.com/assets/colab-badge.svg\" alt=\"Open In Colab\"/></a>"
      ]
    },
    {
      "cell_type": "markdown",
      "metadata": {
        "id": "YSe6yoqs4pP-"
      },
      "source": [
        "### Lists\n",
        "\n",
        "Like a string, a list is a sequence of values.\n",
        "\n",
        "In a string, the values are characters; in a list, they can be **any type**.\n",
        "\n",
        "The values in a list are called **elements** or sometimes\n",
        "**items**.\n",
        "\n",
        "There are several ways to create a new list; the simplest is to enclose the elements\n",
        "in square brackets (“[\" and “]”):\n",
        "\n",
        "> [1, 2, 3, 4]\n",
        "\n",
        "> ['frog', 'rabbit', 'dog']\n",
        "\n",
        "The first example is a list of four integers. The second is a list of three strings.\n",
        "\n",
        "\n",
        "The elements of a list **don’t have to be the same type**.\n",
        "\n",
        "The following list contains\n",
        "a string, a float, an integer, and (!) another list:\n",
        "\n",
        ">['spam', 2.0, 5, [10, 20]]\n",
        "\n",
        "A list within another list is nested.\n",
        "\n",
        "A list that contains no elements is called an **empty list**; you can create one with\n",
        "empty brackets, []."
      ]
    },
    {
      "cell_type": "code",
      "execution_count": null,
      "metadata": {
        "id": "q9pEsZUN4pQB"
      },
      "outputs": [],
      "source": [
        "x =''\n",
        "e =[]\n",
        "y = list()"
      ]
    },
    {
      "cell_type": "code",
      "execution_count": null,
      "metadata": {
        "id": "meJD2jmI4pQD",
        "outputId": "3cf073f9-ea86-4e83-ff24-8513e4242835"
      },
      "outputs": [
        {
          "name": "stdout",
          "output_type": "stream",
          "text": [
            "frog\n",
            "3\n"
          ]
        }
      ],
      "source": [
        "animals = ['frog', 'rabbit', 'dog']\n",
        "print(animals [0])\n",
        "print(len(animals))"
      ]
    },
    {
      "cell_type": "markdown",
      "metadata": {
        "id": "zzqe4i-e4pQD"
      },
      "source": [
        "### Lists are mutable\n",
        "\n",
        "Unlike strings, lists are mutable because you can change the order of items in a\n",
        "list or reassign an item in a list. When the bracket operator appears on the left\n",
        "side of an assignment, it identifies the element of the list that will be assigned.\n",
        "\n"
      ]
    },
    {
      "cell_type": "code",
      "execution_count": null,
      "metadata": {
        "id": "DHmWnLxx4pQE",
        "outputId": "2abb14d3-67ec-4500-8f94-fceb0dec75ec"
      },
      "outputs": [
        {
          "name": "stdout",
          "output_type": "stream",
          "text": [
            "['frog', 'cat', 'dog']\n"
          ]
        }
      ],
      "source": [
        "animals = ['frog', 'rabbit', 'dog'] ### a list of strings\n",
        "animals[1]= 'cat'  ## update the value of the element with index [1]\n",
        "print(animals)\n"
      ]
    },
    {
      "cell_type": "code",
      "execution_count": null,
      "metadata": {
        "id": "TpbWWjZw4pQF",
        "outputId": "d8b1fce4-e30f-4b3d-d738-fa1470684689"
      },
      "outputs": [
        {
          "name": "stdout",
          "output_type": "stream",
          "text": [
            "frog\n",
            "cat\n",
            "dog\n"
          ]
        }
      ],
      "source": [
        "for i in animals: ### for loop\n",
        "    print(i)"
      ]
    },
    {
      "cell_type": "code",
      "execution_count": null,
      "metadata": {
        "id": "wiFcf2qI4pQF",
        "outputId": "57094831-5910-4c30-a0b6-90a6e3696286"
      },
      "outputs": [
        {
          "name": "stdout",
          "output_type": "stream",
          "text": [
            "Frog\n",
            "Rabbit\n",
            "Dog\n"
          ]
        }
      ],
      "source": [
        "animals = ['frog', 'rabbit', 'dog'] ## we use string methods for the elements of our list\n",
        "for i in animals:\n",
        "    i = i.capitalize()\n",
        "    print(i)"
      ]
    },
    {
      "cell_type": "markdown",
      "metadata": {
        "id": "OuCBfMWB4pQG"
      },
      "source": [
        "### Slices\n",
        "\n",
        "If you omit the first index, the slice starts at the beginning [:2].\n",
        "\n",
        "If you omit the second,\n",
        "the slice goes to the end [1:].\n",
        "\n",
        "So if you omit both, the slice is a copy of the whole list [:]."
      ]
    },
    {
      "cell_type": "code",
      "execution_count": null,
      "metadata": {
        "id": "6e6lL8-d4pQG",
        "outputId": "a798235e-332c-439b-dcce-9bc5b817eec8",
        "colab": {
          "base_uri": "https://localhost:8080/"
        }
      },
      "outputs": [
        {
          "output_type": "stream",
          "name": "stdout",
          "text": [
            "dog\n",
            "rabbit\n"
          ]
        }
      ],
      "source": [
        "animals=['cat','dog','rabbit']\n",
        "for i in animals [1:]: ## slices\n",
        "    print(i)"
      ]
    },
    {
      "cell_type": "code",
      "execution_count": null,
      "metadata": {
        "id": "GJebUJ3t4pQG",
        "outputId": "e3dc95bb-841f-43b3-8309-9199964af531",
        "colab": {
          "base_uri": "https://localhost:8080/"
        }
      },
      "outputs": [
        {
          "output_type": "stream",
          "name": "stdout",
          "text": [
            "['dog', 'rabbit', 'frog']\n"
          ]
        }
      ],
      "source": [
        "animals = ['frog', 'rabbit', 'dog'] #reverse order\n",
        "animals = animals[::-1]\n",
        "print(animals)"
      ]
    },
    {
      "cell_type": "code",
      "execution_count": null,
      "metadata": {
        "id": "G_TeS-Iw4pQH",
        "outputId": "8a0d10c2-4fc7-4721-c267-cc24c724dc7d",
        "colab": {
          "base_uri": "https://localhost:8080/"
        }
      },
      "outputs": [
        {
          "output_type": "stream",
          "name": "stdout",
          "text": [
            "['cat', 'dog', 'rabbit']\n",
            "cat\n",
            "t\n"
          ]
        }
      ],
      "source": [
        "print(animals)\n",
        "print(animals[0])\n",
        "print(animals[0][-1])"
      ]
    },
    {
      "cell_type": "code",
      "source": [
        "animals2=['cat', ['dog','rat']]\n",
        "print(animals2[1])\n",
        "print(animals2[1][0])\n",
        "print(animals2[1][0][0])\n"
      ],
      "metadata": {
        "colab": {
          "base_uri": "https://localhost:8080/"
        },
        "id": "0hCSu4HW5NUn",
        "outputId": "3f0d0cde-485d-4cbf-d4ea-894b8a40cef2"
      },
      "execution_count": null,
      "outputs": [
        {
          "output_type": "stream",
          "name": "stdout",
          "text": [
            "['dog', 'rat']\n",
            "dog\n",
            "d\n"
          ]
        }
      ]
    },
    {
      "cell_type": "code",
      "execution_count": null,
      "metadata": {
        "id": "DuIpnucr4pQH",
        "outputId": "f1423d57-1af4-4ce8-89ba-ed9b9ecf3d0d",
        "colab": {
          "base_uri": "https://localhost:8080/"
        }
      },
      "outputs": [
        {
          "output_type": "stream",
          "name": "stdout",
          "text": [
            "C\n",
            "A\n",
            "T\n",
            "P\n",
            "I\n",
            "G\n",
            "D\n",
            "O\n",
            "G\n",
            "R\n",
            "A\n",
            "T\n"
          ]
        }
      ],
      "source": [
        "animals2=[['cat','pig'], ['dog','rat']]\n",
        "for immediate_constituents in animals2:\n",
        "  for word in immediate_constituents:\n",
        "    for letter in word:\n",
        "        letter = letter.upper()\n",
        "        print(letter)\n"
      ]
    },
    {
      "cell_type": "code",
      "source": [
        "animals2=[['cat','pig'], ['dog','rat']]\n",
        "for immediate_constituents in animals2:\n",
        "  for word in immediate_constituents:\n",
        "      word =word.capitalize()\n",
        "      print(word)"
      ],
      "metadata": {
        "colab": {
          "base_uri": "https://localhost:8080/"
        },
        "id": "c8xMjYvi8rei",
        "outputId": "6b5cfef7-f94a-4561-e1e0-70cc10fdf642"
      },
      "execution_count": null,
      "outputs": [
        {
          "output_type": "stream",
          "name": "stdout",
          "text": [
            "Cat\n",
            "Pig\n",
            "Dog\n",
            "Rat\n"
          ]
        }
      ]
    },
    {
      "cell_type": "code",
      "source": [
        "animals2=[['cat','pig'], ['dog','rat']]\n",
        "for immediate_constituents in animals2:\n",
        "    immediate_constituents='nothing'\n",
        "    print(immediate_constituents)\n"
      ],
      "metadata": {
        "colab": {
          "base_uri": "https://localhost:8080/"
        },
        "id": "MPOGx9NN9EcA",
        "outputId": "8de1f37e-b64e-4321-eaea-4479d43a165c"
      },
      "execution_count": null,
      "outputs": [
        {
          "output_type": "stream",
          "name": "stdout",
          "text": [
            "nothing\n",
            "nothing\n"
          ]
        }
      ]
    },
    {
      "cell_type": "code",
      "execution_count": null,
      "metadata": {
        "id": "CLa13wN34pQH",
        "outputId": "a68427e1-dd1f-420e-a1ae-d6b940ab5223"
      },
      "outputs": [
        {
          "name": "stdout",
          "output_type": "stream",
          "text": [
            "['D', 'O', 'G']\n",
            "['R', 'A', 'B', 'B', 'I', 'T']\n",
            "['F', 'R', 'O', 'G']\n"
          ]
        }
      ],
      "source": [
        "animals['dog','cat','rabbit']\n",
        "for word in animals:\n",
        "    word = [letter.upper()for letter in word]\n",
        "    print(word)"
      ]
    },
    {
      "cell_type": "markdown",
      "source": [
        "**JOIN**\n",
        "\n",
        "The method to convert a list of strings into a single string\n",
        "\n",
        "s=' '.join (['my', 'house', 'is', 'large'])\n",
        "\n",
        "my house is large\n",
        "\n",
        "s='+'.join (['my', 'house', 'is', 'large'])\n",
        "\n",
        "my+house+is+large"
      ],
      "metadata": {
        "id": "DIDXp9fP04Ca"
      }
    },
    {
      "cell_type": "code",
      "execution_count": null,
      "metadata": {
        "id": "bpr3LNes4pQH",
        "outputId": "4df3092f-bbaa-423a-c6df-a75209c53810",
        "colab": {
          "base_uri": "https://localhost:8080/"
        }
      },
      "outputs": [
        {
          "output_type": "stream",
          "name": "stdout",
          "text": [
            "['F', 'R', 'O', 'G']\n",
            "FROG\n",
            "['R', 'A', 'B', 'B', 'I', 'T']\n",
            "RABBIT\n",
            "['D', 'O', 'G']\n",
            "DOG\n"
          ]
        }
      ],
      "source": [
        "animals = ['frog', 'rabbit', 'dog']\n",
        "for word in animals:\n",
        "    word = [letter.upper()for letter in word]\n",
        "    print(word)\n",
        "    print(''.join(word))"
      ]
    },
    {
      "cell_type": "code",
      "execution_count": null,
      "metadata": {
        "id": "zgLDIi_q4pQI",
        "outputId": "0318edf0-cfca-4864-abe4-b884f2baacf0"
      },
      "outputs": [
        {
          "name": "stdout",
          "output_type": "stream",
          "text": [
            "FROG\n",
            "RABBIT\n",
            "DOG\n"
          ]
        }
      ],
      "source": [
        "animals = ['frog', 'rabbit', 'dog']\n",
        "for word in animals:\n",
        "    word = (''.join([letter.upper()for letter in word]))\n",
        "    print(word)"
      ]
    },
    {
      "cell_type": "code",
      "execution_count": null,
      "metadata": {
        "id": "nWPxim2M4pQI",
        "outputId": "049dc90e-fe4f-41be-8f25-adcbec774571"
      },
      "outputs": [
        {
          "name": "stdout",
          "output_type": "stream",
          "text": [
            "FROG\n",
            "RABBIT\n",
            "DOG\n"
          ]
        }
      ],
      "source": [
        "animals = ['frog', 'rabbit', 'dog']\n",
        "for word in animals:\n",
        "    print(''.join([letter.upper()for letter in word]))\n"
      ]
    },
    {
      "cell_type": "markdown",
      "source": [
        "**SPLIT**\n",
        "\n",
        "The method to convert a string to a list.\n",
        "\n",
        "new_list= input().split()\n",
        "\n",
        "new_list= input().split(sep='*')\n"
      ],
      "metadata": {
        "id": "7rZyT2Q22kFg"
      }
    },
    {
      "cell_type": "code",
      "source": [
        "new=input().split()\n",
        "print(new)"
      ],
      "metadata": {
        "colab": {
          "base_uri": "https://localhost:8080/"
        },
        "id": "gks_QR4kACTS",
        "outputId": "83f47a23-473f-4176-c1ff-98301a4510df"
      },
      "execution_count": null,
      "outputs": [
        {
          "output_type": "stream",
          "name": "stdout",
          "text": [
            "the house is big\n",
            "['the', 'house', 'is', 'big']\n"
          ]
        }
      ]
    },
    {
      "cell_type": "markdown",
      "source": [
        "**Task**\n",
        "\n",
        "Enter several words on one line separated by spaces and output these words separated by two hyphens \"--\"."
      ],
      "metadata": {
        "id": "ICB-WT3s4HFb"
      }
    },
    {
      "cell_type": "code",
      "source": [
        "words = input(\"enter several words separated by spaces \")\n",
        "words_list = words.split()\n",
        "print(\"--\".join(words_list))"
      ],
      "metadata": {
        "colab": {
          "base_uri": "https://localhost:8080/"
        },
        "id": "Ruhp03E0Bwkz",
        "outputId": "21df9197-56a3-415c-f7b3-e53d63bc962d"
      },
      "execution_count": null,
      "outputs": [
        {
          "output_type": "stream",
          "name": "stdout",
          "text": [
            "enter several words separated by spaces cat dog\n",
            "cat--dog\n"
          ]
        }
      ]
    },
    {
      "cell_type": "code",
      "source": [
        "new = input().split(' ')\n",
        "print('--'.join(new))"
      ],
      "metadata": {
        "colab": {
          "base_uri": "https://localhost:8080/"
        },
        "id": "SAoA2S-yDCoR",
        "outputId": "a6046bc0-9fee-4785-b9e3-bf0795acdde1"
      },
      "execution_count": null,
      "outputs": [
        {
          "output_type": "stream",
          "name": "stdout",
          "text": [
            "cat dog\n",
            "cat--dog\n"
          ]
        }
      ]
    },
    {
      "cell_type": "markdown",
      "source": [
        "**Task**\n",
        "\n",
        "Enter multiple words on one line separated by spaces.\n",
        "\n",
        "Use join() to get a new line by inserting a \"/\" character between each two words of the original line."
      ],
      "metadata": {
        "id": "5OWC3AA44evZ"
      }
    },
    {
      "cell_type": "code",
      "source": [
        "new = input().split(' ')\n",
        "print('/'.join(new))"
      ],
      "metadata": {
        "colab": {
          "base_uri": "https://localhost:8080/"
        },
        "id": "URa_S00-D31H",
        "outputId": "4d7fedb2-9b1e-47e4-8c97-9adab2e84be1"
      },
      "execution_count": null,
      "outputs": [
        {
          "output_type": "stream",
          "name": "stdout",
          "text": [
            "cat dog\n",
            "cat/dog\n"
          ]
        }
      ]
    },
    {
      "cell_type": "markdown",
      "metadata": {
        "id": "X2EvkUmh4pQI"
      },
      "source": [
        "### Len, range, enumerate\n",
        "\n",
        "**len** returns the number of elements in the list.\n",
        "\n",
        "**range** returns a list of indices from 0 to (n − 1), where n is the length of the list."
      ]
    },
    {
      "cell_type": "code",
      "source": [
        "print(list(range (10)))\n",
        "print(list(range (1,10)))\n",
        "print(list(range (1,10,3)))\n",
        "print(list(reversed(range (1,10,3))))\n"
      ],
      "metadata": {
        "colab": {
          "base_uri": "https://localhost:8080/"
        },
        "id": "dl5lGee8b9pp",
        "outputId": "97fe0709-0f57-4c5c-b782-a301022e046b"
      },
      "execution_count": null,
      "outputs": [
        {
          "output_type": "stream",
          "name": "stdout",
          "text": [
            "[0, 1, 2, 3, 4, 5, 6, 7, 8, 9]\n",
            "[1, 2, 3, 4, 5, 6, 7, 8, 9]\n",
            "[1, 4, 7]\n",
            "[7, 4, 1]\n"
          ]
        }
      ]
    },
    {
      "cell_type": "code",
      "execution_count": null,
      "metadata": {
        "id": "UGH0qUSo4pQI",
        "outputId": "35fe557f-2672-42d6-b909-a7a0c2770916"
      },
      "outputs": [
        {
          "name": "stdout",
          "output_type": "stream",
          "text": [
            "0\n",
            "1\n",
            "2\n"
          ]
        }
      ],
      "source": [
        "animals = ['frog', 'rabbit', 'dog']\n",
        "for i in range(len(animals)):  ### len(animals)=3; range of indices: from 0 to (3-1)\n",
        "    print(i)"
      ]
    },
    {
      "cell_type": "code",
      "execution_count": null,
      "metadata": {
        "colab": {
          "base_uri": "https://localhost:8080/"
        },
        "id": "L5SFlBOp4pQI",
        "outputId": "cb99868b-6273-4937-b21a-197cf501fb5c"
      },
      "outputs": [
        {
          "output_type": "stream",
          "name": "stdout",
          "text": [
            "3\n",
            "0\n",
            "1\n",
            "2\n"
          ]
        }
      ],
      "source": [
        "animals = ['frog', 'rabbit', 'dog']\n",
        "print(len(animals))\n",
        "for i in range(len(animals)):\n",
        "    print(i)"
      ]
    },
    {
      "cell_type": "code",
      "execution_count": null,
      "metadata": {
        "colab": {
          "base_uri": "https://localhost:8080/"
        },
        "id": "hDaHVstV4pQJ",
        "outputId": "2ba07fc2-047c-4b06-c162-78f0fdb06069"
      },
      "outputs": [
        {
          "output_type": "stream",
          "name": "stdout",
          "text": [
            "2\n",
            "3\n",
            "4\n",
            "5\n",
            "6\n",
            "7\n"
          ]
        }
      ],
      "source": [
        "animals = ['frog', 'rabbit', 'dog']\n",
        "for i in range(2,len(animals)+5): ## 2 is a starting point;len(animals)+1 - finish\n",
        "    print(i)"
      ]
    },
    {
      "cell_type": "code",
      "source": [
        "letters = ['a','k','p','d','p','h','l','t','e']\n",
        "for i in range(0,(len(letters)),2): ## 2 is a starting point;len(letters)+1 - finish,2 - a step\n",
        "  print(letters[i])\n",
        "  print(i)"
      ],
      "metadata": {
        "colab": {
          "base_uri": "https://localhost:8080/"
        },
        "id": "WIgBYejF7Y_t",
        "outputId": "860a4cea-19b6-413d-d61a-9c9c35bae8a4"
      },
      "execution_count": null,
      "outputs": [
        {
          "output_type": "stream",
          "name": "stdout",
          "text": [
            "a\n",
            "0\n",
            "p\n",
            "2\n",
            "p\n",
            "4\n",
            "l\n",
            "6\n",
            "e\n",
            "8\n"
          ]
        }
      ]
    },
    {
      "cell_type": "code",
      "source": [
        "letters = ['a','k','p','d','p','h','l','t','e']\n",
        "for i in range(len(letters)):\n",
        "  print(letters[i])\n",
        "  print(i)"
      ],
      "metadata": {
        "colab": {
          "base_uri": "https://localhost:8080/"
        },
        "id": "9diPnq56NzJi",
        "outputId": "7f4ba925-0d59-44a3-c229-cb93a8f066f6"
      },
      "execution_count": null,
      "outputs": [
        {
          "output_type": "stream",
          "name": "stdout",
          "text": [
            "a\n",
            "0\n",
            "k\n",
            "1\n",
            "p\n",
            "2\n",
            "d\n",
            "3\n",
            "p\n",
            "4\n",
            "h\n",
            "5\n",
            "l\n",
            "6\n",
            "t\n",
            "7\n",
            "e\n",
            "8\n"
          ]
        }
      ]
    },
    {
      "cell_type": "markdown",
      "metadata": {
        "id": "2xKu1_vw4pQJ"
      },
      "source": [
        "An in-built function **enumerate** gives you back two loop variables:\n",
        "\n",
        "    The count of the current iteration\n",
        "    The value of the item at the current iteration\n"
      ]
    },
    {
      "cell_type": "code",
      "execution_count": null,
      "metadata": {
        "id": "Op8pYuCA4pQJ",
        "outputId": "6b994686-2804-4222-e708-9efae7f97be5"
      },
      "outputs": [
        {
          "name": "stdout",
          "output_type": "stream",
          "text": [
            "0\n",
            "frog\n",
            "1\n",
            "rabbit\n",
            "2\n",
            "dog\n"
          ]
        }
      ],
      "source": [
        "animals = ['frog', 'rabbit', 'dog']\n",
        "for index,animal in enumerate(animals):\n",
        "    print(index)\n",
        "    print(animal)"
      ]
    },
    {
      "cell_type": "markdown",
      "metadata": {
        "id": "d5k6Luaf4pQJ"
      },
      "source": [
        "Also it accepts an optional argument that allows us to specify the starting index of the counter."
      ]
    },
    {
      "cell_type": "code",
      "execution_count": null,
      "metadata": {
        "id": "-1jaVmNN4pQJ",
        "outputId": "1eca4f3f-088e-4995-a4e0-5c53ed7e273a"
      },
      "outputs": [
        {
          "name": "stdout",
          "output_type": "stream",
          "text": [
            "26\n",
            "frog\n",
            "27\n",
            "rabbit\n",
            "28\n",
            "dog\n"
          ]
        }
      ],
      "source": [
        "animals = ['frog', 'rabbit', 'dog']\n",
        "for index,animal in enumerate(animals,26):\n",
        "    print(index)\n",
        "    print(animal)"
      ]
    },
    {
      "cell_type": "markdown",
      "metadata": {
        "id": "hwVQEJ6r4pQK"
      },
      "source": [
        "In this example, we pass start=26, which starts count with the value 26\n",
        "on the first loop iteration. Compare this with the previous examples, in which start had the default value of 0"
      ]
    },
    {
      "cell_type": "markdown",
      "metadata": {
        "id": "KWi3iFLO4pQK"
      },
      "source": [
        "### Nested lists\n",
        "\n",
        "A list can contain any sort object, even another list (sublist), which in turn can contain sublists themselves, and so on. This is known as nested list.\n",
        "\n",
        "You can use them to arrange data into hierarchical structures."
      ]
    },
    {
      "cell_type": "code",
      "execution_count": null,
      "metadata": {
        "id": "XyOW76pE4pQK",
        "outputId": "738d1903-045f-42f8-e63a-848d013dd875"
      },
      "outputs": [
        {
          "name": "stdout",
          "output_type": "stream",
          "text": [
            "[['oranges', 'lemons'], ['potatoes', 'onions'], ['bread', 'butter']]\n",
            "o\n",
            "r\n",
            "a\n",
            "n\n",
            "g\n",
            "e\n",
            "s\n",
            "l\n",
            "e\n",
            "m\n",
            "o\n",
            "n\n",
            "s\n",
            "p\n",
            "o\n",
            "t\n",
            "a\n",
            "t\n",
            "o\n",
            "e\n",
            "s\n",
            "o\n",
            "n\n",
            "i\n",
            "o\n",
            "n\n",
            "s\n",
            "b\n",
            "r\n",
            "e\n",
            "a\n",
            "d\n",
            "b\n",
            "u\n",
            "t\n",
            "t\n",
            "e\n",
            "r\n",
            "o\n"
          ]
        }
      ],
      "source": [
        "grocery = [['oranges','lemons'],['potatoes','onions'],['bread','butter']]\n",
        "print(grocery)\n",
        "for i in grocery:\n",
        "    for word in i:\n",
        "        for letter in word:\n",
        "            print(letter)\n",
        "print(grocery[0][0][0])"
      ]
    },
    {
      "cell_type": "code",
      "execution_count": null,
      "metadata": {
        "id": "C8Qw9LgI4pQK",
        "outputId": "5385c2c7-0d02-4aa0-92ca-08a1c9412a18"
      },
      "outputs": [
        {
          "name": "stdout",
          "output_type": "stream",
          "text": [
            "['oranges', 'lemons']\n",
            "['potatoes', 'onions']\n",
            "['bread', 'butter']\n",
            "oranges\n",
            "lemons\n"
          ]
        }
      ],
      "source": [
        "print(grocery[0])\n",
        "print(grocery[1])\n",
        "print(grocery[2])\n",
        "for i in grocery[0]:\n",
        "    print(i)\n"
      ]
    },
    {
      "cell_type": "code",
      "execution_count": null,
      "metadata": {
        "id": "20-fuS0H4pQK",
        "outputId": "17d09419-1120-4fe3-9d3a-036aa842b4c0"
      },
      "outputs": [
        {
          "name": "stdout",
          "output_type": "stream",
          "text": [
            "oranges\n",
            "o\n",
            "r\n",
            "a\n",
            "n\n",
            "g\n",
            "e\n",
            "s\n",
            "o\n"
          ]
        }
      ],
      "source": [
        "print(grocery [0][0])\n",
        "for i in grocery [0][0]:\n",
        "    print(i)\n",
        "print(grocery[0][0][0])"
      ]
    },
    {
      "cell_type": "markdown",
      "metadata": {
        "id": "csJw6Lmy4pQK"
      },
      "source": [
        "### Task 1 H/A\n",
        "\n",
        "Given is a list : new = ['-1', 'orange', '!:']\n",
        "\n",
        "search for letters in this list and if you find one print: 'x is a letter!'\n",
        "\n",
        "the output:\n",
        "\n",
        "o is a letter!\n",
        "\n",
        "r is a letter!\n",
        "\n",
        "a is a letter!\n",
        "\n",
        "n is a letter!\n",
        "\n",
        "g is a letter!\n",
        "\n",
        "e is a letter!\n"
      ]
    },
    {
      "cell_type": "code",
      "execution_count": null,
      "metadata": {
        "id": "pZwPleS-4pQK",
        "outputId": "29bedabe-c514-48c8-c96d-6e75c176670b",
        "colab": {
          "base_uri": "https://localhost:8080/"
        }
      },
      "outputs": [
        {
          "output_type": "stream",
          "name": "stdout",
          "text": [
            "o is a letter!\n",
            "r is a letter!\n",
            "a is a letter!\n",
            "n is a letter!\n",
            "g is a letter!\n",
            "e is a letter!\n"
          ]
        }
      ],
      "source": [
        "new = ['-1', 'orange', '!:']\n",
        "for immediate_constituents in new:\n",
        "  for item in immediate_constituents:\n",
        "    if item.isalpha():\n",
        "      print(item + ' is a letter!')\n",
        "\n"
      ]
    },
    {
      "cell_type": "code",
      "source": [
        "new = ['-1', 'orange',  '!:']\n",
        "for i in new:\n",
        "  for x in i:\n",
        "    if x.isalpha():\n",
        "      print(f\"{x} is a letter!\")"
      ],
      "metadata": {
        "colab": {
          "base_uri": "https://localhost:8080/"
        },
        "id": "EsIJED9S4Yg6",
        "outputId": "65f68d41-2cd9-48f2-9561-6f12e765e761"
      },
      "execution_count": null,
      "outputs": [
        {
          "output_type": "stream",
          "name": "stdout",
          "text": [
            "o is a letter!\n",
            "r is a letter!\n",
            "a is a letter!\n",
            "n is a letter!\n",
            "g is a letter!\n",
            "e is a letter!\n"
          ]
        }
      ]
    },
    {
      "cell_type": "code",
      "source": [
        "new = ['-1', 'orange', '!:']\n",
        "for i in new:\n",
        "  for letter in i:\n",
        "    if letter.isalpha():\n",
        "      print(letter, 'is a letter!')"
      ],
      "metadata": {
        "colab": {
          "base_uri": "https://localhost:8080/"
        },
        "id": "3KaKsAh34nIO",
        "outputId": "ea56a000-2056-4f1e-a633-8f23a96ca221"
      },
      "execution_count": null,
      "outputs": [
        {
          "output_type": "stream",
          "name": "stdout",
          "text": [
            "o is a letter!\n",
            "r is a letter!\n",
            "a is a letter!\n",
            "n is a letter!\n",
            "g is a letter!\n",
            "e is a letter!\n"
          ]
        }
      ]
    },
    {
      "cell_type": "markdown",
      "metadata": {
        "id": "f46LTfZy4pQK"
      },
      "source": [
        "### List operations\n",
        "\n",
        "The + operator concatenates lists\n",
        "\n",
        "The * operator repeats a list a given number of times"
      ]
    },
    {
      "cell_type": "code",
      "execution_count": null,
      "metadata": {
        "id": "Of1mXHXa4pQL",
        "outputId": "059b48d7-e0f4-4fa9-e2e4-5253af3806db",
        "colab": {
          "base_uri": "https://localhost:8080/"
        }
      },
      "outputs": [
        {
          "output_type": "stream",
          "name": "stdout",
          "text": [
            "['cat', 'dog', 'frog', ['oranges', 'lemons'], ['potatoes', 'onions'], ['bread', 'butter']]\n",
            "['cat', 'dog', 'frog', 'cat', 'dog', 'frog', 'cat', 'dog', 'frog']\n",
            "\n"
          ]
        }
      ],
      "source": [
        "animals = ['cat', 'dog', 'frog']\n",
        "grocery = [['oranges', 'lemons'], ['potatoes', 'onions'], ['bread', 'butter']]\n",
        "joint_list = animals + grocery\n",
        "print(joint_list)\n",
        "print (animals*3)\n",
        "print(joint_list[0])"
      ]
    },
    {
      "cell_type": "code",
      "source": [
        "print(joint_list[3][0])\n",
        "print (joint_list[4][1][5])\n",
        "print (joint_list[4][1][-1])"
      ],
      "metadata": {
        "colab": {
          "base_uri": "https://localhost:8080/"
        },
        "id": "XjAz0Xa36K6i",
        "outputId": "2cf63763-4f7d-4a4f-ed01-42d8340b3cb4"
      },
      "execution_count": null,
      "outputs": [
        {
          "output_type": "stream",
          "name": "stdout",
          "text": [
            "oranges\n",
            "s\n",
            "s\n"
          ]
        }
      ]
    },
    {
      "cell_type": "markdown",
      "metadata": {
        "id": "EkapIZBL4pQL"
      },
      "source": [
        "## List methods\n",
        "\n",
        "### Append\n",
        "\n",
        "Append adds a new\n",
        "element to the end of a list.\n",
        "\n"
      ]
    },
    {
      "cell_type": "code",
      "execution_count": null,
      "metadata": {
        "id": "SsTMEr8x4pQL",
        "outputId": "7b9b8fa5-8589-4e7b-fec1-d445635b35dc"
      },
      "outputs": [
        {
          "name": "stdout",
          "output_type": "stream",
          "text": [
            "['frog', 'rabbit', 'dog', 'cat']\n"
          ]
        }
      ],
      "source": [
        "animals = ['frog', 'rabbit', 'dog']\n",
        "animals.append('cat') # animals += ('cat')\n",
        "print(animals)"
      ]
    },
    {
      "cell_type": "code",
      "execution_count": null,
      "metadata": {
        "id": "p_7UJ4934pQL",
        "outputId": "19af60d5-a169-4f3f-b0ff-5b8b8d3793e2",
        "colab": {
          "base_uri": "https://localhost:8080/"
        }
      },
      "outputs": [
        {
          "output_type": "stream",
          "name": "stdout",
          "text": [
            "['Dog', 'cat']\n"
          ]
        }
      ],
      "source": [
        "animals =['frog', 'rabbit', 'Dog', 'cat']\n",
        "new_animals =[]\n",
        "for i in animals:\n",
        "    if len(i)==3:\n",
        "        new_animals.append(i)\n",
        "print(new_animals)"
      ]
    },
    {
      "cell_type": "markdown",
      "source": [
        "**Task**\n",
        "\n",
        "Enter a list of numbers from 1 to 20. Print the numbers of this list in one line separated by spaces.\n",
        "\n",
        "Note that join() only works with a list of strings, so you need to convert the numbers to strings."
      ],
      "metadata": {
        "id": "X0vTMllq41sT"
      }
    },
    {
      "cell_type": "code",
      "source": [
        "x=[1,2,3,4,5,6,7,8,9,10]\n"
      ],
      "metadata": {
        "colab": {
          "base_uri": "https://localhost:8080/"
        },
        "id": "OqyFtfBo5PRM",
        "outputId": "5bc769dc-54e2-4a40-efb8-178c46b51c4c"
      },
      "execution_count": null,
      "outputs": [
        {
          "output_type": "stream",
          "name": "stdout",
          "text": [
            "1 2 3 4 5 6 7 8 9 10\n"
          ]
        }
      ]
    },
    {
      "cell_type": "markdown",
      "metadata": {
        "id": "BMS9QAfV4pQL"
      },
      "source": [
        "### Sort\n",
        "\n",
        "Sort arranges the elements of the list from low to high.\n"
      ]
    },
    {
      "cell_type": "code",
      "execution_count": null,
      "metadata": {
        "id": "kulutKzS4pQL",
        "outputId": "1a469041-5cf5-4bcd-e397-e35fab71e0d2",
        "colab": {
          "base_uri": "https://localhost:8080/"
        }
      },
      "outputs": [
        {
          "output_type": "stream",
          "name": "stdout",
          "text": [
            "['Dog', 'cat', 'frog', 'rabbit']\n"
          ]
        }
      ],
      "source": [
        "animals.sort()\n",
        "print(animals)"
      ]
    },
    {
      "cell_type": "code",
      "execution_count": null,
      "metadata": {
        "id": "DlRYKxWF4pQL",
        "outputId": "e79ae64c-db56-4a3b-a5b3-70b0c0309e9a"
      },
      "outputs": [
        {
          "name": "stdout",
          "output_type": "stream",
          "text": [
            "[-4, 4, 67]\n"
          ]
        }
      ],
      "source": [
        "numbers = [4,67,-4]\n",
        "numbers.sort()\n",
        "print(numbers)"
      ]
    },
    {
      "cell_type": "code",
      "execution_count": null,
      "metadata": {
        "id": "sL7VR8X44pQS",
        "outputId": "5f16bc15-887c-4baa-8fd6-8ab59026f778",
        "colab": {
          "base_uri": "https://localhost:8080/"
        }
      },
      "outputs": [
        {
          "output_type": "stream",
          "name": "stdout",
          "text": [
            "['Dog', 'Rabbit', 'cat', 'frog']\n"
          ]
        }
      ],
      "source": [
        "animals[3]= 'Rabbit'\n",
        "animals.sort()\n",
        "print(animals)"
      ]
    },
    {
      "cell_type": "code",
      "execution_count": null,
      "metadata": {
        "id": "txzBJOpZ4pQT",
        "outputId": "c7693eef-0d45-449a-8dd2-760770818b03"
      },
      "outputs": [
        {
          "name": "stdout",
          "output_type": "stream",
          "text": [
            "['lemons', 'oranges']\n"
          ]
        }
      ],
      "source": [
        "grocery = [['oranges','lemons'],['potatoes','onions'],['bread','butter']]\n",
        "grocery[0].sort()\n",
        "print(grocery[0])"
      ]
    },
    {
      "cell_type": "code",
      "execution_count": null,
      "metadata": {
        "id": "XsSBu1Jd4pQT",
        "outputId": "ac8b85d0-35a9-4ed1-e4a4-f5d1780f32ab"
      },
      "outputs": [
        {
          "name": "stdout",
          "output_type": "stream",
          "text": [
            "[['bread', 'butter'], ['oranges', 'lemons'], ['potatoes', 'onions']]\n"
          ]
        }
      ],
      "source": [
        "grocery = [['oranges','lemons'],['potatoes','onions'],['bread','butter']]\n",
        "grocery.sort()\n",
        "print(grocery)"
      ]
    },
    {
      "cell_type": "code",
      "execution_count": null,
      "metadata": {
        "id": "EZ4FTgne4pQT",
        "outputId": "ca9aa170-396d-4042-b42d-c338325194ae"
      },
      "outputs": [
        {
          "name": "stdout",
          "output_type": "stream",
          "text": [
            "[['lemons', 'oranges'], ['onions', 'potatoes'], ['bread', 'butter']]\n"
          ]
        }
      ],
      "source": [
        "grocery = [['oranges','lemons'],['potatoes','onions'],['bread','butter']]\n",
        "for i in grocery:\n",
        "    i.sort()\n",
        "print(grocery)"
      ]
    },
    {
      "cell_type": "code",
      "source": [
        "animals =['frog', 'rabbit', 'Dog', 'cat']\n",
        "for i in animals:\n",
        "  k=sorted(i)\n",
        "  print(''.join(k))\n",
        "\n"
      ],
      "metadata": {
        "colab": {
          "base_uri": "https://localhost:8080/"
        },
        "id": "PvMImd3m9KJt",
        "outputId": "c09c4121-5270-4a4d-e5fe-3b0673919fc9"
      },
      "execution_count": null,
      "outputs": [
        {
          "output_type": "stream",
          "name": "stdout",
          "text": [
            "fgor\n",
            "abbirt\n",
            "Dgo\n",
            "act\n"
          ]
        }
      ]
    },
    {
      "cell_type": "markdown",
      "metadata": {
        "id": "83D2E8834pQT"
      },
      "source": [
        "### Deleting elements\n",
        "\n",
        "There are several ways to delete elements from a list. If you know the index of the\n",
        "element you want, you can use **pop**.\n",
        "\n",
        "**Pop** modifies the list and returns the element that was removed. If you don’t\n",
        "provide an index, it deletes and returns the last element.\n",
        "\n",
        "\n",
        "If you don’t need the removed value, you can use the **del** operator.\n",
        "\n",
        "To remove more than one element, you can use del with a slice index\n",
        "\n",
        "If you know the element you want to remove (but not the index), you can use\n",
        "**remove**."
      ]
    },
    {
      "cell_type": "code",
      "execution_count": null,
      "metadata": {
        "id": "hQLASknj4pQU",
        "outputId": "8d31366d-c2c0-4b16-d6e2-ed4adbb9b425"
      },
      "outputs": [
        {
          "name": "stdout",
          "output_type": "stream",
          "text": [
            "['dog', 'rabbit', 'frog']\n",
            "['dog', 'rabbit']\n",
            "frog\n"
          ]
        }
      ],
      "source": [
        "print(animals)\n",
        "x = animals.pop(-1) # the argument is the index of the object. The result of the operation can be saved to a variable.\n",
        "print(animals)\n",
        "print(x)"
      ]
    },
    {
      "cell_type": "code",
      "execution_count": null,
      "metadata": {
        "id": "rljTP3SQ4pQU",
        "outputId": "0f6ec9f1-abd6-40ae-c6e0-9e54d83f583b"
      },
      "outputs": [
        {
          "name": "stdout",
          "output_type": "stream",
          "text": [
            "['Rabbit', 'dog']\n"
          ]
        }
      ],
      "source": [
        "animals = ['Rabbit', 'dog','cat']\n",
        "animals.remove('cat') # argument - the object to be deleted.\n",
        "print(animals)"
      ]
    },
    {
      "cell_type": "code",
      "execution_count": null,
      "metadata": {
        "id": "k2V7TYHV4pQU",
        "outputId": "a5142bed-abdb-4bef-aa3c-a20fef6f6b04"
      },
      "outputs": [
        {
          "name": "stdout",
          "output_type": "stream",
          "text": [
            "['cat']\n"
          ]
        }
      ],
      "source": [
        "animals = ['Rabbit', 'dog','cat']\n",
        "del animals[:2]\n",
        "print (animals)"
      ]
    },
    {
      "cell_type": "markdown",
      "metadata": {
        "id": "zLishhOf4pQU"
      },
      "source": [
        "The **.index ()** method is used to search the lists. It returns the index of the object passed as an argument."
      ]
    },
    {
      "cell_type": "code",
      "execution_count": null,
      "metadata": {
        "colab": {
          "base_uri": "https://localhost:8080/"
        },
        "id": "-DHdKdpP4pQU",
        "outputId": "162f25e1-0e45-4a28-de53-257ba9b72b3d"
      },
      "outputs": [
        {
          "output_type": "stream",
          "name": "stdout",
          "text": [
            "[['oranges', 'lemons'], ['potatoes', 'onions'], ['bread', 'butter']]\n",
            "1\n",
            "1\n",
            "0\n",
            "0\n"
          ]
        }
      ],
      "source": [
        "grocery = [['oranges','lemons'],['potatoes','onions'],['bread','butter']]\n",
        "print (grocery)\n",
        "for i in grocery[1]:\n",
        "    for b in i:\n",
        "        if b == 'o':\n",
        "            print(i.index(b)) ### returns the index of the first element which satisfies the requirements!\n"
      ]
    },
    {
      "cell_type": "code",
      "source": [
        "grocery = [['oranges','lemons'],['potatoes','onions'],['bread','butter']]\n",
        "for i in grocery[1]:\n",
        "    for b,p in enumerate(i):\n",
        "        if p == 'o':\n",
        "            print(b,p)"
      ],
      "metadata": {
        "colab": {
          "base_uri": "https://localhost:8080/"
        },
        "id": "Jl0hWOlIDp1n",
        "outputId": "1540b1e3-01f6-4b05-ff65-603fbfd64b86"
      },
      "execution_count": null,
      "outputs": [
        {
          "output_type": "stream",
          "name": "stdout",
          "text": [
            "1 o\n",
            "5 o\n",
            "0 o\n",
            "3 o\n"
          ]
        }
      ]
    },
    {
      "cell_type": "markdown",
      "metadata": {
        "id": "t1hfFxd14pQU"
      },
      "source": [
        "**.count ()** counts the number of elements and **.reverse ()**  reverses the list."
      ]
    },
    {
      "cell_type": "code",
      "execution_count": null,
      "metadata": {
        "id": "JeWuXgwv4pQV",
        "outputId": "5acbe57f-3b3a-4512-e7c2-50047c1f613b",
        "colab": {
          "base_uri": "https://localhost:8080/"
        }
      },
      "outputs": [
        {
          "output_type": "stream",
          "name": "stdout",
          "text": [
            "2\n",
            "['d', 'a', 'd', 'b', 'a']\n"
          ]
        }
      ],
      "source": [
        "letters = ['a','b','d','a','d']\n",
        "print(letters.count('a'))\n",
        "letters.reverse()\n",
        "print(letters)"
      ]
    },
    {
      "cell_type": "code",
      "execution_count": null,
      "metadata": {
        "id": "oItQDuyN4pQV",
        "outputId": "209b1172-9f23-44fc-af4b-9e660fdd39b5",
        "colab": {
          "base_uri": "https://localhost:8080/"
        }
      },
      "outputs": [
        {
          "output_type": "stream",
          "name": "stdout",
          "text": [
            "0\n"
          ]
        }
      ],
      "source": [
        "animals = ['Rabbit', 'dog','cat']\n",
        "print(animals.count('a'))"
      ]
    },
    {
      "cell_type": "code",
      "execution_count": null,
      "metadata": {
        "colab": {
          "base_uri": "https://localhost:8080/"
        },
        "id": "BnykzRRT4pQV",
        "outputId": "9347ac10-f2b0-45ee-e53b-93f12fef3924"
      },
      "outputs": [
        {
          "output_type": "stream",
          "name": "stdout",
          "text": [
            "[1, 1, 1, 1, 1, 1, 0, 0, 0, 1, 1, 1]\n"
          ]
        }
      ],
      "source": [
        "animals = ['Rabbit', 'dog','cat']\n",
        "print ([letter.count (\"a\") for letter in animals for p in letter])"
      ]
    },
    {
      "cell_type": "code",
      "source": [
        "animals = ['Rabbit', 'dog','cat']\n",
        "for word in animals:\n",
        "  for letter in word:\n",
        "    print (word.count (\"a\") )"
      ],
      "metadata": {
        "colab": {
          "base_uri": "https://localhost:8080/"
        },
        "id": "Pfd6QdQkEhqM",
        "outputId": "ba635aa8-3bc7-4850-d88d-52e9f56c8ca6"
      },
      "execution_count": null,
      "outputs": [
        {
          "output_type": "stream",
          "name": "stdout",
          "text": [
            "1\n",
            "1\n",
            "1\n",
            "1\n",
            "1\n",
            "1\n",
            "0\n",
            "0\n",
            "0\n",
            "1\n",
            "1\n",
            "1\n"
          ]
        }
      ]
    },
    {
      "cell_type": "code",
      "source": [
        "animals = ['Rabbit', 'dog','cat']\n",
        "for word in animals:\n",
        "  for letter in word:\n",
        "    total = word.count (\"a\")\n",
        "  print(total)"
      ],
      "metadata": {
        "colab": {
          "base_uri": "https://localhost:8080/"
        },
        "id": "hZM0Oyt-F0tC",
        "outputId": "0cd998bc-ce8a-471e-e56a-831b0d23058e"
      },
      "execution_count": null,
      "outputs": [
        {
          "output_type": "stream",
          "name": "stdout",
          "text": [
            "1\n",
            "0\n",
            "1\n"
          ]
        }
      ]
    },
    {
      "cell_type": "code",
      "execution_count": null,
      "metadata": {
        "id": "lMzdpQAK4pQW",
        "outputId": "98620460-9e24-446a-bf3b-cb1eee5c5da4",
        "colab": {
          "base_uri": "https://localhost:8080/"
        }
      },
      "outputs": [
        {
          "output_type": "stream",
          "name": "stdout",
          "text": [
            "1:R\n",
            "[1, 'R']\n",
            "1:a\n",
            "[1, 'a']\n",
            "2:b\n",
            "[2, 'b']\n",
            "2:b\n",
            "[2, 'b']\n",
            "1:i\n",
            "[1, 'i']\n",
            "1:t\n",
            "[1, 't']\n",
            "1:d\n",
            "[1, 'd']\n",
            "1:o\n",
            "[1, 'o']\n",
            "1:g\n",
            "[1, 'g']\n",
            "1:c\n",
            "[1, 'c']\n",
            "1:a\n",
            "[1, 'a']\n",
            "1:t\n",
            "[1, 't']\n"
          ]
        }
      ],
      "source": [
        "animals = ['Rabbit', 'dog','cat']\n",
        "for word in animals:\n",
        "    for p in word:\n",
        "        print(f'{word.count(p)}:{p}')\n",
        "        print([word.count(p),p])\n"
      ]
    },
    {
      "cell_type": "code",
      "source": [
        "animals = ['Rabbit', 'dog','cat'] ##### Home assignment (14.10): Print the letter and the number of times it appears in a word.\n"
      ],
      "metadata": {
        "id": "rmgMgVYtCLVN"
      },
      "execution_count": null,
      "outputs": []
    },
    {
      "cell_type": "code",
      "execution_count": null,
      "metadata": {
        "colab": {
          "base_uri": "https://localhost:8080/"
        },
        "id": "QKV2LcUk4pQV",
        "outputId": "daf84dab-4fd1-4beb-d3a5-4c5ebb71a4fc"
      },
      "outputs": [
        {
          "output_type": "stream",
          "name": "stdout",
          "text": [
            "[(1, 'R'), (1, 'a'), (2, 'b'), (2, 'b'), (1, 'i'), (1, 't'), (1, 'd'), (1, 'o'), (1, 'g'), (1, 'c'), (1, 'a'), (1, 't')]\n"
          ]
        }
      ],
      "source": [
        "animals = ['Rabbit', 'dog','cat']\n",
        "print ([ (letter.count (p),p)  for letter in animals for p in letter])"
      ]
    },
    {
      "cell_type": "code",
      "execution_count": null,
      "metadata": {
        "id": "gz7VKB_54pQW",
        "outputId": "05bdbbf0-7911-4672-89cb-720d190ee5b1",
        "colab": {
          "base_uri": "https://localhost:8080/"
        }
      },
      "outputs": [
        {
          "output_type": "stream",
          "name": "stdout",
          "text": [
            "[(1, 'R'), (1, 'a'), (2, 'b'), (2, 'b'), (1, 'i'), (1, 't'), (1, 'd'), (1, 'o'), (1, 'g'), (1, 'c'), (1, 'a'), (1, 't')]\n"
          ]
        }
      ],
      "source": [
        "animals = ['Rabbit', 'dog','cat']\n",
        "print ([ (word.count (p),p)  for word in animals for p in word])"
      ]
    },
    {
      "cell_type": "code",
      "source": [
        "animals = ['Rabbit', 'dog','cat']\n",
        "vowels = 'aeio'\n",
        "print ([ (word.count (p),p)  for word in animals for p in word if p not in vowels])"
      ],
      "metadata": {
        "colab": {
          "base_uri": "https://localhost:8080/"
        },
        "id": "khSAZ4OElKE4",
        "outputId": "553dd81c-be92-4f2a-ff2e-f382d8416f60"
      },
      "execution_count": null,
      "outputs": [
        {
          "output_type": "stream",
          "name": "stdout",
          "text": [
            "[(1, 'R'), (2, 'b'), (2, 'b'), (1, 't'), (1, 'd'), (1, 'g'), (1, 'c'), (1, 't')]\n"
          ]
        }
      ]
    },
    {
      "cell_type": "markdown",
      "source": [
        "**Insert**\n",
        "s.insert (i,x) - inserts x in the 'i-s' place.\n",
        "\n",
        "If i=>len(s) - puts the element x on the final position."
      ],
      "metadata": {
        "id": "i0-TrONWlk8u"
      }
    },
    {
      "cell_type": "code",
      "source": [
        "animals = ['Rabbit', 'dog','cat']\n",
        "animals.insert (0, 'rat')\n",
        "print(animals)"
      ],
      "metadata": {
        "colab": {
          "base_uri": "https://localhost:8080/"
        },
        "id": "6YTZs9eomDQO",
        "outputId": "9652b94e-4fdd-4caf-9494-01384cc69306"
      },
      "execution_count": null,
      "outputs": [
        {
          "output_type": "stream",
          "name": "stdout",
          "text": [
            "['rat', 'Rabbit', 'dog', 'cat']\n"
          ]
        }
      ]
    },
    {
      "cell_type": "markdown",
      "source": [
        "**Task 2**\n",
        "\n",
        "Make the programme to calculate the sum of the 1st and the final element in the list given.\n",
        "\n",
        "Input: [1,2,3]\n",
        "\n",
        "Output: 4"
      ],
      "metadata": {
        "id": "1kM-je_RmlDy"
      }
    },
    {
      "cell_type": "code",
      "source": [
        "x=input().split(',')\n",
        "print(x)\n",
        "print(int(x[0])+int(x[-1]))"
      ],
      "metadata": {
        "colab": {
          "base_uri": "https://localhost:8080/"
        },
        "id": "N7ol9S91mggk",
        "outputId": "3ae059e0-8c24-4d4b-c778-aa70030e311d"
      },
      "execution_count": null,
      "outputs": [
        {
          "output_type": "stream",
          "name": "stdout",
          "text": [
            "1,2,3\n",
            "['1', '2', '3']\n",
            "4\n"
          ]
        }
      ]
    },
    {
      "cell_type": "markdown",
      "source": [
        "**Task 3**\n",
        "\n",
        "1. Print a list of N natural numbers. For the length of the list and each element of the list, enter them on a separate line.\n",
        "(use while loop to create a list)\n",
        "\n",
        "x=[]\n",
        "\n",
        "length = int(input())\n",
        "\n",
        "Create a program that prints the list on separate lines after the following actions:\n",
        "\n",
        "1. replace the first element in the list with 123\n",
        "\n",
        "2. add 999 to the end of the list\n",
        "\n",
        "3. insert 2024 in the 3rd place in the list\n",
        "\n",
        "4. remove 999 from the list\n",
        "\n",
        "5. remove 1000 from the list."
      ],
      "metadata": {
        "id": "uw8hk4Myoubj"
      }
    },
    {
      "cell_type": "code",
      "source": [
        "length = int(input())\n",
        "x = []\n",
        "i = 1\n",
        "while i <= length:\n",
        "    z=int(input())\n",
        "    x.append(z)\n",
        "    i += 1\n",
        "x[0] = 123\n",
        "x.append(999)\n",
        "x.insert(2, 2024)\n",
        "x.remove(999)\n",
        "x.remove(1000)\n",
        "print(x)\n",
        "\n"
      ],
      "metadata": {
        "id": "hIUQ_v1jpgFF",
        "colab": {
          "base_uri": "https://localhost:8080/"
        },
        "outputId": "ff250077-42ae-489e-9cde-66096354648b"
      },
      "execution_count": null,
      "outputs": [
        {
          "output_type": "stream",
          "name": "stdout",
          "text": [
            "4\n",
            "1\n",
            "3\n",
            "5\n",
            "1000\n",
            "[123, 3, 2024, 5]\n"
          ]
        }
      ]
    },
    {
      "cell_type": "code",
      "source": [
        "print(list(range(0,11,2)))"
      ],
      "metadata": {
        "colab": {
          "base_uri": "https://localhost:8080/"
        },
        "id": "xcNpWavJUnkG",
        "outputId": "94fc4f61-2c7f-4d9e-cddc-088bb6bb0d7a"
      },
      "execution_count": null,
      "outputs": [
        {
          "output_type": "stream",
          "name": "stdout",
          "text": [
            "[0, 2, 4, 6, 8, 10]\n"
          ]
        }
      ]
    },
    {
      "cell_type": "markdown",
      "source": [
        "**Task 4**\n",
        "\n",
        "Print a list of N natural numbers. For the length of the list and each element of the list, enter them on a separate line. (use while loop to create a list)\n",
        "\n",
        "Create and print a new list, which containts every third element of first list.\n",
        "\n",
        "list = [1,2,3,4,5,6,7]\n",
        "\n",
        "new_list = [3,6]"
      ],
      "metadata": {
        "id": "MBpkPqJbzV15"
      }
    },
    {
      "cell_type": "code",
      "source": [
        "lis = list(range(1,8))\n",
        "print(lis)\n",
        "new=[]\n",
        "for i in range(3,len(lis),3):\n",
        "  new.append(i)\n",
        "print(new)\n",
        "\n",
        "\n"
      ],
      "metadata": {
        "colab": {
          "base_uri": "https://localhost:8080/"
        },
        "id": "1XniTo33R1eg",
        "outputId": "f8b5dd2e-3f82-4aef-97d0-0b0ca3545d86"
      },
      "execution_count": null,
      "outputs": [
        {
          "output_type": "stream",
          "name": "stdout",
          "text": [
            "[1, 2, 3, 4, 5, 6, 7]\n",
            "[3, 6]\n"
          ]
        }
      ]
    },
    {
      "cell_type": "markdown",
      "metadata": {
        "id": "7QbVR-bB4pQW"
      },
      "source": [
        "Other methods https://docs.python.org/3/tutorial/datastructures.html"
      ]
    },
    {
      "cell_type": "markdown",
      "metadata": {
        "id": "GxZBa57l4pQW"
      },
      "source": [
        "### Lists and functions\n",
        "\n",
        "There are a number of built-in functions that can be used on lists that allow you\n",
        "to quickly look through a list without writing your own loops.\n",
        "\n",
        "The **sum()** function only works when the list elements are numbers. The other\n",
        "functions **max()**, **min()** work with lists of strings and other types that can\n",
        "be comparable.\n",
        "\n"
      ]
    },
    {
      "cell_type": "code",
      "execution_count": null,
      "metadata": {
        "id": "UFswg9zi4pQW",
        "outputId": "87472a37-1cb0-4619-d98f-189a93f2788f"
      },
      "outputs": [
        {
          "name": "stdout",
          "output_type": "stream",
          "text": [
            "19\n",
            "10\n",
            "1\n",
            "8\n"
          ]
        }
      ],
      "source": [
        "numbers = [1,4,6,8]\n",
        "print(sum(numbers))\n",
        "print ( sum(numbers [1:3]))\n",
        "print(min (numbers))\n",
        "print(max(numbers))"
      ]
    },
    {
      "cell_type": "code",
      "execution_count": null,
      "metadata": {
        "id": "JZPj8KlX4pQW",
        "outputId": "64809487-8eec-4f4e-eb55-5740259ab8b1"
      },
      "outputs": [
        {
          "name": "stdout",
          "output_type": "stream",
          "text": [
            "cat\n",
            "parrot\n"
          ]
        }
      ],
      "source": [
        "animals= ['cat', 'parrot', 'mouse']\n",
        "print(min (animals))\n",
        "print(max(animals))"
      ]
    },
    {
      "cell_type": "code",
      "execution_count": null,
      "metadata": {
        "id": "eD9KUZn84pQW",
        "outputId": "9fbfb1c1-1707-413c-fe2c-7570df5d2a85"
      },
      "outputs": [
        {
          "name": "stdout",
          "output_type": "stream",
          "text": [
            "cat-parrot-mouse\n",
            "catparrotmouse\n"
          ]
        }
      ],
      "source": [
        "animals= ['cat', 'parrot', 'mouse']\n",
        "print('-'.join(animals))\n",
        "new_animals =''\n",
        "for i in animals:\n",
        "    new_animals+=i\n",
        "print(new_animals)\n"
      ]
    },
    {
      "cell_type": "markdown",
      "source": [
        "**##### Home assignment (14.10)**\n",
        "\n",
        "animals = ['Rabbit', 'dog','cat']\n",
        "\n",
        " Print each letter and the number of times it appears in a word."
      ],
      "metadata": {
        "id": "Lq4RhsOzZ0fN"
      }
    },
    {
      "cell_type": "code",
      "source": [
        "animals = ['Rabbit', 'dog','cat']\n",
        "counts=[]\n",
        "letters=\"\"\n",
        "for word in animals:\n",
        "  for letter in word:\n",
        "    if letter in word:\n",
        "      letters+=letter\n",
        "print(letters)\n",
        "counted_letters = []\n",
        "for i in letters:\n",
        "    if i not in counted_letters:\n",
        "        counts.append((letters.count(i), i))\n",
        "        counted_letters.append(i)\n",
        "print(counts)"
      ],
      "metadata": {
        "colab": {
          "base_uri": "https://localhost:8080/"
        },
        "id": "6RFj5fZ8nRa4",
        "outputId": "99ff42a5-69b1-4ce9-ffd3-870e34c9ade7"
      },
      "execution_count": null,
      "outputs": [
        {
          "output_type": "stream",
          "name": "stdout",
          "text": [
            "Rabbitdogcat\n",
            "[(1, 'R'), (2, 'a'), (2, 'b'), (1, 'i'), (2, 't'), (1, 'd'), (1, 'o'), (1, 'g'), (1, 'c')]\n"
          ]
        }
      ]
    },
    {
      "cell_type": "code",
      "source": [
        "animals = ['Rabbit', 'dog','cat']\n",
        "for word in animals:\n",
        "  list_char = []\n",
        "  for char in word:\n",
        "    if char not in list_char:\n",
        "      count = word.count(char)\n",
        "      list_char.append(char)\n",
        "      print(word.count(char),char)"
      ],
      "metadata": {
        "colab": {
          "base_uri": "https://localhost:8080/"
        },
        "id": "90fE-lKgnRmA",
        "outputId": "384189b9-78fd-48f7-d770-81cf127f5c0a"
      },
      "execution_count": null,
      "outputs": [
        {
          "output_type": "stream",
          "name": "stdout",
          "text": [
            "1 R\n",
            "1 a\n",
            "2 b\n",
            "1 i\n",
            "1 t\n",
            "1 d\n",
            "1 o\n",
            "1 g\n",
            "1 c\n",
            "1 a\n",
            "1 t\n"
          ]
        }
      ]
    },
    {
      "cell_type": "code",
      "source": [
        "animals = ['Rabbit', 'dog','cat']\n",
        "for word in animals:\n",
        "  for letter in word:\n",
        "    print((word.count(letter)),':',letter)"
      ],
      "metadata": {
        "colab": {
          "base_uri": "https://localhost:8080/"
        },
        "id": "HzUFzSVFnR3Q",
        "outputId": "b1197734-3398-4373-e458-b8876d4f4a44"
      },
      "execution_count": null,
      "outputs": [
        {
          "output_type": "stream",
          "name": "stdout",
          "text": [
            "1 : R\n",
            "1 : a\n",
            "2 : b\n",
            "2 : b\n",
            "1 : i\n",
            "1 : t\n",
            "1 : d\n",
            "1 : o\n",
            "1 : g\n",
            "1 : c\n",
            "1 : a\n",
            "1 : t\n"
          ]
        }
      ]
    },
    {
      "cell_type": "code",
      "source": [
        "animals = ['Rabbit', 'dog', 'cat']\n",
        "result = []\n",
        "for animal in animals:\n",
        "    unique_letters = list(set(animal))\n",
        "    for letter in unique_letters:\n",
        "      print(letter, animal.count(letter))\n"
      ],
      "metadata": {
        "colab": {
          "base_uri": "https://localhost:8080/"
        },
        "id": "-ztzpG_nBEIE",
        "outputId": "04bfe4be-23ba-4278-b193-41b88cd9cb60"
      },
      "execution_count": null,
      "outputs": [
        {
          "output_type": "stream",
          "name": "stdout",
          "text": [
            "i 1\n",
            "a 1\n",
            "R 1\n",
            "t 1\n",
            "b 2\n",
            "o 1\n",
            "d 1\n",
            "g 1\n",
            "t 1\n",
            "a 1\n",
            "c 1\n"
          ]
        }
      ]
    },
    {
      "cell_type": "code",
      "source": [
        "animals = ['Rabbit', 'dog', 'cat']\n",
        "for animal in animals:\n",
        "    unique_letters = list(set(animal))\n",
        "    print ([ (letter, animal.count (letter))  for letter in unique_letters])"
      ],
      "metadata": {
        "colab": {
          "base_uri": "https://localhost:8080/"
        },
        "id": "SBDfsvSeCAd_",
        "outputId": "aa07e6d7-3e3c-41f4-ef7f-6ff35afebc08"
      },
      "execution_count": null,
      "outputs": [
        {
          "output_type": "stream",
          "name": "stdout",
          "text": [
            "[('i', 1), ('a', 1), ('R', 1), ('t', 1), ('b', 2)]\n",
            "[('o', 1), ('d', 1), ('g', 1)]\n",
            "[('t', 1), ('a', 1), ('c', 1)]\n"
          ]
        }
      ]
    },
    {
      "cell_type": "code",
      "source": [
        "animals = ['Rabbit', 'dog', 'cat']\n",
        "result = {}\n",
        "for animal in animals:\n",
        "    letters_count = {}\n",
        "    for letter in animal:\n",
        "        if letter not in letters_count:\n",
        "            letters_count[letter] = 0\n",
        "        letters_count[letter] += 1\n",
        "    result[animal] = letters_count\n",
        "print(result)"
      ],
      "metadata": {
        "colab": {
          "base_uri": "https://localhost:8080/"
        },
        "id": "yNKG_LtX4d8E",
        "outputId": "7310730a-98d4-4a1d-ecd9-9a2730469eea"
      },
      "execution_count": null,
      "outputs": [
        {
          "output_type": "stream",
          "name": "stdout",
          "text": [
            "{'Rabbit': {'R': 1, 'a': 1, 'b': 2, 'i': 1, 't': 1}, 'dog': {'d': 1, 'o': 1, 'g': 1}, 'cat': {'c': 1, 'a': 1, 't': 1}}\n"
          ]
        }
      ]
    },
    {
      "cell_type": "markdown",
      "metadata": {
        "id": "MHFLAKe_4pQX"
      },
      "source": [
        "### Task 2 H/A\n",
        "\n",
        "Given a list of integers.\n",
        "\n",
        "Return a list, where the first element is the count of positive numbers and the second element is sum of negative numbers.\n",
        "\n",
        "For input [1, 2, 3, 4, 5, 6, 7, 8, 9, 10, -11, -12, -13, -14, -15],\n",
        "\n",
        "you should return [10, -65]\n",
        "\n",
        "Arrays:\n",
        "1. 0, 2, 3, 0, 5, 6, 7, 8, 9, 10, -11, -12, -13, -14  ([8,-50])\n",
        "2. 0,0,0,0,0,0,0,0,0  ([0,0])\n"
      ]
    },
    {
      "cell_type": "code",
      "execution_count": null,
      "metadata": {
        "colab": {
          "base_uri": "https://localhost:8080/"
        },
        "id": "rIzukARA4pQX",
        "outputId": "902afb8b-1de4-4f9b-d372-9ae05050c2a3"
      },
      "outputs": [
        {
          "output_type": "stream",
          "name": "stdout",
          "text": [
            "[10, -65]\n"
          ]
        }
      ],
      "source": [
        "x = [1, 2, 3, 4, 5, 6, 7, 8, 9, 10, -11, -12, -13, -14, -15]\n",
        "count = 0\n",
        "neg = []\n",
        "for i in x:\n",
        "  if i > 0:\n",
        "    count += 1\n",
        "  else:\n",
        "    neg.append(i)\n",
        "print([count, sum(neg)])"
      ]
    },
    {
      "cell_type": "code",
      "source": [
        "x = [1, 2, 3, 4, 5, 6, 7, 8, 9, 10, -11, -12, -13, -14, -15]\n",
        "count = 0\n",
        "neg = 0\n",
        "for i in x:\n",
        "  if i > 0:\n",
        "    count += 1\n",
        "  else:\n",
        "    neg+=i\n",
        "print(count,neg )"
      ],
      "metadata": {
        "id": "BY3C1IIIqmNW",
        "colab": {
          "base_uri": "https://localhost:8080/"
        },
        "outputId": "c12d55f8-97be-49f7-fac2-1c8aea0416ea"
      },
      "execution_count": null,
      "outputs": [
        {
          "output_type": "stream",
          "name": "stdout",
          "text": [
            "10 -65\n"
          ]
        }
      ]
    },
    {
      "cell_type": "markdown",
      "metadata": {
        "id": "hWgTKR-M4pQX"
      },
      "source": [
        "### Task 3 H/A\n",
        "\n",
        "You are given a list containing strings, integers and floating point numbers. Split it into three lists so that one contains only strings, the other contains only integers, and the third contains only floating point numbers. Note that when checking types, the type name is written without quotes, for example int.\n",
        "\n",
        "Input:\n",
        "\n",
        "         List 1: [1, 2, 5.6, 7.5, 'Boo', 1, 'RocknRoll']\n",
        "\n",
        "Output:\n",
        "\n",
        "         List 1: [1, 2, 1]\n",
        "         \n",
        "         List 2: [5.6, 7.5]\n",
        "         \n",
        "         List 3: ['Boo', 'RocknRoll']"
      ]
    },
    {
      "cell_type": "code",
      "execution_count": null,
      "metadata": {
        "id": "JhGw-7WR4pQX",
        "colab": {
          "base_uri": "https://localhost:8080/"
        },
        "outputId": "8536d590-1f52-4ccf-c249-05d7a1fa1806"
      },
      "outputs": [
        {
          "output_type": "stream",
          "name": "stdout",
          "text": [
            "['Boo', 'RocknRoll']\n",
            "[1, 2, 1]\n",
            "[5.6, 7.5]\n"
          ]
        }
      ],
      "source": [
        "\n",
        "list = [1, 2, 5.6, 7.5, 'Boo', 1, 'RocknRoll']\n",
        "list_str = []\n",
        "list_int = []\n",
        "list_float = []\n",
        "for i in list:\n",
        "  if type(i) == str:\n",
        "    list_str.append(i)\n",
        "  elif type(i) == int:\n",
        "    list_int.append(i)\n",
        "  else:\n",
        "    list_float.append(i)\n",
        "print(list_str)\n",
        "print(list_int)\n",
        "print(list_float)\n"
      ]
    },
    {
      "cell_type": "code",
      "source": [
        "list = input().split(',')\n",
        "list_str = []\n",
        "list_int = []\n",
        "list_float = []\n",
        "for i in list:\n",
        "  if i.isalpha() == True:\n",
        "    list_str.append(i)\n",
        "  elif i.isdigit() == True:\n",
        "    list_int.append(i)\n",
        "  else:\n",
        "    list_float.append(i)\n",
        "print(list_str)\n",
        "print(list_int)\n",
        "print(list_float)"
      ],
      "metadata": {
        "colab": {
          "base_uri": "https://localhost:8080/"
        },
        "id": "VyK7BDe5tVyz",
        "outputId": "e56f9f2b-4cb4-4109-efc5-7ebf70895dee"
      },
      "execution_count": null,
      "outputs": [
        {
          "output_type": "stream",
          "name": "stdout",
          "text": [
            "1,r,4.0\n",
            "['r']\n",
            "['1']\n",
            "['4.0']\n"
          ]
        }
      ]
    },
    {
      "cell_type": "markdown",
      "metadata": {
        "id": "hqFK9YGs4pQX"
      },
      "source": [
        "### Task 4 home assignment\n",
        "\n",
        "You will be given an array which will have three values (tail, body, head). It is your job to re-arrange the array so that the animal is the right way round (head, body, tail).\n",
        "\n",
        "Same goes for all the other arrays/lists that you will get: you have to change the element positions with the same exact logics.\n",
        "\n",
        "1.[\"tail\", \"body\", \"head\"]), [\"head\", \"body\", \"tail\"])\n",
        "\n",
        "2.[\"tails\", \"body\", \"heads\"]), [\"heads\", \"body\", \"tails\"])\n",
        "\n",
        "3.[\"bottom\", \"middle\", \"top\"]), [\"top\", \"middle\", \"bottom\"])\n",
        "\n",
        "4.[\"lower legs\", \"torso\", \"upper legs\"]), [\"upper legs\", \"torso\", \"lower legs\"])\n",
        "\n",
        "5.[\"ground\", \"rainbow\", \"sky\"]), [\"sky\", \"rainbow\", \"ground\"])"
      ]
    },
    {
      "cell_type": "code",
      "execution_count": null,
      "metadata": {
        "id": "pmqqOkPM4pQY",
        "colab": {
          "base_uri": "https://localhost:8080/"
        },
        "outputId": "29e53a09-31f7-4eca-f24a-b93521b4971d"
      },
      "outputs": [
        {
          "output_type": "stream",
          "name": "stdout",
          "text": [
            "['head', 'body', 'tail']\n"
          ]
        }
      ],
      "source": [
        "x = [\"tail\", \"body\", \"head\"]\n",
        "x.reverse()\n",
        "print(x)\n"
      ]
    },
    {
      "cell_type": "markdown",
      "metadata": {
        "id": "Nk2-FdpR4pQY"
      },
      "source": [
        "### Task 5\n",
        "\n",
        "Complete the square sum function so that it squares each number passed into it and then sums the results together.\n",
        "\n",
        "For example, for [1, 2, 2] it should return 9 because 1^2 + 2^2 + 2^2 = 9.\n",
        "\n",
        "1.[0, 3, 4, 5]), 50)\n",
        "\n",
        "2. ([]), 0)\n",
        "\n",
        "3. ([-1,-2]), 5)\n",
        "\n",
        "4. ([-1,0,1]), 2)"
      ]
    },
    {
      "cell_type": "code",
      "execution_count": null,
      "metadata": {
        "id": "g81xg_PY4pQY",
        "colab": {
          "base_uri": "https://localhost:8080/"
        },
        "outputId": "5479021a-f0d6-414f-bafe-72becab58784"
      },
      "outputs": [
        {
          "output_type": "stream",
          "name": "stdout",
          "text": [
            "0, 3, 4, 5\n",
            "['0', ' 3', ' 4', ' 5']\n",
            "50\n"
          ]
        }
      ],
      "source": [
        "x = input().split(',')\n",
        "print(x)\n",
        "total=0\n",
        "for i in x:\n",
        "  i = int(i)**2\n",
        "  total+=i\n",
        "print(total)\n",
        "\n",
        "\n"
      ]
    },
    {
      "cell_type": "markdown",
      "metadata": {
        "id": "rn5JGUG24pQY"
      },
      "source": [
        "### Task 6\n",
        "\n",
        "\n",
        "\n",
        "Write a programme, which takes three arguments and generates a range of integers from min to max, with the step. The first integer is the minimum value, the second is the maximum of the range and the third is the step. (min < max)\n",
        "\n",
        "Input:\n",
        "minim = 2\n",
        "\n",
        "maxim = 10\n",
        "\n",
        "step = 2\n",
        "\n",
        "Output: [2,4,6,8,10]\n",
        "\n",
        "\n",
        "(1, 10, 3) # should return list of [1,4,7,10]\n",
        "\n",
        "(2, 10, 2) # should return array of [2, 4, 6, 8, 10]\n",
        "\n",
        "(1, 10, 3) # should return array of [1, 4, 7, 10]\n"
      ]
    },
    {
      "cell_type": "code",
      "source": [
        "min = int(input())\n",
        "max = int(input())\n",
        "step = int(input())\n",
        "print (list(range(min, max + 1, step)))"
      ],
      "metadata": {
        "colab": {
          "base_uri": "https://localhost:8080/"
        },
        "id": "Z_eWPKeUqgH3",
        "outputId": "b686d786-be40-4950-b918-6a048623d3fc"
      },
      "execution_count": null,
      "outputs": [
        {
          "output_type": "stream",
          "name": "stdout",
          "text": [
            "1\n",
            "10\n",
            "3\n",
            "[1, 4, 7, 10]\n"
          ]
        }
      ]
    },
    {
      "cell_type": "markdown",
      "metadata": {
        "id": "5KjPDChY4pQZ"
      },
      "source": [
        "### Task 7\n",
        "\n",
        "Given a sequence of numbers, find the largest pair sum in the sequence.\n",
        "\n",
        "For example\n",
        "\n",
        "[10, 14, 2, 23, 19] -->  42 (= 23 + 19)\n",
        "\n",
        "[99, 2, 2, 23, 19]  --> 122 (= 99 + 23)\n"
      ]
    },
    {
      "cell_type": "code",
      "source": [
        "x=input().split()\n",
        "int_x = []\n",
        "for i in x:\n",
        "  int_x.append(int(i))\n",
        "print(int_x)\n",
        "first = max(int_x)\n",
        "int_x.remove(first)\n",
        "second = max(int_x)\n",
        "print(first + second)"
      ],
      "metadata": {
        "colab": {
          "base_uri": "https://localhost:8080/",
          "height": 245
        },
        "id": "5IprhINCrBH_",
        "outputId": "a5a9242e-fb6e-45bc-dc8a-e6205f702cd5"
      },
      "execution_count": null,
      "outputs": [
        {
          "output_type": "stream",
          "name": "stdout",
          "text": [
            "1 3 5\n",
            "[1, 3, 5]\n"
          ]
        },
        {
          "output_type": "error",
          "ename": "TypeError",
          "evalue": "'int' object is not callable",
          "traceback": [
            "\u001b[0;31m---------------------------------------------------------------------------\u001b[0m",
            "\u001b[0;31mTypeError\u001b[0m                                 Traceback (most recent call last)",
            "\u001b[0;32m<ipython-input-4-ac4a1d8a9478>\u001b[0m in \u001b[0;36m<cell line: 6>\u001b[0;34m()\u001b[0m\n\u001b[1;32m      4\u001b[0m   \u001b[0mint_x\u001b[0m\u001b[0;34m.\u001b[0m\u001b[0mappend\u001b[0m\u001b[0;34m(\u001b[0m\u001b[0mint\u001b[0m\u001b[0;34m(\u001b[0m\u001b[0mi\u001b[0m\u001b[0;34m)\u001b[0m\u001b[0;34m)\u001b[0m\u001b[0;34m\u001b[0m\u001b[0;34m\u001b[0m\u001b[0m\n\u001b[1;32m      5\u001b[0m \u001b[0mprint\u001b[0m\u001b[0;34m(\u001b[0m\u001b[0mint_x\u001b[0m\u001b[0;34m)\u001b[0m\u001b[0;34m\u001b[0m\u001b[0;34m\u001b[0m\u001b[0m\n\u001b[0;32m----> 6\u001b[0;31m \u001b[0mfirst\u001b[0m \u001b[0;34m=\u001b[0m \u001b[0mmax\u001b[0m\u001b[0;34m(\u001b[0m\u001b[0mint_x\u001b[0m\u001b[0;34m)\u001b[0m\u001b[0;34m\u001b[0m\u001b[0;34m\u001b[0m\u001b[0m\n\u001b[0m\u001b[1;32m      7\u001b[0m \u001b[0mint_x\u001b[0m\u001b[0;34m.\u001b[0m\u001b[0mremove\u001b[0m\u001b[0;34m(\u001b[0m\u001b[0mfirst\u001b[0m\u001b[0;34m)\u001b[0m\u001b[0;34m\u001b[0m\u001b[0;34m\u001b[0m\u001b[0m\n\u001b[1;32m      8\u001b[0m \u001b[0msecond\u001b[0m \u001b[0;34m=\u001b[0m \u001b[0mmax\u001b[0m\u001b[0;34m(\u001b[0m\u001b[0mint_x\u001b[0m\u001b[0;34m)\u001b[0m\u001b[0;34m\u001b[0m\u001b[0;34m\u001b[0m\u001b[0m\n",
            "\u001b[0;31mTypeError\u001b[0m: 'int' object is not callable"
          ]
        }
      ]
    },
    {
      "cell_type": "code",
      "source": [
        "x=input().split()\n",
        "int_x = list(map(int,x))\n",
        "first = max(int_x)\n",
        "int_x.remove(first)\n",
        "second = max(int_x)\n",
        "print(first + second)"
      ],
      "metadata": {
        "colab": {
          "base_uri": "https://localhost:8080/",
          "height": 228
        },
        "id": "V0ef3hTBIyoq",
        "outputId": "0ee9130d-5821-428a-f857-ffd6d855dc61"
      },
      "execution_count": null,
      "outputs": [
        {
          "name": "stdout",
          "output_type": "stream",
          "text": [
            "1 3 5\n"
          ]
        },
        {
          "output_type": "error",
          "ename": "TypeError",
          "evalue": "'int' object is not callable",
          "traceback": [
            "\u001b[0;31m---------------------------------------------------------------------------\u001b[0m",
            "\u001b[0;31mTypeError\u001b[0m                                 Traceback (most recent call last)",
            "\u001b[0;32m<ipython-input-5-80f05935ea61>\u001b[0m in \u001b[0;36m<cell line: 3>\u001b[0;34m()\u001b[0m\n\u001b[1;32m      1\u001b[0m \u001b[0mx\u001b[0m\u001b[0;34m=\u001b[0m\u001b[0minput\u001b[0m\u001b[0;34m(\u001b[0m\u001b[0;34m)\u001b[0m\u001b[0;34m.\u001b[0m\u001b[0msplit\u001b[0m\u001b[0;34m(\u001b[0m\u001b[0;34m)\u001b[0m\u001b[0;34m\u001b[0m\u001b[0;34m\u001b[0m\u001b[0m\n\u001b[1;32m      2\u001b[0m \u001b[0mint_x\u001b[0m \u001b[0;34m=\u001b[0m \u001b[0mlist\u001b[0m\u001b[0;34m(\u001b[0m\u001b[0mmap\u001b[0m\u001b[0;34m(\u001b[0m\u001b[0mint\u001b[0m\u001b[0;34m,\u001b[0m\u001b[0mx\u001b[0m\u001b[0;34m)\u001b[0m\u001b[0;34m)\u001b[0m\u001b[0;34m\u001b[0m\u001b[0;34m\u001b[0m\u001b[0m\n\u001b[0;32m----> 3\u001b[0;31m \u001b[0mfirst\u001b[0m \u001b[0;34m=\u001b[0m \u001b[0mmax\u001b[0m\u001b[0;34m(\u001b[0m\u001b[0mint_x\u001b[0m\u001b[0;34m)\u001b[0m\u001b[0;34m\u001b[0m\u001b[0;34m\u001b[0m\u001b[0m\n\u001b[0m\u001b[1;32m      4\u001b[0m \u001b[0mint_x\u001b[0m\u001b[0;34m.\u001b[0m\u001b[0mremove\u001b[0m\u001b[0;34m(\u001b[0m\u001b[0mfirst\u001b[0m\u001b[0;34m)\u001b[0m\u001b[0;34m\u001b[0m\u001b[0;34m\u001b[0m\u001b[0m\n\u001b[1;32m      5\u001b[0m \u001b[0msecond\u001b[0m \u001b[0;34m=\u001b[0m \u001b[0mmax\u001b[0m\u001b[0;34m(\u001b[0m\u001b[0mint_x\u001b[0m\u001b[0;34m)\u001b[0m\u001b[0;34m\u001b[0m\u001b[0;34m\u001b[0m\u001b[0m\n",
            "\u001b[0;31mTypeError\u001b[0m: 'int' object is not callable"
          ]
        }
      ]
    },
    {
      "cell_type": "code",
      "execution_count": null,
      "metadata": {
        "id": "mtOhVoaJ4pQZ",
        "colab": {
          "base_uri": "https://localhost:8080/"
        },
        "outputId": "cbd057b9-09be-4485-be62-2e67bc334daa"
      },
      "outputs": [
        {
          "output_type": "stream",
          "name": "stdout",
          "text": [
            "[2, 10, 14, 19, 23]\n",
            "42\n"
          ]
        }
      ],
      "source": [
        "numbers=[10, 14, 2, 23, 19]\n",
        "numbers.sort()\n",
        "print(numbers)\n",
        "print(numbers[-1]+numbers[-2])"
      ]
    },
    {
      "cell_type": "code",
      "execution_count": null,
      "metadata": {
        "id": "AD8_A9zl4pQZ",
        "colab": {
          "base_uri": "https://localhost:8080/",
          "height": 211
        },
        "outputId": "eedf4316-e790-4053-9306-30a5db57136b"
      },
      "outputs": [
        {
          "output_type": "stream",
          "name": "stdout",
          "text": [
            "[2, 10, 14, 19]\n"
          ]
        },
        {
          "output_type": "error",
          "ename": "TypeError",
          "evalue": "'int' object is not callable",
          "traceback": [
            "\u001b[0;31m---------------------------------------------------------------------------\u001b[0m",
            "\u001b[0;31mTypeError\u001b[0m                                 Traceback (most recent call last)",
            "\u001b[0;32m<ipython-input-11-be614013741d>\u001b[0m in \u001b[0;36m<cell line: 5>\u001b[0;34m()\u001b[0m\n\u001b[1;32m      3\u001b[0m \u001b[0mfirst\u001b[0m \u001b[0;34m=\u001b[0m \u001b[0mnumbers\u001b[0m\u001b[0;34m.\u001b[0m\u001b[0mpop\u001b[0m\u001b[0;34m(\u001b[0m\u001b[0;34m-\u001b[0m\u001b[0;36m1\u001b[0m\u001b[0;34m)\u001b[0m\u001b[0;34m\u001b[0m\u001b[0;34m\u001b[0m\u001b[0m\n\u001b[1;32m      4\u001b[0m \u001b[0mprint\u001b[0m\u001b[0;34m(\u001b[0m\u001b[0mnumbers\u001b[0m\u001b[0;34m)\u001b[0m\u001b[0;34m\u001b[0m\u001b[0;34m\u001b[0m\u001b[0m\n\u001b[0;32m----> 5\u001b[0;31m \u001b[0msecond\u001b[0m \u001b[0;34m=\u001b[0m \u001b[0mmax\u001b[0m\u001b[0;34m(\u001b[0m\u001b[0mnumbers\u001b[0m\u001b[0;34m)\u001b[0m\u001b[0;34m\u001b[0m\u001b[0;34m\u001b[0m\u001b[0m\n\u001b[0m\u001b[1;32m      6\u001b[0m \u001b[0mprint\u001b[0m\u001b[0;34m(\u001b[0m\u001b[0mfirst\u001b[0m \u001b[0;34m+\u001b[0m \u001b[0msecond\u001b[0m\u001b[0;34m)\u001b[0m\u001b[0;34m\u001b[0m\u001b[0;34m\u001b[0m\u001b[0m\n",
            "\u001b[0;31mTypeError\u001b[0m: 'int' object is not callable"
          ]
        }
      ],
      "source": [
        "numbers=[10, 14, 2, 23, 19]\n",
        "numbers.sort()\n",
        "first = numbers.pop(-1)\n",
        "print(numbers)\n",
        "second = max(numbers)\n",
        "print(first + second)"
      ]
    },
    {
      "cell_type": "markdown",
      "metadata": {
        "id": "r2WE4VjA4pQZ"
      },
      "source": [
        "### Lists and strings\n",
        "\n",
        "To convert from a string to a list of\n",
        "characters, you can use ***list***:\n",
        "\n",
        ">s = 'spam'\n",
        "\n",
        ">t = list(s)\n",
        "\n",
        ">print(t)\n",
        "\n",
        "['s', 'p', 'a', 'm']\n",
        "\n",
        "The list function breaks a string into individual letters. If you want to break a\n",
        "string into words, you can use the ***split method***:\n",
        "\n",
        ">s = 'pining for the fjords'\n",
        "\n",
        ">t = s.split()\n",
        "\n",
        "> print(t)\n",
        "\n",
        "['pining', 'for', 'the', 'fjords']\n",
        "\n",
        ">print(t[2])\n",
        "\n",
        "the\n",
        "\n",
        "You can call split with an optional argument called a ***delimiter*** that specifies\n",
        "which characters to use as word boundaries.\n",
        "\n",
        "The following example uses a hyphen\n",
        "as a delimiter:\n",
        "\n",
        ">s = 'spam-spam-spam'\n",
        "\n",
        ">s.split('-')\n",
        "\n",
        "['spam', 'spam', 'spam']\n",
        "\n",
        "***Join*** is the inverse of ***split***.\n",
        "\n",
        "It takes a list of strings and concatenates the elements.\n",
        "\n",
        "***join*** is a string method, so you have to invoke it on the delimiter and pass the list\n",
        "as a parameter:\n",
        "\n",
        "\n",
        ">t = ['pining', 'for', 'the', 'fjords']\n",
        "\n",
        ">' '.join(t)\n",
        "\n",
        "'pining for the fjords'\n",
        "\n",
        "In this case the delimiter is a space character, so ***join*** puts a space between words.\n",
        "\n",
        "\n",
        "To concatenate strings without spaces, you can use the empty string, “”, as a\n",
        "delimiter."
      ]
    },
    {
      "cell_type": "code",
      "execution_count": null,
      "metadata": {
        "id": "9oC0Aqtd4pQa",
        "outputId": "89b5aa9f-46cf-4ea3-acc9-a29e12e3ec75"
      },
      "outputs": [
        {
          "name": "stdout",
          "output_type": "stream",
          "text": [
            "['spam', 'spam', 'spam']\n",
            "spam!spam!spam!"
          ]
        }
      ],
      "source": [
        "s = 'spam-spam-spam'\n",
        "t=s.split('-')\n",
        "print(t)\n",
        "print('!'.join(t),end=('!'))\n"
      ]
    },
    {
      "cell_type": "code",
      "execution_count": null,
      "metadata": {
        "id": "xKq7LXBm4pQa",
        "outputId": "f42fa473-5bdd-4e86-802b-9b1a9dde9b45"
      },
      "outputs": [
        {
          "name": "stdout",
          "output_type": "stream",
          "text": [
            "['big', 'round', 'green']\n"
          ]
        },
        {
          "data": {
            "text/plain": [
              "list"
            ]
          },
          "execution_count": 35,
          "metadata": {},
          "output_type": "execute_result"
        }
      ],
      "source": [
        "k = 'big,round,green'\n",
        "k = k.split(',')\n",
        "print(k)\n",
        "type(k)\n",
        "\n"
      ]
    },
    {
      "cell_type": "code",
      "execution_count": null,
      "metadata": {
        "id": "Tc71Qwxl4pQa",
        "outputId": "89829eb0-18c5-42ab-fefd-3d5b8b75b7b9"
      },
      "outputs": [
        {
          "data": {
            "text/plain": [
              "str"
            ]
          },
          "execution_count": 36,
          "metadata": {},
          "output_type": "execute_result"
        }
      ],
      "source": [
        "k = ' '.join(k)\n",
        "type(k)"
      ]
    },
    {
      "cell_type": "markdown",
      "metadata": {
        "id": "aKqrHk2r4pQa"
      },
      "source": [
        "### Task 8\n",
        "\n",
        "Write a programme that accepts a string parameter, and reverses each word in the string. All spaces in the string should be retained.\n",
        "Examples\n",
        "\n",
        "\"This is an example!\" ==> \"sihT si na !elpmaxe\"\n",
        "\n",
        "\"double  spaces\"      ==> \"elbuod  secaps\"\n",
        "\n"
      ]
    },
    {
      "cell_type": "code",
      "execution_count": null,
      "metadata": {
        "id": "DgqYkTSx4pQa",
        "colab": {
          "base_uri": "https://localhost:8080/"
        },
        "outputId": "3ac45206-b0c0-46b8-85fa-b7d487d59f7f"
      },
      "outputs": [
        {
          "output_type": "stream",
          "name": "stdout",
          "text": [
            "This is an example!\n",
            "sihT si na !elpmaxe\n"
          ]
        }
      ],
      "source": [
        "words = input().split()\n",
        "rev_words = [word[::-1] for word in words]\n",
        "result = ' '.join(rev_words)\n",
        "print(result)"
      ]
    },
    {
      "cell_type": "code",
      "source": [
        "words = input().split()\n",
        "result=[]\n",
        "for word in words:\n",
        "  word=list(word)\n",
        "  word.reverse()\n",
        "  word= ''.join(word)\n",
        "  result.append(word)\n",
        "print(' '.join(result))"
      ],
      "metadata": {
        "colab": {
          "base_uri": "https://localhost:8080/"
        },
        "id": "xBtOK3KRC_Rb",
        "outputId": "e1a58393-b12f-46de-95f4-33ce6ff80e8b"
      },
      "execution_count": null,
      "outputs": [
        {
          "output_type": "stream",
          "name": "stdout",
          "text": [
            "This is an example!\n",
            "sihT si na !elpmaxe\n"
          ]
        }
      ]
    },
    {
      "cell_type": "code",
      "source": [
        "words = input()\n",
        "b=words[::-1]\n",
        "print(b)\n",
        "c=b.split()\n",
        "print(c)\n",
        "print(' '.join(c[::-1]))"
      ],
      "metadata": {
        "colab": {
          "base_uri": "https://localhost:8080/"
        },
        "id": "fXEGQscgEYvF",
        "outputId": "5e444604-57d8-4127-e8c9-2b3fba7293dc"
      },
      "execution_count": null,
      "outputs": [
        {
          "output_type": "stream",
          "name": "stdout",
          "text": [
            "This is an example!\n",
            "!elpmaxe na si sihT\n",
            "['!elpmaxe', 'na', 'si', 'sihT']\n",
            "sihT si na !elpmaxe\n"
          ]
        }
      ]
    },
    {
      "cell_type": "markdown",
      "metadata": {
        "id": "BNj-Bapj4pQb"
      },
      "source": [
        "### Task 9\n",
        "\n",
        "You need to check the provided string for good ideas 'good' and bad ideas 'bad'. If there are one or two good ideas, return 'Publish!', if there are more than 2 return 'I smell a series!'. If there are no good ideas, as is often the case, return 'Fail!'.\n",
        "\n",
        "'bad', 'bad', 'bad', ------'Fail!'\n",
        "\n",
        "'good', 'bad', 'bad', 'bad', 'bad'------ 'Publish!'\n",
        "\n",
        "'good', 'bad', 'bad', 'bad', 'bad', 'good', 'bad', 'bad', 'good'------ 'I smell a series!'"
      ]
    },
    {
      "cell_type": "code",
      "execution_count": null,
      "metadata": {
        "id": "FQLeQ8I74pQb",
        "colab": {
          "base_uri": "https://localhost:8080/"
        },
        "outputId": "532dc6ca-06d8-48e9-81ab-0af07e771534"
      },
      "outputs": [
        {
          "output_type": "stream",
          "name": "stdout",
          "text": [
            "Put some 'good' and 'bad' good, bad\n",
            "Publish!\n"
          ]
        }
      ],
      "source": [
        "x=(input(\"Put some 'good' and 'bad' \")).split(\",\")\n",
        "countgood=0\n",
        "for word in x:\n",
        "  if word==\"good\":\n",
        "    countgood+=1\n",
        "if countgood==1 or countgood==2:\n",
        "    print(\"Publish!\")\n",
        "elif countgood>2:\n",
        "    print(\"I smell a series..\")\n",
        "else:\n",
        "        print(\"Fail!\")"
      ]
    },
    {
      "cell_type": "code",
      "source": [
        "x=(input(\"Put some 'good' and 'bad' \")).split(\",\")\n",
        "countgood=x.count('good')\n",
        "if countgood==1 or countgood==2:\n",
        "    print(\"Publish!\")\n",
        "elif countgood>2:\n",
        "    print(\"I smell a series..\")\n",
        "else:\n",
        "    print(\"Fail!\")"
      ],
      "metadata": {
        "colab": {
          "base_uri": "https://localhost:8080/"
        },
        "id": "VzPjIFutHNwx",
        "outputId": "3cbab4e3-f670-464e-b912-796ce860e32d"
      },
      "execution_count": null,
      "outputs": [
        {
          "output_type": "stream",
          "name": "stdout",
          "text": [
            "Put some 'good' and 'bad' good, bad\n",
            "Publish!\n"
          ]
        }
      ]
    },
    {
      "cell_type": "markdown",
      "metadata": {
        "id": "6iPpFCIo4pQb"
      },
      "source": [
        "### Task 10 H/A 16.10\n",
        "\n",
        "INPUT FORMAT:\n",
        "\n",
        "     Two strings and number N - integer and positive\n",
        "     \n",
        " Determine whether the text contains the N-th word (numbering from 1) and display it. If there is no word, display \"There is no such word\"\n",
        "\n",
        "OUTPUT FORMAT:\n",
        "\n",
        "     Line, answer to the problem\n",
        "     \n",
        "**Example1:**\n",
        "\n",
        "Input 1: dog cat mouse\n",
        "\n",
        "Input 2:  parrot goose\n",
        "\n",
        "Input 3:  5\n",
        "\n",
        "Output:  goose\n",
        "\n",
        "**Example 2:**\n",
        "\n",
        "Input 1: dog cat mouse\n",
        "\n",
        "Input 2:  parrot goose\n",
        "\n",
        "Input 3:  6\n",
        "\n",
        "Output:  \"There is no such word\""
      ]
    },
    {
      "cell_type": "code",
      "execution_count": 1,
      "metadata": {
        "id": "eavHG0Kn4pQb",
        "colab": {
          "base_uri": "https://localhost:8080/"
        },
        "outputId": "17478de1-a806-4d4e-b372-57cdaa4f0aee"
      },
      "outputs": [
        {
          "output_type": "stream",
          "name": "stdout",
          "text": [
            " dog cat mouse\n",
            "parrot goose\n",
            "5\n",
            "['dog', 'cat', 'mouse', 'parrot', 'goose']\n",
            "goose\n"
          ]
        }
      ],
      "source": [
        "s1, s2 = input(), input()\n",
        "num = int(input())\n",
        "s = (s1 + ' ' + s2).split()\n",
        "print(s)\n",
        "if num <= len(s):\n",
        " print(s[num-1])\n",
        "else:\n",
        " print('there is no such word')"
      ]
    },
    {
      "cell_type": "code",
      "source": [
        "words = input().split(' ')\n",
        "words2= input().split(' ')\n",
        "result=[]\n",
        "for word in words:\n",
        "    result.append(word)\n",
        "for word in words2:\n",
        "   result.append(word)\n",
        "number=int(input(\"Tell me the number... \"))\n",
        "if number > len(result) or number < 1:\n",
        "  print(\"There is no such word :((((\")\n",
        "else:\n",
        "  print(result[number - 1])"
      ],
      "metadata": {
        "colab": {
          "base_uri": "https://localhost:8080/"
        },
        "id": "i2q9Fz8T7SQw",
        "outputId": "7d398abb-aee9-4031-dd62-c4e257df8620"
      },
      "execution_count": 4,
      "outputs": [
        {
          "output_type": "stream",
          "name": "stdout",
          "text": [
            "parrot goose\n",
            "dog cat mouse\n",
            "Tell me the number... 5\n",
            "mouse\n"
          ]
        }
      ]
    },
    {
      "cell_type": "code",
      "source": [
        "a=input().split()\n",
        "b=input().split()\n",
        "c=int(input())\n",
        "d=a+b\n",
        "for index, words in enumerate(d):\n",
        "    if c==index+1:\n",
        "        print(words)\n",
        "        break\n",
        "else:\n",
        "    print('There is no such word')"
      ],
      "metadata": {
        "colab": {
          "base_uri": "https://localhost:8080/"
        },
        "id": "jwHth0qW8NyT",
        "outputId": "af5a0502-62f3-4bc9-f1f2-b16f89ce8763"
      },
      "execution_count": 5,
      "outputs": [
        {
          "output_type": "stream",
          "name": "stdout",
          "text": [
            "dog cat mouse\n",
            "parrot goose\n",
            "5\n",
            "goose\n"
          ]
        }
      ]
    },
    {
      "cell_type": "markdown",
      "metadata": {
        "id": "gtDVwuFh4pQb"
      },
      "source": [
        "### 'Map' function\n",
        "\n",
        "**Map()** is a built-in function that allows you to process and transform all the items in an iterable without using an explicit for loop, a technique commonly known as ***mapping***.\n",
        "\n",
        "**map()** is useful when you need to apply a transformation function to each item in an iterable and transform them into a new iterable.\n",
        "\n",
        "You can use any built-in function with map(), provided that the function takes an argument and returns a value.\n",
        "\n",
        "For example, you have a list of numbers, initially all these numbers have a string data type, to work with them you need to convert them to an integer:\n",
        "\n",
        ">old_list = ['1', '2', '3', '4', '5', '6', '7']\n",
        "\n",
        "> new_list = list(map(int, old_list))\n",
        "\n",
        ">print (new_list)\n",
        "\n",
        ">[1, 2, 3, 4, 5, 6, 7]\n",
        "\n",
        "or\n",
        "\n",
        ">print(list(map(bool, [9, 0, 8, -288, 998, 0])))\n",
        "\n",
        ">[True, False, True, True, True, False]"
      ]
    },
    {
      "cell_type": "code",
      "execution_count": null,
      "metadata": {
        "id": "QmI-P50e4pQb",
        "outputId": "c7108ea8-ec6b-4457-a521-04c31c58ad0a"
      },
      "outputs": [
        {
          "name": "stdout",
          "output_type": "stream",
          "text": [
            "[True, True, True]\n"
          ]
        }
      ],
      "source": [
        "string = 'word for word'\n",
        "print(list(map(bool,string.split(' '))))\n"
      ]
    },
    {
      "cell_type": "markdown",
      "metadata": {
        "id": "jl6fd78f4pQc"
      },
      "source": [
        "### Task 11 H/A\n",
        "\n",
        "Given a long number, return all the possible sum of two digits of it.\n",
        "\n",
        "For example, 12345: all possible sum of two digits from that number are:\n",
        "\n",
        "[ 1 + 2, 1 + 3, 1 + 4, 1 + 5, 2 + 3, 2 + 4, 2 + 5, 3 + 4, 3 + 5, 4 + 5 ]\n",
        "\n",
        "Therefore the result must be:\n",
        "\n",
        "[ 3, 4, 5, 6, 5, 6, 7, 7, 8, 9 ]\n",
        "\n",
        "(156), [ 6, 7, 11 ])\n",
        "\n",
        "(81596), [ 9, 13, 17, 14, 6, 10, 7, 14, 11, 15 ])\n",
        "\n",
        "3852 [ 11, 8, 5, 13, 10, 7 ])\n",
        "\n",
        "(3264128), [ 5, 9, 7, 4, 5, 11, 8, 6, 3, 4, 10, 10, 7, 8, 14, 5, 6, 12, 3, 9, 10 ])\n",
        "\n",
        "(999999), [ 18, 18, 18, 18, 18, 18, 18, 18, 18, 18, 18, 18, 18, 18, 18 ])"
      ]
    },
    {
      "cell_type": "code",
      "execution_count": 9,
      "metadata": {
        "id": "Pvf67Ll44pQc",
        "colab": {
          "base_uri": "https://localhost:8080/"
        },
        "outputId": "fe01b738-dd6d-48ca-93c7-974bcf799bea"
      },
      "outputs": [
        {
          "output_type": "stream",
          "name": "stdout",
          "text": [
            "12345\n",
            "[1, 2, 3, 4, 5]\n",
            "12345 [3, 4, 5, 6, 5, 6, 7, 7, 8, 9]\n"
          ]
        }
      ],
      "source": [
        "x = input()\n",
        "numberslist = list(map(int, x))\n",
        "print(numberslist)\n",
        "sums=[]\n",
        "for i in range(len(numberslist)):\n",
        "    for j in range(i + 1, len(numberslist)):\n",
        "        sums.append(numberslist[i] + numberslist[j])\n",
        "print(x, sums)"
      ]
    },
    {
      "cell_type": "code",
      "source": [
        "x = input()\n",
        "numberslist = list(map(int, x))\n",
        "sums=[]\n",
        "for i in range(len(numberslist)):\n",
        "  l=i+1\n",
        "  while l<len(numberslist):\n",
        "    k=numberslist[i]+numberslist[l]\n",
        "    sums.append(k)\n",
        "    l+=1\n",
        "print(x, sums)"
      ],
      "metadata": {
        "colab": {
          "base_uri": "https://localhost:8080/"
        },
        "id": "TPOcxQ-x_4-J",
        "outputId": "5b1e2460-e000-4f4a-d7a5-a4cf5e3a5bce"
      },
      "execution_count": 11,
      "outputs": [
        {
          "output_type": "stream",
          "name": "stdout",
          "text": [
            "12345\n",
            "12345 [3, 4, 5, 6, 5, 6, 7, 7, 8, 9]\n"
          ]
        }
      ]
    },
    {
      "cell_type": "markdown",
      "metadata": {
        "id": "dMLJ4loI4pQc"
      },
      "source": [
        "### Task 12 H/A\n",
        "\n",
        "You have an integer array which was ordered by ascending except one number.\n",
        "\n",
        "\n",
        "You need to figure out the  breaker. Breaker is the item, when removed from sequence, sequence becomes ordered by ascending.\n",
        "\n",
        "For Example: [1,2,3,4,17,5,6,7,8] => 17 is the  breaker.\n",
        "\n",
        "For Example: [19,27,33,34,112,578,116,170,800] => 578 is the  breaker.\n",
        "    \n",
        "Output: the  breaker\n",
        "    \n"
      ]
    },
    {
      "cell_type": "code",
      "execution_count": 15,
      "metadata": {
        "id": "KxMQxyk34pQc",
        "colab": {
          "base_uri": "https://localhost:8080/"
        },
        "outputId": "59e55d11-ac51-4377-bd1a-17298c2d7b5a"
      },
      "outputs": [
        {
          "output_type": "stream",
          "name": "stdout",
          "text": [
            "578 is the breaker\n"
          ]
        }
      ],
      "source": [
        "arrayy=[19,27,33,34,112,578,116,170,800]\n",
        "z=0\n",
        "for i in arrayy[1:]:\n",
        "  if i<arrayy[z]:\n",
        "    print(arrayy[z], 'is the breaker')\n",
        "    break\n",
        "  else:\n",
        "    z+=1"
      ]
    },
    {
      "cell_type": "code",
      "source": [
        "arrayy=[19,27,33,34,112,578,116,170,800]\n",
        "for i in range(len(arrayy)-1):\n",
        "  if arrayy[i]>arrayy[i+1]:\n",
        "    print(f'{arrayy[i]} is the first breaker')\n",
        "    break\n"
      ],
      "metadata": {
        "colab": {
          "base_uri": "https://localhost:8080/"
        },
        "id": "tPmqZq5rDopM",
        "outputId": "9ae2a61b-f889-4b37-e954-afd69c799638"
      },
      "execution_count": 16,
      "outputs": [
        {
          "output_type": "stream",
          "name": "stdout",
          "text": [
            "578 is the first breaker\n"
          ]
        }
      ]
    },
    {
      "cell_type": "code",
      "execution_count": null,
      "metadata": {
        "id": "I6OOJczh4pQc"
      },
      "outputs": [],
      "source": [
        "\n"
      ]
    },
    {
      "cell_type": "code",
      "execution_count": null,
      "metadata": {
        "id": "7t27UsSe4pQc"
      },
      "outputs": [],
      "source": []
    }
  ],
  "metadata": {
    "kernelspec": {
      "display_name": "Python 3",
      "language": "python",
      "name": "python3"
    },
    "language_info": {
      "codemirror_mode": {
        "name": "ipython",
        "version": 3
      },
      "file_extension": ".py",
      "mimetype": "text/x-python",
      "name": "python",
      "nbconvert_exporter": "python",
      "pygments_lexer": "ipython3",
      "version": "3.8.3"
    },
    "colab": {
      "provenance": [],
      "include_colab_link": true
    }
  },
  "nbformat": 4,
  "nbformat_minor": 0
}