{
  "nbformat": 4,
  "nbformat_minor": 0,
  "metadata": {
    "colab": {
      "provenance": [],
      "authorship_tag": "ABX9TyMWwL/zgOq7ZHtcYbuT6H63",
      "include_colab_link": true
    },
    "kernelspec": {
      "name": "python3",
      "display_name": "Python 3"
    },
    "language_info": {
      "name": "python"
    }
  },
  "cells": [
    {
      "cell_type": "markdown",
      "metadata": {
        "id": "view-in-github",
        "colab_type": "text"
      },
      "source": [
        "<a href=\"https://colab.research.google.com/github/JuliaBalakina/ALATA2024/blob/main/%D0%9A%D0%BE%D0%BF%D0%B8%D1%8F_%D0%B1%D0%BB%D0%BE%D0%BA%D0%BD%D0%BE%D1%82%D0%B0_%22Test_1%2CTasks_11_13_ipynb%22.ipynb\" target=\"_parent\"><img src=\"https://colab.research.google.com/assets/colab-badge.svg\" alt=\"Open In Colab\"/></a>"
      ]
    },
    {
      "cell_type": "markdown",
      "source": [
        "Create a program that outputs \"Yes\" for two entered integers if оne of the numbers is divisible by the other without leaving a remainder, and \"No\" in all other cases."
      ],
      "metadata": {
        "id": "WfZDEI9kV3Jb"
      }
    },
    {
      "cell_type": "code",
      "source": [
        "a=int(input())\n",
        "b=int(input())\n",
        "if a%b==0 or b%a==0:\n",
        "  print('Yes')\n",
        "else:\n",
        "  print('No')\n"
      ],
      "metadata": {
        "id": "IC3CenTJWFsI",
        "colab": {
          "base_uri": "https://localhost:8080/"
        },
        "outputId": "39c1065d-f73f-4763-e858-134d6aae6105"
      },
      "execution_count": 2,
      "outputs": [
        {
          "output_type": "stream",
          "name": "stdout",
          "text": [
            "5\n",
            "3\n",
            "No\n"
          ]
        }
      ]
    },
    {
      "cell_type": "markdown",
      "source": [
        "Find the sum of numbers that are multiples of 3, from 1 to N (inclusive), using the while loop. Enter the natural number N, output the sum."
      ],
      "metadata": {
        "id": "CvIvnqKEWGlD"
      }
    },
    {
      "cell_type": "code",
      "source": [
        "n=int(input())\n",
        "summa=0\n",
        "i=1\n",
        "while i<=n:\n",
        "  if i%3==0:\n",
        "    summa+=i\n",
        "  i+=1\n",
        "print(summa)"
      ],
      "metadata": {
        "id": "Peakb_tpWL3Q",
        "colab": {
          "base_uri": "https://localhost:8080/"
        },
        "outputId": "9d300d8a-4d88-47e8-b777-9fe25087e6e2"
      },
      "execution_count": 4,
      "outputs": [
        {
          "output_type": "stream",
          "name": "stdout",
          "text": [
            "6\n",
            "9\n"
          ]
        }
      ]
    },
    {
      "cell_type": "markdown",
      "source": [
        "Check to see if a string has the same amount of numbers and letters. The method must return a boolean and be case insensitive. The string can contain any character."
      ],
      "metadata": {
        "id": "cRestT28WMHZ"
      }
    },
    {
      "cell_type": "code",
      "source": [
        "s=input()\n",
        "l=0\n",
        "n=0\n",
        "for i in s:\n",
        "  if i.isalpha():\n",
        "    l+=1\n",
        "  elif i.isdigit():\n",
        "    n+=1\n",
        "print(l==n)"
      ],
      "metadata": {
        "id": "0pOBXQmxWQyr",
        "colab": {
          "base_uri": "https://localhost:8080/"
        },
        "outputId": "f92860f8-f20e-41bc-8b5f-fcc31405a03c"
      },
      "execution_count": 6,
      "outputs": [
        {
          "output_type": "stream",
          "name": "stdout",
          "text": [
            "123?u\n",
            "False\n"
          ]
        }
      ]
    }
  ]
}