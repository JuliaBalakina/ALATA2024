{
  "cells": [
    {
      "cell_type": "markdown",
      "metadata": {
        "id": "view-in-github",
        "colab_type": "text"
      },
      "source": [
        "<a href=\"https://colab.research.google.com/github/JuliaBalakina/ALATA2024/blob/main/2024_ALaTA_01_get_ready.ipynb\" target=\"_parent\"><img src=\"https://colab.research.google.com/assets/colab-badge.svg\" alt=\"Open In Colab\"/></a>"
      ]
    },
    {
      "cell_type": "code",
      "execution_count": 1,
      "metadata": {
        "id": "6hXoNMFwpgio",
        "colab": {
          "base_uri": "https://localhost:8080/"
        },
        "outputId": "2bc59133-3303-4170-9c9e-b8d91f9d096b"
      },
      "outputs": [
        {
          "output_type": "stream",
          "name": "stdout",
          "text": [
            "Hello\n",
            "1\n",
            "22fff\n",
            "2\n"
          ]
        }
      ],
      "source": [
        "print (\"Hello\")\n",
        "print (1)\n",
        "print ('2'+'2'+'fff')\n",
        "print (1+1)"
      ]
    },
    {
      "cell_type": "markdown",
      "metadata": {
        "id": "BeRekKrPpgir"
      },
      "source": [
        "### Values and Types\n",
        "\n",
        "\n",
        "A **value** is one of the basic things a program works with, like a letter or a number.\n",
        "\n",
        "The values above are ***1***, ***\"2\"*** and ***“Hello”***, ***\"fff\"***\n",
        "\n",
        "\n",
        "These values belong to different types: 1 is an **integer**, and “Hello” is a\n",
        "**string**, so called because it contains a “string” of letters.\n",
        "\n",
        "Strings are enclosed in quotation marks.\n",
        "\n",
        "\n",
        "The print statement also works for integers.\n",
        "\n",
        "\n",
        "Python knows the difference between an integer number and a string.\n",
        "\n",
        "\n",
        "For example “+” means “addition” if something is a number and “concatenate” if something is a string.\n",
        "\n",
        "\n",
        "Python knows what “type” everything is.\n",
        "Some operations are prohibited:\n",
        "\n",
        "\n",
        "You cannot add integer \"1” to a string\n",
        "\n",
        "\n",
        "We can ask Python what type something is by using **the type() function**.\n",
        "\n"
      ]
    },
    {
      "cell_type": "code",
      "source": [
        "print(1+1)"
      ],
      "metadata": {
        "id": "LGDZda34qp-f",
        "colab": {
          "base_uri": "https://localhost:8080/"
        },
        "outputId": "5cb5615c-25e9-4560-8ca7-1d3a0004e4fe"
      },
      "execution_count": 5,
      "outputs": [
        {
          "output_type": "stream",
          "name": "stdout",
          "text": [
            "2\n"
          ]
        }
      ]
    },
    {
      "cell_type": "code",
      "execution_count": 2,
      "metadata": {
        "id": "lTTktZaHpgiu",
        "colab": {
          "base_uri": "https://localhost:8080/"
        },
        "outputId": "3de3fb55-5cee-45bd-da1d-b7adc8bffed8"
      },
      "outputs": [
        {
          "output_type": "execute_result",
          "data": {
            "text/plain": [
              "int"
            ]
          },
          "metadata": {},
          "execution_count": 2
        }
      ],
      "source": [
        "type(1)\n"
      ]
    },
    {
      "cell_type": "code",
      "execution_count": null,
      "metadata": {
        "id": "KsJWzrC8pgiu",
        "outputId": "8dd75edb-67c0-413d-9372-662a11231227"
      },
      "outputs": [
        {
          "data": {
            "text/plain": [
              "str"
            ]
          },
          "execution_count": 9,
          "metadata": {},
          "output_type": "execute_result"
        }
      ],
      "source": [
        "type('hello')"
      ]
    },
    {
      "cell_type": "code",
      "execution_count": null,
      "metadata": {
        "id": "-YiWmxuHpgiu",
        "outputId": "0a52c221-167d-42d4-ceb8-991ed274937b"
      },
      "outputs": [
        {
          "data": {
            "text/plain": [
              "str"
            ]
          },
          "execution_count": 7,
          "metadata": {},
          "output_type": "execute_result"
        }
      ],
      "source": [
        "k = 'nice'\n",
        "type (k)"
      ]
    },
    {
      "cell_type": "code",
      "execution_count": 6,
      "metadata": {
        "id": "3_VhRdlfpgiv",
        "colab": {
          "base_uri": "https://localhost:8080/",
          "height": 141
        },
        "outputId": "bfde2362-8a97-4f47-bbb0-cfb04455f27c"
      },
      "outputs": [
        {
          "output_type": "error",
          "ename": "TypeError",
          "evalue": "can only concatenate str (not \"int\") to str",
          "traceback": [
            "\u001b[0;31m---------------------------------------------------------------------------\u001b[0m",
            "\u001b[0;31mTypeError\u001b[0m                                 Traceback (most recent call last)",
            "\u001b[0;32m<ipython-input-6-137199578990>\u001b[0m in \u001b[0;36m<cell line: 1>\u001b[0;34m()\u001b[0m\n\u001b[0;32m----> 1\u001b[0;31m \u001b[0mprint\u001b[0m\u001b[0;34m(\u001b[0m\u001b[0;34m'Hello'\u001b[0m \u001b[0;34m+\u001b[0m\u001b[0;36m1\u001b[0m\u001b[0;34m)\u001b[0m\u001b[0;34m\u001b[0m\u001b[0;34m\u001b[0m\u001b[0m\n\u001b[0m",
            "\u001b[0;31mTypeError\u001b[0m: can only concatenate str (not \"int\") to str"
          ]
        }
      ],
      "source": [
        "print('Hello' +1)\n"
      ]
    },
    {
      "cell_type": "code",
      "execution_count": 7,
      "metadata": {
        "id": "sI5OYhtkpgiv",
        "colab": {
          "base_uri": "https://localhost:8080/"
        },
        "outputId": "132723a1-62ee-490a-bc7a-a666e580070e"
      },
      "outputs": [
        {
          "output_type": "stream",
          "name": "stdout",
          "text": [
            "3\n"
          ]
        }
      ],
      "source": [
        "print(1+2)"
      ]
    },
    {
      "cell_type": "code",
      "execution_count": 8,
      "metadata": {
        "id": "oHztufRypgiv",
        "colab": {
          "base_uri": "https://localhost:8080/",
          "height": 35
        },
        "outputId": "4365a7b6-8c4a-4956-e334-0c418ba1ddb3"
      },
      "outputs": [
        {
          "output_type": "execute_result",
          "data": {
            "text/plain": [
              "'nice'"
            ],
            "application/vnd.google.colaboratory.intrinsic+json": {
              "type": "string"
            }
          },
          "metadata": {},
          "execution_count": 8
        }
      ],
      "source": [
        "\"ni\"+'ce'"
      ]
    },
    {
      "cell_type": "markdown",
      "metadata": {
        "id": "ac2A1-nNpgiv"
      },
      "source": [
        "### Several Types of Numbers\n",
        "\n",
        "Numbers have two main types\n",
        "\n",
        "-  **Integers** are whole numbers:\n",
        "   -14, -2, 0, 1, 100, 401233\n",
        "\n",
        "\n",
        "-  **Floating Point Numbers** have  decimal parts:  -2.5 , 0.0, 98.6, 14.0\n",
        "\n",
        "\n",
        "There are other number types - they are variations on float and integer\n"
      ]
    },
    {
      "cell_type": "code",
      "execution_count": null,
      "metadata": {
        "id": "Ni2iBh6Fpgiv",
        "outputId": "6d65b870-3e18-402f-e6f6-44d2b68085f2"
      },
      "outputs": [
        {
          "name": "stdout",
          "output_type": "stream",
          "text": [
            "<class 'int'>\n",
            "<class 'int'>\n"
          ]
        }
      ],
      "source": [
        "y = 2\n",
        "print(type(2))\n",
        "print(type(y))"
      ]
    },
    {
      "cell_type": "markdown",
      "metadata": {
        "id": "2f94qlzApgiw"
      },
      "source": [
        "When you put an integer and floating point in an expression, the integer is implicitly converted to a float\n",
        "\n",
        "You can control this with the built-in functions int() and float()\n"
      ]
    },
    {
      "cell_type": "code",
      "execution_count": null,
      "metadata": {
        "id": "1rN3qoncpgiw",
        "outputId": "22e70d61-3607-4429-82cb-2cf68c1c306a"
      },
      "outputs": [
        {
          "data": {
            "text/plain": [
              "42.0"
            ]
          },
          "execution_count": 3,
          "metadata": {},
          "output_type": "execute_result"
        }
      ],
      "source": [
        "float(42)"
      ]
    },
    {
      "cell_type": "code",
      "execution_count": 9,
      "metadata": {
        "id": "6yIVl1FTpgiw",
        "colab": {
          "base_uri": "https://localhost:8080/"
        },
        "outputId": "d747a61c-e101-4f58-87c2-84b64a611248"
      },
      "outputs": [
        {
          "output_type": "stream",
          "name": "stdout",
          "text": [
            "42.0\n"
          ]
        },
        {
          "output_type": "execute_result",
          "data": {
            "text/plain": [
              "float"
            ]
          },
          "metadata": {},
          "execution_count": 9
        }
      ],
      "source": [
        "x = float(42)\n",
        "print(x)\n",
        "type(x)"
      ]
    },
    {
      "cell_type": "code",
      "execution_count": 10,
      "metadata": {
        "id": "aReE0wt9pgiw",
        "colab": {
          "base_uri": "https://localhost:8080/"
        },
        "outputId": "a09488b5-e159-4bdc-a2ba-4086b0f60619"
      },
      "outputs": [
        {
          "output_type": "execute_result",
          "data": {
            "text/plain": [
              "int"
            ]
          },
          "metadata": {},
          "execution_count": 10
        }
      ],
      "source": [
        "x=int(3.0)\n",
        "type(x)"
      ]
    },
    {
      "cell_type": "code",
      "execution_count": 11,
      "metadata": {
        "id": "m6Uq3WaBpgiw",
        "colab": {
          "base_uri": "https://localhost:8080/"
        },
        "outputId": "58c64e69-887e-4949-b559-3ec4a5f1b318"
      },
      "outputs": [
        {
          "output_type": "execute_result",
          "data": {
            "text/plain": [
              "int"
            ]
          },
          "metadata": {},
          "execution_count": 11
        }
      ],
      "source": [
        "i = 42\n",
        "type(i)\n",
        "\n",
        "\n"
      ]
    },
    {
      "cell_type": "code",
      "execution_count": 12,
      "metadata": {
        "id": "HeVUneJVpgix",
        "colab": {
          "base_uri": "https://localhost:8080/"
        },
        "outputId": "f84cdaa7-60f0-45e9-958a-b24ff8868896"
      },
      "outputs": [
        {
          "output_type": "stream",
          "name": "stdout",
          "text": [
            "42.0\n"
          ]
        },
        {
          "output_type": "execute_result",
          "data": {
            "text/plain": [
              "float"
            ]
          },
          "metadata": {},
          "execution_count": 12
        }
      ],
      "source": [
        "i=42\n",
        "f = float(i) ### i = 42, f=float(42)\n",
        "print(f)\n",
        "type(f)"
      ]
    },
    {
      "cell_type": "code",
      "execution_count": 18,
      "metadata": {
        "id": "4-cWiucUpgix",
        "colab": {
          "base_uri": "https://localhost:8080/"
        },
        "outputId": "20473b72-7423-4bca-e7e8-aa04d7f233a0"
      },
      "outputs": [
        {
          "output_type": "execute_result",
          "data": {
            "text/plain": [
              "int"
            ]
          },
          "metadata": {},
          "execution_count": 18
        }
      ],
      "source": [
        "a = 1\n",
        "type(a)"
      ]
    },
    {
      "cell_type": "code",
      "execution_count": 16,
      "metadata": {
        "id": "rDITNWawpgix",
        "colab": {
          "base_uri": "https://localhost:8080/"
        },
        "outputId": "ef7bc13e-e054-4e20-ddb5-0be6bebac534"
      },
      "outputs": [
        {
          "output_type": "stream",
          "name": "stdout",
          "text": [
            "1\n",
            "2\n"
          ]
        }
      ],
      "source": [
        "a =1\n",
        "b = str(a) ### b = str (1)\n",
        "type(b)\n",
        "print(b)\n",
        "print(a+int(b))\n"
      ]
    },
    {
      "cell_type": "code",
      "execution_count": 19,
      "metadata": {
        "id": "t5QWw0xLpgix",
        "colab": {
          "base_uri": "https://localhost:8080/"
        },
        "outputId": "78511791-d0e6-4ce2-c3d8-1ffd7ec756a8"
      },
      "outputs": [
        {
          "output_type": "stream",
          "name": "stdout",
          "text": [
            "8.0\n",
            "8.0\n"
          ]
        },
        {
          "output_type": "execute_result",
          "data": {
            "text/plain": [
              "str"
            ]
          },
          "metadata": {},
          "execution_count": 19
        }
      ],
      "source": [
        "a =8\n",
        "a = float(a) # 8.0\n",
        "print(a)\n",
        "a = str(a) # \"8.0\"\n",
        "print(a)\n",
        "type(a)"
      ]
    },
    {
      "cell_type": "code",
      "execution_count": 20,
      "metadata": {
        "id": "8L1jGL1zpgix",
        "colab": {
          "base_uri": "https://localhost:8080/"
        },
        "outputId": "897842f9-0831-486f-d548-0aea1cb79016"
      },
      "outputs": [
        {
          "output_type": "stream",
          "name": "stdout",
          "text": [
            "1\n",
            "11\n"
          ]
        }
      ],
      "source": [
        "b=\"1\"\n",
        "print(b)\n",
        "print('1'+ b)  ### \"1\" and b - strings. That is why concatenation occurs, when two strings merge into one."
      ]
    },
    {
      "cell_type": "code",
      "execution_count": 21,
      "metadata": {
        "id": "RUwcQbLGpgix",
        "colab": {
          "base_uri": "https://localhost:8080/"
        },
        "outputId": "66dd53b0-41a6-498f-aa2d-0e7ae5754bcc"
      },
      "outputs": [
        {
          "output_type": "stream",
          "name": "stdout",
          "text": [
            "2\n"
          ]
        }
      ],
      "source": [
        "print (1+int(b)) # 1+1"
      ]
    },
    {
      "cell_type": "code",
      "source": [
        "int (\"1\")\n",
        "str (5.78)"
      ],
      "metadata": {
        "colab": {
          "base_uri": "https://localhost:8080/"
        },
        "id": "zNCzl47Y4qUc",
        "outputId": "7ea8af27-5433-4382-89fd-df9099e44cf3"
      },
      "execution_count": 23,
      "outputs": [
        {
          "output_type": "execute_result",
          "data": {
            "text/plain": [
              "1"
            ]
          },
          "metadata": {},
          "execution_count": 23
        }
      ]
    },
    {
      "cell_type": "markdown",
      "metadata": {
        "id": "eG7_H5MWpgix"
      },
      "source": [
        "### Numeric Expressions\n",
        "\n",
        "\n",
        "'+'  Addition\n",
        "\n",
        "'-'\tSubtraction\n",
        "\n",
        "'*'\tMultiplication\n",
        "\n",
        "\n",
        "'/'\tDivision\n",
        "\n",
        "'//' Floor division. Always returns integers.\n",
        "\n",
        "\n",
        "'**' Power\n",
        "\n",
        "\n",
        "'%'\tRemainder (always non-negative)\n"
      ]
    },
    {
      "cell_type": "code",
      "execution_count": null,
      "metadata": {
        "id": "TkbmHvk5pgix",
        "outputId": "173a00ea-817c-48bd-f31a-e33912ec538c"
      },
      "outputs": [
        {
          "name": "stdout",
          "output_type": "stream",
          "text": [
            "1\n"
          ]
        }
      ],
      "source": [
        "print(7 % 3) ### 7 - (3*2) остаток от целочисленного деления (remainder of integer division)"
      ]
    },
    {
      "cell_type": "code",
      "execution_count": null,
      "metadata": {
        "id": "4cQHsUI4pgiy",
        "outputId": "744d33d2-626c-4514-949c-13e4eb45bcc9"
      },
      "outputs": [
        {
          "data": {
            "text/plain": [
              "1"
            ]
          },
          "execution_count": 30,
          "metadata": {},
          "output_type": "execute_result"
        }
      ],
      "source": [
        "11%2 # 11-10 (2*5)"
      ]
    },
    {
      "cell_type": "code",
      "execution_count": null,
      "metadata": {
        "id": "9MvNFx3zpgiy",
        "outputId": "c0c9b53a-9532-430c-9f36-88f211396ee2"
      },
      "outputs": [
        {
          "data": {
            "text/plain": [
              "4"
            ]
          },
          "execution_count": 31,
          "metadata": {},
          "output_type": "execute_result"
        }
      ],
      "source": [
        "199%5 # 199 - 195"
      ]
    },
    {
      "cell_type": "code",
      "execution_count": null,
      "metadata": {
        "id": "WkDKNIXspgiy",
        "outputId": "22dd857e-06eb-4bbb-b84b-d45c04199ab3"
      },
      "outputs": [
        {
          "name": "stdout",
          "output_type": "stream",
          "text": [
            "4.75\n",
            "4.0\n"
          ]
        }
      ],
      "source": [
        "print(9.5 / 2)\n",
        "print(9.5 // 2) # '//' Special operation to stick with integers. It returns an integer answer,\n",
        "              #rounded strictly down in case of fractional answers."
      ]
    },
    {
      "cell_type": "code",
      "execution_count": null,
      "metadata": {
        "id": "eJmsAKH9pgiy",
        "outputId": "1a78494b-cea0-4342-ec70-f44fe503fb60"
      },
      "outputs": [
        {
          "name": "stdout",
          "output_type": "stream",
          "text": [
            "3.3333333333333335\n",
            "3\n"
          ]
        }
      ],
      "source": [
        "print(10/3)\n",
        "print(10//3)"
      ]
    },
    {
      "cell_type": "code",
      "execution_count": 22,
      "metadata": {
        "id": "IHhz-DWKpgiy",
        "outputId": "e80d4e48-b505-463e-f200-68a34c69f060",
        "colab": {
          "base_uri": "https://localhost:8080/"
        }
      },
      "outputs": [
        {
          "output_type": "execute_result",
          "data": {
            "text/plain": [
              "19.857142857142858"
            ]
          },
          "metadata": {},
          "execution_count": 22
        }
      ],
      "source": [
        "139//7\n",
        "139/7"
      ]
    },
    {
      "cell_type": "markdown",
      "metadata": {
        "id": "nUXV_53Ppgiy"
      },
      "source": [
        "### Order of Evaluation\n",
        "\n",
        "When we string operators together - Python must know which one to do first\n",
        "\n",
        "This is called “operator precedence”\n",
        "\n",
        "Which operator “takes precedence” over the others?\n",
        "\n",
        "x = 1 + 2 ** 3 / 4 * 5\n",
        "\n",
        "Highest precedence rule to lowest precedence rule:\n",
        "\n",
        "Parentheses are always respected\n",
        "\n",
        "Exponentiation (raise to a power)\n",
        "\n",
        "Multiplication, Division, and Remainder\n",
        "\n",
        "Addition and Subtraction\n",
        "\n",
        "Left to right\n",
        "\n",
        "\n"
      ]
    },
    {
      "cell_type": "code",
      "execution_count": 24,
      "metadata": {
        "id": "S6v4TYJ3pgiy",
        "colab": {
          "base_uri": "https://localhost:8080/"
        },
        "outputId": "1a35085d-eef0-4cd2-d97c-1d49b4103b34"
      },
      "outputs": [
        {
          "output_type": "stream",
          "name": "stdout",
          "text": [
            "11.0\n"
          ]
        }
      ],
      "source": [
        "x = 1 + 2 ** 3 / 4 * 5         # 1) 2**3 =8, 2)8/4 = 2, 3)2*5 = 10, 4) 1+10 =11\n",
        "print (x)"
      ]
    },
    {
      "cell_type": "markdown",
      "source": [
        "## **Task 1**\n",
        "Vasya came up with the number, then he multiplied it by 7  and then reduced it by 3.\n",
        "Find Vasya's result using the program if Vasya's number is\n",
        "a) 338\n",
        "b) 1764"
      ],
      "metadata": {
        "id": "iE6RcpB5wIZt"
      }
    },
    {
      "cell_type": "code",
      "source": [
        "x=338\n",
        "print(x*7-3)\n"
      ],
      "metadata": {
        "id": "NypvKxPEwFPt",
        "colab": {
          "base_uri": "https://localhost:8080/"
        },
        "outputId": "8ef19177-7972-4c04-ff5b-325594ead1ae"
      },
      "execution_count": 25,
      "outputs": [
        {
          "output_type": "stream",
          "name": "stdout",
          "text": [
            "2363\n"
          ]
        }
      ]
    },
    {
      "cell_type": "code",
      "source": [
        "x=1764\n",
        "print(x*7-3)"
      ],
      "metadata": {
        "colab": {
          "base_uri": "https://localhost:8080/"
        },
        "id": "E1TVEo2r96hI",
        "outputId": "1d451353-5432-4dec-c7eb-a1c6e11d248a"
      },
      "execution_count": 26,
      "outputs": [
        {
          "output_type": "stream",
          "name": "stdout",
          "text": [
            "12345\n"
          ]
        }
      ]
    },
    {
      "cell_type": "markdown",
      "source": [
        "## **Task 2**\n",
        "Vasya's new number in the team -17. Print Vasya's number and the number following his separated by a space."
      ],
      "metadata": {
        "id": "-NxBBLObyZuj"
      }
    },
    {
      "cell_type": "code",
      "source": [
        "x=\"17\"\n",
        "print (\"17\",int(x)+1)"
      ],
      "metadata": {
        "id": "bFCsEztUzBkI",
        "colab": {
          "base_uri": "https://localhost:8080/"
        },
        "outputId": "e8034d6a-1ea5-4541-8631-45eabcd0d747"
      },
      "execution_count": 36,
      "outputs": [
        {
          "output_type": "stream",
          "name": "stdout",
          "text": [
            "17 18\n"
          ]
        }
      ]
    },
    {
      "cell_type": "code",
      "source": [
        "x=17\n",
        "y=x+1\n",
        "print (x,y)"
      ],
      "metadata": {
        "colab": {
          "base_uri": "https://localhost:8080/"
        },
        "id": "vMrnbsEVAxI7",
        "outputId": "2810a88d-9805-4782-d667-bef65eafe224"
      },
      "execution_count": 37,
      "outputs": [
        {
          "output_type": "stream",
          "name": "stdout",
          "text": [
            "17 18\n"
          ]
        }
      ]
    },
    {
      "cell_type": "code",
      "source": [
        "number = 17\n",
        "print(str(number) + \" \" + str(number+1))"
      ],
      "metadata": {
        "colab": {
          "base_uri": "https://localhost:8080/"
        },
        "id": "e3WWP598_LXO",
        "outputId": "44813129-2a8d-45e0-ee3a-e4db69a996c3"
      },
      "execution_count": 28,
      "outputs": [
        {
          "output_type": "stream",
          "name": "stdout",
          "text": [
            "17 18\n"
          ]
        }
      ]
    },
    {
      "cell_type": "code",
      "source": [
        "x = 17\n",
        "print(x,x+1)\n"
      ],
      "metadata": {
        "colab": {
          "base_uri": "https://localhost:8080/"
        },
        "id": "92joFvF8__nV",
        "outputId": "c7719a5e-eb31-4476-a9de-744d30ac571c"
      },
      "execution_count": 38,
      "outputs": [
        {
          "output_type": "stream",
          "name": "stdout",
          "text": [
            "17 18\n"
          ]
        }
      ]
    },
    {
      "cell_type": "code",
      "source": [],
      "metadata": {
        "id": "BN2sfCirDcFp"
      },
      "execution_count": null,
      "outputs": []
    },
    {
      "cell_type": "markdown",
      "source": [
        "# **Task 3**\n",
        "\n",
        "Complete the program that outputs the arithmetic mean of three integers. Use the formula (a+b+c)/3"
      ],
      "metadata": {
        "id": "3oZ1uPsZzlAU"
      }
    },
    {
      "cell_type": "code",
      "source": [
        "a=int(input ())\n",
        "b=int(input ())\n",
        "c=int(input ())\n",
        "print((a+b+c)/3)"
      ],
      "metadata": {
        "id": "9ViLdk8V0BBE",
        "colab": {
          "base_uri": "https://localhost:8080/"
        },
        "outputId": "553c90dd-accd-45ff-ccea-467a8c355dd7"
      },
      "execution_count": 48,
      "outputs": [
        {
          "output_type": "stream",
          "name": "stdout",
          "text": [
            "1\n",
            "1\n",
            "2\n",
            "1.3333333333333333\n"
          ]
        }
      ]
    },
    {
      "cell_type": "code",
      "source": [
        "a, b, c = int(input()), int(input()), int(input())\n",
        "print((a + b + c) / 3)"
      ],
      "metadata": {
        "colab": {
          "base_uri": "https://localhost:8080/"
        },
        "id": "4c0wkfXRCkhI",
        "outputId": "093e641d-4d1b-4979-a22b-9ec67acceaea"
      },
      "execution_count": 51,
      "outputs": [
        {
          "output_type": "stream",
          "name": "stdout",
          "text": [
            "1\n",
            "1\n",
            "2\n",
            "1.3333333333333333\n"
          ]
        }
      ]
    },
    {
      "cell_type": "markdown",
      "source": [
        "# **Task 4**\n",
        "\n",
        "Complete the program that outputs the sum of digits for the entered two-digit and three-digit integers.\n",
        "\n",
        "x=52\n",
        "output:7\n",
        "\n",
        "x=523\n",
        "output:10"
      ],
      "metadata": {
        "id": "YdKwglx31lpa"
      }
    },
    {
      "cell_type": "code",
      "source": [
        "x = 52\n",
        "b = x % 10 ## 52-50 =2\n",
        "print(b)\n",
        "a = x // 10  ## 5\n",
        "print(a)\n",
        "print(a + b)"
      ],
      "metadata": {
        "colab": {
          "base_uri": "https://localhost:8080/"
        },
        "id": "n9zmS1Zw0c4G",
        "outputId": "e0daac4f-4bba-4c06-b721-09aafbc0784d"
      },
      "execution_count": 56,
      "outputs": [
        {
          "output_type": "stream",
          "name": "stdout",
          "text": [
            "2\n",
            "5\n",
            "7\n"
          ]
        }
      ]
    },
    {
      "cell_type": "code",
      "source": [
        "x = 523\n",
        "a = x // 100\n",
        "print(a)\n",
        "b = x %100//10\n",
        "print(b)\n",
        "c = x % 10\n",
        "print(c)\n",
        "print(a + b + c)\n"
      ],
      "metadata": {
        "colab": {
          "base_uri": "https://localhost:8080/"
        },
        "id": "jgOb344MF7Me",
        "outputId": "c33bcbed-60ac-4926-f5ed-ec0712becaf0"
      },
      "execution_count": 63,
      "outputs": [
        {
          "output_type": "stream",
          "name": "stdout",
          "text": [
            "5\n",
            "2\n",
            "3\n",
            "10\n"
          ]
        }
      ]
    },
    {
      "cell_type": "code",
      "source": [
        "x = 523\n",
        "b = x %100//10  # 523 -500 =23  23//10 = 2\n",
        "print(b)"
      ],
      "metadata": {
        "colab": {
          "base_uri": "https://localhost:8080/"
        },
        "id": "ZG5SPdlaGsS1",
        "outputId": "6a97d2ba-913e-4f83-a7ad-9f6a78c4a4a8"
      },
      "execution_count": 62,
      "outputs": [
        {
          "output_type": "stream",
          "name": "stdout",
          "text": [
            "2\n"
          ]
        }
      ]
    },
    {
      "cell_type": "markdown",
      "source": [
        "**Home assignment **\n",
        "\n",
        "Petya came up with 2 integers and told Vasya first their sum, and then the remainder.\n",
        "\n",
        "Find and print Petya's numbers if he told Vasya\n",
        "\n",
        "a) 100 and 56\n",
        "\n",
        "b)2023 and 189"
      ],
      "metadata": {
        "id": "wAnw-2odFRoM"
      }
    },
    {
      "cell_type": "code",
      "source": [
        "a = 100\n",
        "b=56\n",
        "c=((a+b)//2)\n",
        "d=100-c\n",
        "print(c,d)"
      ],
      "metadata": {
        "colab": {
          "base_uri": "https://localhost:8080/"
        },
        "id": "KCPaBr0dEo6r",
        "outputId": "298662a3-ad7b-455d-ccb8-48f9bdb97c67"
      },
      "execution_count": null,
      "outputs": [
        {
          "output_type": "stream",
          "name": "stdout",
          "text": [
            "78 22\n"
          ]
        }
      ]
    },
    {
      "cell_type": "markdown",
      "metadata": {
        "id": "Zz_-4jxtpgiz"
      },
      "source": [
        "### Converting between types\n",
        "\n",
        "**int()**     converts anything to integer\n",
        "\n",
        "**float()**    converts anything to floating point number\n",
        "\n",
        "**str()**      converts anything to string\n",
        "\n"
      ]
    },
    {
      "cell_type": "code",
      "execution_count": null,
      "metadata": {
        "id": "_UIdcJMHpgiz",
        "outputId": "e5ac63b5-e616-4964-bd01-0b7c9c80ed8f"
      },
      "outputs": [
        {
          "name": "stdout",
          "output_type": "stream",
          "text": [
            "5\n",
            "7\n",
            "5\n",
            "5.0\n"
          ]
        }
      ],
      "source": [
        "x = int('5')\n",
        "print(x)\n",
        "print(2 + int('5'))\n",
        "print(str(5))\n",
        "print(float(5))"
      ]
    },
    {
      "cell_type": "code",
      "execution_count": null,
      "metadata": {
        "id": "RZO_ReyLpgiz",
        "outputId": "86477b32-6a37-48c4-d874-e6c9e4869d00"
      },
      "outputs": [
        {
          "name": "stdout",
          "output_type": "stream",
          "text": [
            "<class 'str'>\n"
          ]
        }
      ],
      "source": [
        "print(type(str(5647)))\n"
      ]
    },
    {
      "cell_type": "code",
      "execution_count": null,
      "metadata": {
        "id": "E_WXehaqpgiz",
        "outputId": "7431e82d-778a-41d6-df4a-b318a50161bb"
      },
      "outputs": [
        {
          "data": {
            "text/plain": [
              "str"
            ]
          },
          "execution_count": 24,
          "metadata": {},
          "output_type": "execute_result"
        }
      ],
      "source": [
        "x = str(5647)\n",
        "type(x)"
      ]
    },
    {
      "cell_type": "code",
      "execution_count": null,
      "metadata": {
        "id": "Xko-Welupgiz"
      },
      "outputs": [],
      "source": [
        "a = str(1+3)\n",
        "print(a)\n",
        "type(a)"
      ]
    },
    {
      "cell_type": "markdown",
      "metadata": {
        "id": "U01sCMSepgiz"
      },
      "source": [
        "### Task 5\n",
        "\n",
        "Given are an integer 5 and a string '55':\n",
        "\n",
        "1. convert a string into an integer\n",
        "2. find the sum of both integers\n"
      ]
    },
    {
      "cell_type": "code",
      "execution_count": null,
      "metadata": {
        "id": "ln9VrskDpgiz"
      },
      "outputs": [],
      "source": []
    },
    {
      "cell_type": "code",
      "execution_count": null,
      "metadata": {
        "id": "fhXS6HNSpgi0"
      },
      "outputs": [],
      "source": []
    },
    {
      "cell_type": "markdown",
      "metadata": {
        "id": "J82G-3xbpgi0"
      },
      "source": [
        "# Task 6\n",
        "\n",
        "Given are two integers  7 and 7\n",
        "1. covert integers into strings\n",
        "2. concatenate two strings"
      ]
    },
    {
      "cell_type": "code",
      "execution_count": null,
      "metadata": {
        "id": "sueH37V7pgi_"
      },
      "outputs": [],
      "source": [
        "\n"
      ]
    },
    {
      "cell_type": "code",
      "execution_count": null,
      "metadata": {
        "id": "xYmT_AF7pgjA"
      },
      "outputs": [],
      "source": [
        "print (str (7+7))"
      ]
    },
    {
      "cell_type": "markdown",
      "source": [
        "**Task 7**\n",
        "1. Nick decided to type his name 10 times separated by a space.\n",
        "2.Change the program and type any other name 10 times through 2 spaces"
      ],
      "metadata": {
        "id": "J-AYwkxz-dxt"
      }
    },
    {
      "cell_type": "code",
      "source": [
        "name =\"Nick\"\n",
        "\n"
      ],
      "metadata": {
        "id": "PTd7ygfh_bhu"
      },
      "execution_count": null,
      "outputs": []
    },
    {
      "cell_type": "markdown",
      "source": [
        "**Task 8**\n",
        "\n",
        "Use the program to help Nick type the last name and first name of any friend through 3 spaces."
      ],
      "metadata": {
        "id": "-nx7ItstAkYI"
      }
    },
    {
      "cell_type": "code",
      "source": [
        "\n"
      ],
      "metadata": {
        "id": "7NbVzod1Aro-"
      },
      "execution_count": null,
      "outputs": []
    },
    {
      "cell_type": "markdown",
      "source": [
        "**Task**\n",
        "\n",
        "Print a number in which first there are 10 ones, then 9 twos, then 8 threes\n",
        "\n",
        "Output:111111111122222222233333333"
      ],
      "metadata": {
        "id": "zNAGOYmBHrIj"
      }
    },
    {
      "cell_type": "code",
      "source": [],
      "metadata": {
        "id": "pGS2btfHHeWI"
      },
      "execution_count": null,
      "outputs": []
    },
    {
      "cell_type": "markdown",
      "source": [
        "**Task**\n",
        "\n",
        "Print the syllable \"kwa\" 20 times, the syllables should be separated by a hyphen.\n",
        "\n",
        "Output: kwa-kwa-kwa-kwa-kwa-etc."
      ],
      "metadata": {
        "id": "Shia13ZKINHk"
      }
    },
    {
      "cell_type": "code",
      "source": [],
      "metadata": {
        "id": "viqJXlB3IYPX"
      },
      "execution_count": null,
      "outputs": []
    },
    {
      "cell_type": "markdown",
      "metadata": {
        "id": "Ax_6wdjepgjA"
      },
      "source": [
        "### User Input\n",
        "\n",
        "We can instruct Python to pause and read data from the user using **the input()  function.\n",
        "\n",
        "!!! The input()  function returns a string !!!\n"
      ]
    },
    {
      "cell_type": "code",
      "execution_count": null,
      "metadata": {
        "id": "gfuK9CfCpgjB",
        "outputId": "d83293ad-d3f1-4f78-b7a0-3a50f6aca06c"
      },
      "outputs": [
        {
          "name": "stdout",
          "output_type": "stream",
          "text": [
            "Who are you? Kate\n"
          ]
        },
        {
          "data": {
            "text/plain": [
              "str"
            ]
          },
          "execution_count": 5,
          "metadata": {},
          "output_type": "execute_result"
        }
      ],
      "source": [
        "name = input('Who are you? ')\n",
        "type(name)\n"
      ]
    },
    {
      "cell_type": "code",
      "execution_count": null,
      "metadata": {
        "id": "gjJW4UhLpgjB",
        "outputId": "fb31b665-d443-42da-d881-ccffd51a917f"
      },
      "outputs": [
        {
          "name": "stdout",
          "output_type": "stream",
          "text": [
            "Welcome, Kate!\n"
          ]
        }
      ],
      "source": [
        "print('Welcome,', name + '!')"
      ]
    },
    {
      "cell_type": "code",
      "execution_count": null,
      "metadata": {
        "id": "LNVXJrcvpgjB",
        "outputId": "955f1607-200a-4e57-9edb-33965690a4ca"
      },
      "outputs": [
        {
          "name": "stdout",
          "output_type": "stream",
          "text": [
            "fg\n"
          ]
        }
      ],
      "source": [
        "x = input()"
      ]
    },
    {
      "cell_type": "code",
      "execution_count": null,
      "metadata": {
        "id": "08KXeEmmpgjB",
        "outputId": "6140a815-de6a-4b85-ee08-e6fdeeb34401"
      },
      "outputs": [
        {
          "name": "stdout",
          "output_type": "stream",
          "text": [
            "1\n"
          ]
        },
        {
          "data": {
            "text/plain": [
              "int"
            ]
          },
          "execution_count": 49,
          "metadata": {},
          "output_type": "execute_result"
        }
      ],
      "source": [
        "x = int(input())\n",
        "type(x)"
      ]
    },
    {
      "cell_type": "code",
      "execution_count": null,
      "metadata": {
        "id": "X8PhEzw5pgjB",
        "outputId": "f206c623-9040-42d0-f398-0e04099f7da7"
      },
      "outputs": [
        {
          "name": "stdout",
          "output_type": "stream",
          "text": [
            "1\n"
          ]
        },
        {
          "data": {
            "text/plain": [
              "str"
            ]
          },
          "execution_count": 50,
          "metadata": {},
          "output_type": "execute_result"
        }
      ],
      "source": [
        "x = input()\n",
        "type(x)"
      ]
    },
    {
      "cell_type": "markdown",
      "metadata": {
        "id": "4D20p7expgjC"
      },
      "source": [
        "### Converting User Input\n",
        "If we want to read a number from the user, we must convert it from a string to a number using a type conversion function.\n",
        "\n",
        "int(input()) - for integers\n",
        "\n",
        "float(input()) - for floats\n"
      ]
    },
    {
      "cell_type": "code",
      "execution_count": null,
      "metadata": {
        "id": "WCw5IKq1pgjC",
        "outputId": "30b2fa46-29ea-40d7-f1ef-96b522fa9e0a"
      },
      "outputs": [
        {
          "name": "stdout",
          "output_type": "stream",
          "text": [
            "Distance in km? 100\n",
            "Distance in miles 62.13711922373339\n"
          ]
        }
      ],
      "source": [
        "eu = input ('Distance in km? ')\n",
        "us = int(eu)/ 1.609344\n",
        "print ('Distance in miles', us)"
      ]
    },
    {
      "cell_type": "code",
      "execution_count": null,
      "metadata": {
        "id": "kn-Dx-xMpgjC",
        "outputId": "ee0a6d9b-7e9d-4637-b943-19fe1f4b1cce"
      },
      "outputs": [
        {
          "name": "stdout",
          "output_type": "stream",
          "text": [
            "Distance in km? 100\n",
            "Distance in miles 62.13711922373339\n"
          ]
        }
      ],
      "source": [
        "eu = int(input ('Distance in km? '))\n",
        "us = eu/ 1.609344\n",
        "print ('Distance in miles', us)"
      ]
    },
    {
      "cell_type": "markdown",
      "metadata": {
        "id": "hjNP2m4ipgjC"
      },
      "source": [
        "### Task 9\n",
        "\n",
        "Write a program to prompt the user for hours and rate per hour to compute gross pay.\n",
        "\n",
        "Enter Hours: 35\n",
        "\n",
        "Enter Rate: 2.75\n",
        "\n",
        "Pay: 96.25\n"
      ]
    },
    {
      "cell_type": "code",
      "execution_count": null,
      "metadata": {
        "id": "iQCzoGfgpgjC"
      },
      "outputs": [],
      "source": []
    },
    {
      "cell_type": "code",
      "execution_count": null,
      "metadata": {
        "id": "AR5Sso-2pgjC"
      },
      "outputs": [],
      "source": []
    },
    {
      "cell_type": "markdown",
      "metadata": {
        "id": "ExIchwCvpgjC"
      },
      "source": [
        "### Task 10\n",
        "\n",
        "Write a program that asks the user from the keyboard his height in centimeters, his weight in kilograms (each indicator - a new line, in a new query) and returns the following message:\n",
        "\n",
        "Body mass index: [value].\n",
        "\n",
        "where  [value] is the calculated value of the body mass index.\n",
        "\n",
        "The body mass index is calculated in the following way:\n",
        "\n",
        "BMI=m/h2\n",
        "\n",
        "where m is body weight in kilograms, h is height in meters."
      ]
    },
    {
      "cell_type": "code",
      "execution_count": null,
      "metadata": {
        "id": "Mk9VMG-_pgjD"
      },
      "outputs": [],
      "source": []
    },
    {
      "cell_type": "code",
      "execution_count": null,
      "metadata": {
        "id": "SMoQkv30pgjD"
      },
      "outputs": [],
      "source": []
    }
  ],
  "metadata": {
    "kernelspec": {
      "display_name": "Python 3 (ipykernel)",
      "language": "python",
      "name": "python3"
    },
    "language_info": {
      "codemirror_mode": {
        "name": "ipython",
        "version": 3
      },
      "file_extension": ".py",
      "mimetype": "text/x-python",
      "name": "python",
      "nbconvert_exporter": "python",
      "pygments_lexer": "ipython3",
      "version": "3.11.4"
    },
    "colab": {
      "provenance": [],
      "include_colab_link": true
    }
  },
  "nbformat": 4,
  "nbformat_minor": 0
}