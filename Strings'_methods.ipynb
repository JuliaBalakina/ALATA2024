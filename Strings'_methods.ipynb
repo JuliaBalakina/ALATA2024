{
  "cells": [
    {
      "cell_type": "markdown",
      "metadata": {
        "id": "view-in-github",
        "colab_type": "text"
      },
      "source": [
        "<a href=\"https://colab.research.google.com/github/JuliaBalakina/ALATA2024/blob/main/Strings'_methods.ipynb\" target=\"_parent\"><img src=\"https://colab.research.google.com/assets/colab-badge.svg\" alt=\"Open In Colab\"/></a>"
      ]
    },
    {
      "cell_type": "code",
      "execution_count": null,
      "metadata": {
        "id": "MXRnsDkR3Upi",
        "outputId": "85259b64-1307-4c8c-a478-25b720ea0621"
      },
      "outputs": [
        {
          "data": {
            "text/plain": [
              "'Banana'"
            ]
          },
          "execution_count": 1,
          "metadata": {},
          "output_type": "execute_result"
        }
      ],
      "source": [
        "x = 'banana'\n",
        "x.capitalize()"
      ]
    },
    {
      "cell_type": "code",
      "execution_count": null,
      "metadata": {
        "id": "q8-iXqXD3Upk",
        "outputId": "110f8028-f063-4723-d9f9-1320c95f1a89"
      },
      "outputs": [
        {
          "data": {
            "text/plain": [
              "'banana'"
            ]
          },
          "execution_count": 3,
          "metadata": {},
          "output_type": "execute_result"
        }
      ],
      "source": [
        "x = 'BANANA'\n",
        "x.casefold()"
      ]
    },
    {
      "cell_type": "code",
      "source": [
        "x = 'Banana'\n",
        "x.casefold()"
      ],
      "metadata": {
        "colab": {
          "base_uri": "https://localhost:8080/",
          "height": 35
        },
        "id": "aOWNfB3Z3kdB",
        "outputId": "d0a93bb1-3cd0-4b6c-d246-5af9c76dd99a"
      },
      "execution_count": 2,
      "outputs": [
        {
          "output_type": "execute_result",
          "data": {
            "text/plain": [
              "'banana'"
            ],
            "application/vnd.google.colaboratory.intrinsic+json": {
              "type": "string"
            }
          },
          "metadata": {},
          "execution_count": 2
        }
      ]
    },
    {
      "cell_type": "code",
      "execution_count": null,
      "metadata": {
        "id": "6CI_6Be-3Upl",
        "outputId": "097905d0-e6e8-43c8-dcfd-6a2864591f4b"
      },
      "outputs": [
        {
          "data": {
            "text/plain": [
              "'BANANA'"
            ]
          },
          "execution_count": 19,
          "metadata": {},
          "output_type": "execute_result"
        }
      ],
      "source": [
        "x.upper()"
      ]
    },
    {
      "cell_type": "code",
      "execution_count": null,
      "metadata": {
        "id": "piw0E4Cb3Upl",
        "outputId": "d73227db-0450-4d50-9313-5733c7866b63"
      },
      "outputs": [
        {
          "data": {
            "text/plain": [
              "'bAnAnA'"
            ]
          },
          "execution_count": 32,
          "metadata": {},
          "output_type": "execute_result"
        }
      ],
      "source": [
        "x = 'BaNaNa'\n",
        "x.swapcase()"
      ]
    },
    {
      "cell_type": "code",
      "execution_count": null,
      "metadata": {
        "id": "IZpKuT-B3Upl",
        "outputId": "6aa376b3-b9e2-4bfe-eeb0-f0721f828b1f"
      },
      "outputs": [
        {
          "data": {
            "text/plain": [
              "0"
            ]
          },
          "execution_count": 13,
          "metadata": {},
          "output_type": "execute_result"
        }
      ],
      "source": [
        "x = 'banana'\n",
        "x.count('p')"
      ]
    },
    {
      "cell_type": "code",
      "source": [
        "x = 'banana'\n",
        "x.count('a')"
      ],
      "metadata": {
        "colab": {
          "base_uri": "https://localhost:8080/"
        },
        "id": "ew22tYQ-3x-k",
        "outputId": "42c5d02c-02a5-4c5a-8584-f1772ef98f10"
      },
      "execution_count": 3,
      "outputs": [
        {
          "output_type": "execute_result",
          "data": {
            "text/plain": [
              "3"
            ]
          },
          "metadata": {},
          "execution_count": 3
        }
      ]
    },
    {
      "cell_type": "code",
      "execution_count": null,
      "metadata": {
        "id": "f4nZ2TXD3Upl",
        "outputId": "1af187dc-0eb1-42af-8ed6-a0e8b0a1caf5"
      },
      "outputs": [
        {
          "data": {
            "text/plain": [
              "True"
            ]
          },
          "execution_count": 9,
          "metadata": {},
          "output_type": "execute_result"
        }
      ],
      "source": [
        "x = 'banana'\n",
        "x.endswith('a')"
      ]
    },
    {
      "cell_type": "code",
      "execution_count": null,
      "metadata": {
        "id": "4UnrwcEl3Upl",
        "outputId": "789e383a-83ba-4f41-933d-bef2c580ce61"
      },
      "outputs": [
        {
          "data": {
            "text/plain": [
              "False"
            ]
          },
          "execution_count": 31,
          "metadata": {},
          "output_type": "execute_result"
        }
      ],
      "source": [
        "x = 'banana'\n",
        "x.startswith('B')"
      ]
    },
    {
      "cell_type": "code",
      "execution_count": 5,
      "metadata": {
        "colab": {
          "base_uri": "https://localhost:8080/"
        },
        "id": "SDG8zMWw3Upl",
        "outputId": "655915dc-65c3-45ab-f116-69da59384be9"
      },
      "outputs": [
        {
          "output_type": "execute_result",
          "data": {
            "text/plain": [
              "1"
            ]
          },
          "metadata": {},
          "execution_count": 5
        }
      ],
      "source": [
        "x = 'banana'\n",
        "x.find('a')"
      ]
    },
    {
      "cell_type": "code",
      "execution_count": null,
      "metadata": {
        "id": "dKHNyC5U3Upm",
        "outputId": "3290c919-838c-47d7-89c4-7cc2e58ead9a"
      },
      "outputs": [
        {
          "data": {
            "text/plain": [
              "1"
            ]
          },
          "execution_count": 17,
          "metadata": {},
          "output_type": "execute_result"
        }
      ],
      "source": [
        "x = 'banana'\n",
        "x.index('a')"
      ]
    },
    {
      "cell_type": "code",
      "execution_count": null,
      "metadata": {
        "id": "2AG-jqVu3Upm",
        "outputId": "4a683dc5-28cc-4c71-cfc2-84b0d1bd023f"
      },
      "outputs": [
        {
          "data": {
            "text/plain": [
              "False"
            ]
          },
          "execution_count": 18,
          "metadata": {},
          "output_type": "execute_result"
        }
      ],
      "source": [
        "x = 'banana!' ### characters and numbers\n",
        "x.isalnum()\n"
      ]
    },
    {
      "cell_type": "code",
      "execution_count": 9,
      "metadata": {
        "colab": {
          "base_uri": "https://localhost:8080/"
        },
        "id": "-hT-Quqm3Upm",
        "outputId": "cd558f61-6863-4465-8610-9c64063e9eb9"
      },
      "outputs": [
        {
          "output_type": "execute_result",
          "data": {
            "text/plain": [
              "True"
            ]
          },
          "metadata": {},
          "execution_count": 9
        }
      ],
      "source": [
        "y = \"banana123\"\n",
        "y.isalnum()"
      ]
    },
    {
      "cell_type": "code",
      "execution_count": null,
      "metadata": {
        "id": "nTk9_mbe3Upm",
        "outputId": "a2c23ee1-1234-4267-fa6f-00e2ac477d3d"
      },
      "outputs": [
        {
          "data": {
            "text/plain": [
              "True"
            ]
          },
          "execution_count": 2,
          "metadata": {},
          "output_type": "execute_result"
        }
      ],
      "source": [
        "x = \"m\"\n",
        "x.isalpha()"
      ]
    },
    {
      "cell_type": "code",
      "source": [
        "x = \"m\"\n",
        "x.isdigit()"
      ],
      "metadata": {
        "colab": {
          "base_uri": "https://localhost:8080/"
        },
        "id": "BBlmrT--4cxz",
        "outputId": "1a7104e1-271b-485f-ae36-a179cf9279b7"
      },
      "execution_count": 10,
      "outputs": [
        {
          "output_type": "execute_result",
          "data": {
            "text/plain": [
              "False"
            ]
          },
          "metadata": {},
          "execution_count": 10
        }
      ]
    },
    {
      "cell_type": "code",
      "execution_count": 12,
      "metadata": {
        "colab": {
          "base_uri": "https://localhost:8080/"
        },
        "id": "OUnviAuC3Upn",
        "outputId": "0991aefd-c08e-4e61-d11f-3e9c66962f11"
      },
      "outputs": [
        {
          "output_type": "execute_result",
          "data": {
            "text/plain": [
              "True"
            ]
          },
          "metadata": {},
          "execution_count": 12
        }
      ],
      "source": [
        "x = \"banana\"\n",
        "x.islower()"
      ]
    },
    {
      "cell_type": "code",
      "execution_count": 13,
      "metadata": {
        "colab": {
          "base_uri": "https://localhost:8080/"
        },
        "id": "9XCOcHMk3Upn",
        "outputId": "36b6e677-98bf-4955-eb6c-40e1f3b810c1"
      },
      "outputs": [
        {
          "output_type": "execute_result",
          "data": {
            "text/plain": [
              "False"
            ]
          },
          "metadata": {},
          "execution_count": 13
        }
      ],
      "source": [
        "x = \"Banana\"\n",
        "x.isupper()"
      ]
    },
    {
      "cell_type": "code",
      "execution_count": 14,
      "metadata": {
        "colab": {
          "base_uri": "https://localhost:8080/"
        },
        "id": "c1KkX67a3Upn",
        "outputId": "965ed0bc-020f-4e1c-d656-c9150cb152a5"
      },
      "outputs": [
        {
          "output_type": "stream",
          "name": "stdout",
          "text": [
            "man:::cat:::lion\n"
          ]
        }
      ],
      "source": [
        "x = ('man', 'cat', 'lion')\n",
        "print (':::'.join(x))"
      ]
    },
    {
      "cell_type": "code",
      "execution_count": null,
      "metadata": {
        "id": "aSQW5bbm3Upn",
        "outputId": "ab667270-0582-4111-e068-c3a0e8dbaddf"
      },
      "outputs": [
        {
          "name": "stdout",
          "output_type": "stream",
          "text": [
            "['He', 'likes', 'dogs']\n"
          ]
        }
      ],
      "source": [
        "x = \"He likes dogs\"\n",
        "x = x.split()\n",
        "print(x)"
      ]
    },
    {
      "cell_type": "code",
      "execution_count": 16,
      "metadata": {
        "colab": {
          "base_uri": "https://localhost:8080/"
        },
        "id": "B0hVRSkX3Upn",
        "outputId": "f449e8af-871d-4eac-ec62-69b45bd2c1a1"
      },
      "outputs": [
        {
          "output_type": "stream",
          "name": "stdout",
          "text": [
            "['He likes', 'dogs']\n"
          ]
        }
      ],
      "source": [
        "x = \"He likes,dogs\"\n",
        "x = x.split(',')\n",
        "print(x)"
      ]
    },
    {
      "cell_type": "code",
      "execution_count": null,
      "metadata": {
        "id": "y3hmOPys3Upn",
        "outputId": "4049fa1b-ab52-4f00-89f7-466391fd6566"
      },
      "outputs": [
        {
          "data": {
            "text/plain": [
              "'He likes cats'"
            ]
          },
          "execution_count": 25,
          "metadata": {},
          "output_type": "execute_result"
        }
      ],
      "source": [
        "x = \"He likes dogs\"\n",
        "x.replace(\"dogs\",'cats')"
      ]
    },
    {
      "cell_type": "code",
      "execution_count": null,
      "metadata": {
        "id": "K_oEU9PI3Upn",
        "outputId": "9044b767-0460-4343-dcb1-930cfb54d74b"
      },
      "outputs": [
        {
          "data": {
            "text/plain": [
              "True"
            ]
          },
          "execution_count": 35,
          "metadata": {},
          "output_type": "execute_result"
        }
      ],
      "source": [
        "\"cat\"<'cats'"
      ]
    },
    {
      "cell_type": "code",
      "execution_count": null,
      "metadata": {
        "id": "CbGpTMji3Upo",
        "outputId": "7131a156-790c-4a0b-c855-8f83bcbdfe71"
      },
      "outputs": [
        {
          "data": {
            "text/plain": [
              "True"
            ]
          },
          "execution_count": 36,
          "metadata": {},
          "output_type": "execute_result"
        }
      ],
      "source": [
        "\"cat\">'Cat'"
      ]
    },
    {
      "cell_type": "code",
      "execution_count": null,
      "metadata": {
        "id": "5MQg6iWX3Upo",
        "outputId": "927861c8-0ee7-4dec-d5f0-b787bb45d6ca"
      },
      "outputs": [
        {
          "name": "stdout",
          "output_type": "stream",
          "text": [
            "99\n",
            "97\n",
            "116\n"
          ]
        }
      ],
      "source": [
        "for i in 'cat':\n",
        "    print(ord(i))"
      ]
    },
    {
      "cell_type": "code",
      "execution_count": null,
      "metadata": {
        "id": "nsOzYGYI3Upo",
        "outputId": "5adb6d74-6453-441a-ac05-da4786b56fa7"
      },
      "outputs": [
        {
          "name": "stdout",
          "output_type": "stream",
          "text": [
            "67\n",
            "97\n",
            "116\n"
          ]
        }
      ],
      "source": [
        "for i in 'Cat':\n",
        "    print(ord(i))"
      ]
    },
    {
      "cell_type": "code",
      "execution_count": 17,
      "metadata": {
        "colab": {
          "base_uri": "https://localhost:8080/"
        },
        "id": "_thmsjPP3Upo",
        "outputId": "3437ff5c-165b-45b9-a346-a4624db8d4eb"
      },
      "outputs": [
        {
          "output_type": "execute_result",
          "data": {
            "text/plain": [
              "False"
            ]
          },
          "metadata": {},
          "execution_count": 17
        }
      ],
      "source": [
        "x ='cat'  ####Return the “identity” of an object. This is an integer which is guaranteed to be unique and constant for this object during its lifetime.Implementation detail: This is the address of the object in memory.\n",
        "y ='Cat'\n",
        "x is y\n"
      ]
    },
    {
      "cell_type": "code",
      "execution_count": null,
      "metadata": {
        "id": "npQARAMd3Upo",
        "outputId": "d91109bf-9e55-4fa2-c933-9d3d1f8fa026"
      },
      "outputs": [
        {
          "name": "stdout",
          "output_type": "stream",
          "text": [
            "1644892515056\n",
            "1644966493104\n"
          ]
        }
      ],
      "source": [
        "print(id(x))\n",
        "print(id(y))"
      ]
    }
  ],
  "metadata": {
    "kernelspec": {
      "display_name": "Python 3",
      "language": "python",
      "name": "python3"
    },
    "language_info": {
      "codemirror_mode": {
        "name": "ipython",
        "version": 3
      },
      "file_extension": ".py",
      "mimetype": "text/x-python",
      "name": "python",
      "nbconvert_exporter": "python",
      "pygments_lexer": "ipython3",
      "version": "3.8.3"
    },
    "colab": {
      "provenance": [],
      "include_colab_link": true
    }
  },
  "nbformat": 4,
  "nbformat_minor": 0
}