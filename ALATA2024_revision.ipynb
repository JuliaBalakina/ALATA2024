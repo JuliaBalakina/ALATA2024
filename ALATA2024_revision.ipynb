{
  "nbformat": 4,
  "nbformat_minor": 0,
  "metadata": {
    "colab": {
      "provenance": [],
      "authorship_tag": "ABX9TyOdh434pE6Ytn4jy9H7iUIv",
      "include_colab_link": true
    },
    "kernelspec": {
      "name": "python3",
      "display_name": "Python 3"
    },
    "language_info": {
      "name": "python"
    }
  },
  "cells": [
    {
      "cell_type": "markdown",
      "metadata": {
        "id": "view-in-github",
        "colab_type": "text"
      },
      "source": [
        "<a href=\"https://colab.research.google.com/github/JuliaBalakina/ALATA2024/blob/main/ALATA2024_revision.ipynb\" target=\"_parent\"><img src=\"https://colab.research.google.com/assets/colab-badge.svg\" alt=\"Open In Colab\"/></a>"
      ]
    },
    {
      "cell_type": "markdown",
      "source": [
        "**Task 1**\n",
        "\n",
        "Given a string of digits. confirm whether the sum of all the individual even digits are greater than the sum of all the individual odd digits. Always a string of numbers will be given.\n",
        "\n",
        "If the sum of even numbers is greater than the odd numbers print: \"Even is greater than Odd\"\n",
        "\n",
        "If the sum of odd numbers is greater than the sum of even numbers print: \"Odd is greater than Even\"\n",
        "\n",
        "If the total of both even and odd numbers are identical print: \"Even and Odd are the same\"\n",
        "\n",
        "'12' ---- 'Even is greater than Odd'\n",
        "\n",
        "'123'----- 'Odd is greater than Even'\n",
        "\n",
        "'112'-----'Even and Odd are the same'"
      ],
      "metadata": {
        "id": "BG1SbqxTpZJM"
      }
    },
    {
      "cell_type": "code",
      "source": [
        "s = input()\n",
        "even = 0\n",
        "odd = 0\n",
        "for i in s:\n",
        "    digit = int(i)\n",
        "    if digit % 2 == 0:\n",
        "        even += digit\n",
        "    else:\n",
        "        odd += digit\n",
        "if even > odd:\n",
        "    print(\"Even is greater than Odd\")\n",
        "elif odd > even:\n",
        "    print(\"Odd is greater than Even\")\n",
        "else:\n",
        "    print(\"Even and Odd are the same\")"
      ],
      "metadata": {
        "id": "duATrLruoZs1",
        "colab": {
          "base_uri": "https://localhost:8080/"
        },
        "outputId": "31312922-c206-472c-919b-b40220c5d66e"
      },
      "execution_count": 2,
      "outputs": [
        {
          "output_type": "stream",
          "name": "stdout",
          "text": [
            "1112\n",
            "Odd is greater than Even\n"
          ]
        }
      ]
    },
    {
      "cell_type": "markdown",
      "source": [
        "**Task 2**\n",
        "\n",
        "The user enters a string of letters.\n",
        "\n",
        "You must separate each element of the string from each other with a hyphen and type each element as many times as it appears in the string.\n",
        "\n",
        "Examples:\n",
        "\n",
        "\"abcd\" -> \"A-Bb-Ccc-Dddd\"\n",
        "\n",
        "\"RqaEzty\" -> \"R-Qq-Aaa-Eeee-Zzzzz-Tttttt-Yyyyyyy\"\n",
        "\n",
        "\"cwAt\" -> \"C-Ww-Aaa-Tttt\""
      ],
      "metadata": {
        "id": "ngRWmz-InwiT"
      }
    },
    {
      "cell_type": "code",
      "execution_count": 14,
      "metadata": {
        "id": "KROpP2zTnq7q",
        "colab": {
          "base_uri": "https://localhost:8080/"
        },
        "outputId": "76a443b7-351f-4b87-d441-d812bdd1dd7c"
      },
      "outputs": [
        {
          "output_type": "stream",
          "name": "stdout",
          "text": [
            "Put some letters... abcd\n",
            "A-Bb-Ccc-Dddd\n"
          ]
        }
      ],
      "source": [
        "lets = input(\"Put some letters... \")\n",
        "result = []\n",
        "count = 1\n",
        "for i in lets:\n",
        "    first=i*count+'-'\n",
        "    first=first.capitalize()\n",
        "    result.append(first)\n",
        "    count+=1\n",
        "b=''.join(result)\n",
        "print(b[:-1])"
      ]
    },
    {
      "cell_type": "markdown",
      "source": [
        "**Task 3**\n",
        "\n",
        "Write an algorithm that takes an array and moves all of the zeros to the end, preserving the order of the other elements.\n",
        "\n",
        "Input: 1,2,0,6,0,8\n",
        "\n",
        "Output: 1,2,6,8,0,0"
      ],
      "metadata": {
        "id": "yJFsLp0Asgbm"
      }
    },
    {
      "cell_type": "code",
      "source": [
        "x = input()\n",
        "x = list(map(int, x.split(',')))\n",
        "new_x = []\n",
        "new_zero = []\n",
        "for num in x:\n",
        "    if num != 0:\n",
        "        new_x.append(num)\n",
        "    else:\n",
        "        new_zero.append(num)\n",
        "new_lst = new_x + new_zero\n",
        "print(new_lst)"
      ],
      "metadata": {
        "colab": {
          "base_uri": "https://localhost:8080/"
        },
        "id": "kfmFv-_vEutS",
        "outputId": "70bc15d6-c746-4371-cec0-121b1e47d472"
      },
      "execution_count": 15,
      "outputs": [
        {
          "output_type": "stream",
          "name": "stdout",
          "text": [
            " 1,2,0,6,0,8\n",
            "[1, 2, 6, 8, 0, 0]\n"
          ]
        }
      ]
    },
    {
      "cell_type": "markdown",
      "source": [
        "**Task 4**\n",
        "\n",
        "Your task is to sort a given string. Each word in the string will contain a single number. This number is the position the word should have in the result.\n",
        "\n",
        "Note: Numbers can be from 1 to 9.\n",
        "\n",
        "So 1 will be the first word (not 0)\n",
        "\n",
        "\"is2 Thi1s T4est 3a\"  -->  \"Thi1s is2 3a T4est\"\n",
        "\n",
        "\"4of Fo1r pe6ople g3ood th5e the2\"  -->  \"Fo1r the2 g3ood 4of th5e pe6ople\""
      ],
      "metadata": {
        "id": "ugHan2LDuz_e"
      }
    },
    {
      "cell_type": "code",
      "source": [
        "s=input()\n",
        "z=[]\n",
        "for i in range(1,10):\n",
        "  for j in list(s.split()):\n",
        "      if str(i) in j:\n",
        "        z.append(j)\n",
        "print(' '.join(z))"
      ],
      "metadata": {
        "colab": {
          "base_uri": "https://localhost:8080/"
        },
        "id": "o9L0I2WMHJ5M",
        "outputId": "caeda3c1-2453-4802-d3aa-65f9fd72bb8e"
      },
      "execution_count": 19,
      "outputs": [
        {
          "output_type": "stream",
          "name": "stdout",
          "text": [
            "is2 Thi1s T4est 3a\n",
            "Thi1s is2 3a T4est\n"
          ]
        }
      ]
    },
    {
      "cell_type": "markdown",
      "source": [
        "**Task 5**\n",
        "\n",
        "Your task is to create a programme that takes a string of two words, separated by a space and returns a spoonerism of those words in a string.\n",
        "\n",
        "In its most basic form a spoonerism is a two word phrase in which only the first letters of each word are swapped:\n",
        "\n",
        "\"not picking\" --> \"pot nicking\""
      ],
      "metadata": {
        "id": "JqILz-ETvyTd"
      }
    },
    {
      "cell_type": "code",
      "source": [
        "words=input()\n",
        "a,b =words.split()\n",
        "print(' '.join ((b[0]+a[1:],a[0]+b[1:])))"
      ],
      "metadata": {
        "colab": {
          "base_uri": "https://localhost:8080/"
        },
        "id": "5PGezEEkwMmQ",
        "outputId": "f2e3e95c-3a7c-49d5-f799-c1632c10d5ed"
      },
      "execution_count": 20,
      "outputs": [
        {
          "output_type": "stream",
          "name": "stdout",
          "text": [
            "not picking\n",
            "pot nicking\n"
          ]
        }
      ]
    },
    {
      "cell_type": "code",
      "source": [
        "words=input().split()\n",
        "a=list(words[0])\n",
        "b=list(words[1])\n",
        "print (a,b)\n",
        "a[0],b[0]=b[0],a[0]\n",
        "print(''.join(a)+' '+''.join(b))"
      ],
      "metadata": {
        "colab": {
          "base_uri": "https://localhost:8080/"
        },
        "id": "IwXQN5hqL02B",
        "outputId": "7c2a13ca-c9d6-41e6-bb79-7bd4db2de1a1"
      },
      "execution_count": 22,
      "outputs": [
        {
          "output_type": "stream",
          "name": "stdout",
          "text": [
            "not picking\n",
            "['n', 'o', 't'] ['p', 'i', 'c', 'k', 'i', 'n', 'g']\n",
            "pot nicking\n"
          ]
        }
      ]
    },
    {
      "cell_type": "markdown",
      "source": [
        "**Task 6**\n",
        "\n",
        "The manager of Ollivander's wand store is checking the functionality of the magic wands sales system.\n",
        "\n",
        "At random, he writes down information about the sold magic wands in the form of a list containing the name and surname of the owner, the year of purchase and the material from which the wand is made.\n",
        "\n",
        "The entries are entered until the manager enters the word \"End\".\n",
        "\n",
        "Sometimes the store owner, Ollivander, wants to remember everyone who bought a wand from him in a particular year. If no one bought a wand in the specified year, then the phrase is displayed: \"This year no one bought magic wands.\"\n",
        "\n",
        "INPUT FORMAT\n",
        "\n",
        " Lines \"Name, year, material\".\n",
        " Year.\n",
        "Each on a new line.\n",
        "\n",
        "OUTPUT FORMAT\n",
        "\n",
        " A line like \"In (year) magic wands were bought by:\" and listing the names of those who bought the magic wand, as well as specifying the material from which it is made (either cherry tree or vine), the line ends with a period. Or the line \"Nobody bought magic wands this year.\"\n",
        "EXAMPLE:\n",
        "\n",
        "INPUT:\n",
        "\n",
        "Neville Longbottom, 1989, cherry tree\n",
        "\n",
        "Hermione Granger, 1989, vine\n",
        "\n",
        "End\n",
        "\n",
        "1989\n",
        "\n",
        "OUTPUT:\n",
        "\n",
        "In 1989, the magic wands were bought by: Neville Longbottom (material - cherry tree), Hermione Granger (material - vine)."
      ],
      "metadata": {
        "id": "tiBoYEkAp9xt"
      }
    }
  ]
}