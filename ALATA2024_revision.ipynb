{
  "nbformat": 4,
  "nbformat_minor": 0,
  "metadata": {
    "colab": {
      "provenance": [],
      "authorship_tag": "ABX9TyMwKkcA0tzjhRg4FWsW9Mb+",
      "include_colab_link": true
    },
    "kernelspec": {
      "name": "python3",
      "display_name": "Python 3"
    },
    "language_info": {
      "name": "python"
    }
  },
  "cells": [
    {
      "cell_type": "markdown",
      "metadata": {
        "id": "view-in-github",
        "colab_type": "text"
      },
      "source": [
        "<a href=\"https://colab.research.google.com/github/JuliaBalakina/ALATA2024/blob/main/ALATA2024_revision.ipynb\" target=\"_parent\"><img src=\"https://colab.research.google.com/assets/colab-badge.svg\" alt=\"Open In Colab\"/></a>"
      ]
    },
    {
      "cell_type": "markdown",
      "source": [
        "**Task 1**\n",
        "\n",
        "Given a string of digits confirm whether the sum of all the individual even digits are greater than the sum of all the individual odd digits. Always a string of numbers will be given.\n",
        "\n",
        "If the sum of even numbers is greater than the odd numbers print: \"Even is greater than Odd\"\n",
        "\n",
        "If the sum of odd numbers is greater than the sum of even numbers print: \"Odd is greater than Even\"\n",
        "\n",
        "If the total of both even and odd numbers are identical print: \"Even and Odd are the same\"\n",
        "\n",
        "'12' ---- 'Even is greater than Odd'\n",
        "\n",
        "'123'----- 'Odd is greater than Even'\n",
        "\n",
        "'112'-----'Even and Odd are the same'"
      ],
      "metadata": {
        "id": "BG1SbqxTpZJM"
      }
    },
    {
      "cell_type": "code",
      "source": [],
      "metadata": {
        "id": "duATrLruoZs1"
      },
      "execution_count": null,
      "outputs": []
    },
    {
      "cell_type": "markdown",
      "source": [
        "**Task 2**\n",
        "\n",
        "The user enters a string of letters.\n",
        "\n",
        "You must separate each element of the string from each other with a hyphen and type each element as many times as it appears in the string.\n",
        "\n",
        "Examples:\n",
        "\n",
        "\"abcd\" -> \"A-Bb-Ccc-Dddd\"\n",
        "\n",
        "\"RqaEzty\" -> \"R-Qq-Aaa-Eeee-Zzzzz-Tttttt-Yyyyyyy\"\n",
        "\n",
        "\"cwAt\" -> \"C-Ww-Aaa-Tttt\""
      ],
      "metadata": {
        "id": "ngRWmz-InwiT"
      }
    },
    {
      "cell_type": "code",
      "execution_count": null,
      "metadata": {
        "id": "KROpP2zTnq7q"
      },
      "outputs": [],
      "source": []
    },
    {
      "cell_type": "markdown",
      "source": [
        "**Task 3**\n",
        "\n",
        "Write an algorithm that takes an array and moves all of the zeros to the end, preserving the order of the other elements.\n",
        "\n",
        "Input: 1,2,0,6,0,8\n",
        "\n",
        "Output: 1,2,6,8,0,0"
      ],
      "metadata": {
        "id": "yJFsLp0Asgbm"
      }
    },
    {
      "cell_type": "markdown",
      "source": [
        "**Task 4**\n",
        "\n",
        "Your task is to sort a given string. Each word in the string will contain a single number. This number is the position the word should have in the result.\n",
        "\n",
        "Note: Numbers can be from 1 to 9.\n",
        "\n",
        "So 1 will be the first word (not 0)\n",
        "\n",
        "\"is2 Thi1s T4est 3a\"  -->  \"Thi1s is2 3a T4est\"\n",
        "\n",
        "\"4of Fo1r pe6ople g3ood th5e the2\"  -->  \"Fo1r the2 g3ood 4of th5e pe6ople\""
      ],
      "metadata": {
        "id": "ugHan2LDuz_e"
      }
    },
    {
      "cell_type": "markdown",
      "source": [
        "**Task 5**\n",
        "\n",
        "Your task is to create a programme that takes a string of two words, separated by a space and returns a spoonerism of those words in a string.\n",
        "\n",
        "In its most basic form a spoonerism is a two word phrase in which only the first letters of each word are swapped:\n",
        "\n",
        "\"not picking\" --> \"pot nicking\""
      ],
      "metadata": {
        "id": "JqILz-ETvyTd"
      }
    },
    {
      "cell_type": "code",
      "source": [],
      "metadata": {
        "colab": {
          "base_uri": "https://localhost:8080/"
        },
        "id": "5PGezEEkwMmQ",
        "outputId": "44b2486c-0760-46b9-c701-d0108ba37ca9"
      },
      "execution_count": null,
      "outputs": [
        {
          "output_type": "stream",
          "name": "stdout",
          "text": [
            "not picking\n",
            "pot nicking\n"
          ]
        }
      ]
    },
    {
      "cell_type": "markdown",
      "source": [
        "**Task 6**\n",
        "\n",
        "The manager of Ollivander's wand store is checking the functionality of the magic wands sales system.\n",
        "\n",
        "At random, he writes down information about the sold magic wands in the form of a list containing the name and surname of the owner, the year of purchase and the material from which the wand is made.\n",
        "\n",
        "The entries are entered until the manager enters the word \"End\".\n",
        "\n",
        "Sometimes the store owner, Ollivander, wants to remember everyone who bought a wand from him in a particular year. If no one bought a wand in the specified year, then the phrase is displayed: \"This year no one bought magic wands.\"\n",
        "\n",
        "INPUT FORMAT\n",
        "\n",
        " Lines \"Name, year, material\".\n",
        " Year.\n",
        "Each on a new line.\n",
        "\n",
        "OUTPUT FORMAT\n",
        "\n",
        " A line like \"In (year) magic wands were bought by:\" and listing the names of those who bought the magic wand, as well as specifying the material from which it is made (either cherry tree or vine), the line ends with a period. Or the line \"Nobody bought magic wands this year.\"\n",
        "EXAMPLE:\n",
        "\n",
        "INPUT:\n",
        "\n",
        "Neville Longbottom, 1989, cherry tree\n",
        "\n",
        "Hermione Granger, 1989, vine\n",
        "\n",
        "End\n",
        "\n",
        "1989\n",
        "\n",
        "OUTPUT:\n",
        "\n",
        "In 1989, the magic wands were bought by: Neville Longbottom (material - cherry tree), Hermione Granger (material - vine)."
      ],
      "metadata": {
        "id": "tiBoYEkAp9xt"
      }
    }
  ]
}